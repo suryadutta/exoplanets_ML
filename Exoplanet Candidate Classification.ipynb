{
 "cells": [
  {
   "cell_type": "markdown",
   "metadata": {},
   "source": [
    "# Applying Machine Learning to Exoplanet Candidate Classification"
   ]
  },
  {
   "cell_type": "markdown",
   "metadata": {},
   "source": [
    "### Data produced by the NASA Exoplanet Archive  http://exoplanetarchive.ipac.caltech.edu\n",
    "\n",
    "Data used for prediction model:\n",
    "* koi_period:     Orbital Period [days]\n",
    "* koi_time0bk:    Transit Epoch [BKJD]\n",
    "* koi_impact:     Impact Parameter\n",
    "* koi_duration:   Transit Duration [hrs]\n",
    "* koi_depth:      Transit Depth [ppm]\n",
    "* koi_prad:       Planetary Radius [Earth radii]\n",
    "* koi_teq:        Equilibrium Temperature [K]\n",
    "* koi_insol:      Insolation Flux [Earth flux]\n",
    "* koi_model_snr:  Transit Signal-to-Noise\n",
    "* koi_steff:      Stellar Effective Temperature [K]\n",
    "* koi_slogg:      Stellar Surface Gravity [log10(cm/s**2)]\n",
    "* koi_srad:       Stellar Radius [Solar radii]"
   ]
  },
  {
   "cell_type": "code",
   "execution_count": 37,
   "metadata": {
    "scrolled": false
   },
   "outputs": [
    {
     "name": "stdout",
     "output_type": "stream",
     "text": [
      "Checking whether there is an H2O instance running at http://localhost:54321. connected.\n"
     ]
    },
    {
     "data": {
      "text/html": [
       "<div style=\"overflow:auto\"><table style=\"width:50%\"><tr><td>H2O cluster uptime:</td>\n",
       "<td>1 min 47 secs</td></tr>\n",
       "<tr><td>H2O cluster version:</td>\n",
       "<td>3.10.4.8</td></tr>\n",
       "<tr><td>H2O cluster version age:</td>\n",
       "<td>1 month and 1 day </td></tr>\n",
       "<tr><td>H2O cluster name:</td>\n",
       "<td>H2O_from_python_root_oftlh2</td></tr>\n",
       "<tr><td>H2O cluster total nodes:</td>\n",
       "<td>1</td></tr>\n",
       "<tr><td>H2O cluster free memory:</td>\n",
       "<td>7.095 Gb</td></tr>\n",
       "<tr><td>H2O cluster total cores:</td>\n",
       "<td>4</td></tr>\n",
       "<tr><td>H2O cluster allowed cores:</td>\n",
       "<td>1</td></tr>\n",
       "<tr><td>H2O cluster status:</td>\n",
       "<td>locked, healthy</td></tr>\n",
       "<tr><td>H2O connection url:</td>\n",
       "<td>http://localhost:54321</td></tr>\n",
       "<tr><td>H2O connection proxy:</td>\n",
       "<td>None</td></tr>\n",
       "<tr><td>H2O internal security:</td>\n",
       "<td>False</td></tr>\n",
       "<tr><td>Python version:</td>\n",
       "<td>2.7.12 final</td></tr></table></div>"
      ],
      "text/plain": [
       "--------------------------  ---------------------------\n",
       "H2O cluster uptime:         1 min 47 secs\n",
       "H2O cluster version:        3.10.4.8\n",
       "H2O cluster version age:    1 month and 1 day\n",
       "H2O cluster name:           H2O_from_python_root_oftlh2\n",
       "H2O cluster total nodes:    1\n",
       "H2O cluster free memory:    7.095 Gb\n",
       "H2O cluster total cores:    4\n",
       "H2O cluster allowed cores:  1\n",
       "H2O cluster status:         locked, healthy\n",
       "H2O connection url:         http://localhost:54321\n",
       "H2O connection proxy:\n",
       "H2O internal security:      False\n",
       "Python version:             2.7.12 final\n",
       "--------------------------  ---------------------------"
      ]
     },
     "metadata": {},
     "output_type": "display_data"
    }
   ],
   "source": [
    "#initialize machine learning tool H2O.ai\n",
    "import h2o\n",
    "import pandas as pd\n",
    "h2o.init(nthreads = 1, max_mem_size=8)"
   ]
  },
  {
   "cell_type": "markdown",
   "metadata": {},
   "source": [
    "## Training Data: Already Classified Exoplanets\n",
    "\n",
    "Exoplanets that are already classified as \"CONFIRMED\" or \"FALSE POSITIVES\" are used to train the machine learning algorithm"
   ]
  },
  {
   "cell_type": "code",
   "execution_count": 21,
   "metadata": {
    "scrolled": false
   },
   "outputs": [
    {
     "name": "stdout",
     "output_type": "stream",
     "text": [
      "Parse progress: |█████████████████████████████████████████████████████████| 100%\n"
     ]
    }
   ],
   "source": [
    "exoplanets_csv = \"data/exoplanet_results.csv\"\n",
    "data = h2o.import_file(exoplanets_csv)"
   ]
  },
  {
   "cell_type": "code",
   "execution_count": 22,
   "metadata": {
    "scrolled": false
   },
   "outputs": [
    {
     "data": {
      "text/plain": [
       "[['CONFIRMED', 'FALSE POSITIVE']]"
      ]
     },
     "execution_count": 22,
     "metadata": {},
     "output_type": "execute_result"
    }
   ],
   "source": [
    "#Using classification as binary factor, outputs possible factors\n",
    "data['koi_disposition'] = data['koi_disposition'].asfactor()\n",
    "data['koi_disposition'].levels()"
   ]
  },
  {
   "cell_type": "markdown",
   "metadata": {},
   "source": [
    "We split the data into three sets - a training set, a validation set, and a testing set. The training set is used to actual train the model. The validation set is used to select the best model for the applicable data set. The test set is used to determine the accuracy of the model"
   ]
  },
  {
   "cell_type": "code",
   "execution_count": 23,
   "metadata": {
    "collapsed": true,
    "scrolled": false
   },
   "outputs": [],
   "source": [
    "splits = data.split_frame(ratios=[0.7, 0.15], seed=1)  \n",
    "\n",
    "train = splits[0]\n",
    "valid = splits[1]\n",
    "test = splits[2]"
   ]
  },
  {
   "cell_type": "code",
   "execution_count": 24,
   "metadata": {
    "scrolled": false
   },
   "outputs": [
    {
     "name": "stdout",
     "output_type": "stream",
     "text": [
      "5150\n",
      "1066\n",
      "1100\n"
     ]
    }
   ],
   "source": [
    "#note that these sets are not even. h2oai uses a seed to maintain some variability\n",
    "print train.nrow\n",
    "print valid.nrow\n",
    "print test.nrow"
   ]
  },
  {
   "cell_type": "code",
   "execution_count": 25,
   "metadata": {
    "collapsed": true,
    "scrolled": false
   },
   "outputs": [],
   "source": [
    "y = 'koi_disposition'\n",
    "x = list(data.columns)"
   ]
  },
  {
   "cell_type": "code",
   "execution_count": 26,
   "metadata": {
    "scrolled": false
   },
   "outputs": [],
   "source": [
    "#remove columns not used for prediction model\n",
    "x.remove(y)  #remove the response\n",
    "x.remove('rowid') \n",
    "x.remove('kepid')\n",
    "x.remove('kepoi_name')\n",
    "x.remove('kepler_name')"
   ]
  },
  {
   "cell_type": "markdown",
   "metadata": {},
   "source": [
    "## First Model: Generalized Logistic Regression Model\n",
    "W e first run a test using one of the simplest machine learning method, the generalized linear model. Because this is a binary classification, we use a logistic regression as a classification method. This will give us a test case and some preliminary results. We can implement more advanced techniques later"
   ]
  },
  {
   "cell_type": "code",
   "execution_count": 27,
   "metadata": {
    "collapsed": true,
    "scrolled": false
   },
   "outputs": [],
   "source": [
    "from h2o.estimators.glm import H2OGeneralizedLinearEstimator"
   ]
  },
  {
   "cell_type": "code",
   "execution_count": 28,
   "metadata": {
    "collapsed": true,
    "scrolled": false
   },
   "outputs": [],
   "source": [
    "#Simple GLM\n",
    "glm_fit1 = H2OGeneralizedLinearEstimator(family='binomial', model_id='glm_fit1')"
   ]
  },
  {
   "cell_type": "code",
   "execution_count": 29,
   "metadata": {
    "scrolled": false
   },
   "outputs": [
    {
     "name": "stdout",
     "output_type": "stream",
     "text": [
      "glm Model Build progress: |███████████████████████████████████████████████| 100%\n"
     ]
    }
   ],
   "source": [
    "glm_fit1.train(x=x, y=y, training_frame=train)\n"
   ]
  },
  {
   "cell_type": "markdown",
   "metadata": {},
   "source": [
    "### Testing Model with Test Set"
   ]
  },
  {
   "cell_type": "code",
   "execution_count": 30,
   "metadata": {
    "collapsed": true,
    "scrolled": false
   },
   "outputs": [],
   "source": [
    "glm_perf1 = glm_fit1.model_performance(test)"
   ]
  },
  {
   "cell_type": "code",
   "execution_count": 31,
   "metadata": {
    "scrolled": false
   },
   "outputs": [
    {
     "name": "stdout",
     "output_type": "stream",
     "text": [
      "Confusion Matrix (Act/Pred) for max f1 @ threshold = 0.467997156851: \n"
     ]
    },
    {
     "data": {
      "text/html": [
       "<div style=\"overflow:auto\"><table style=\"width:50%\"><tr><td><b></b></td>\n",
       "<td><b>CONFIRMED</b></td>\n",
       "<td><b>FALSE POSITIVE</b></td>\n",
       "<td><b>Error</b></td>\n",
       "<td><b>Rate</b></td></tr>\n",
       "<tr><td>CONFIRMED</td>\n",
       "<td>254.0</td>\n",
       "<td>92.0</td>\n",
       "<td>0.2659</td>\n",
       "<td> (92.0/346.0)</td></tr>\n",
       "<tr><td>FALSE POSITIVE</td>\n",
       "<td>83.0</td>\n",
       "<td>671.0</td>\n",
       "<td>0.1101</td>\n",
       "<td> (83.0/754.0)</td></tr>\n",
       "<tr><td>Total</td>\n",
       "<td>337.0</td>\n",
       "<td>763.0</td>\n",
       "<td>0.1591</td>\n",
       "<td> (175.0/1100.0)</td></tr></table></div>"
      ],
      "text/plain": [
       "                CONFIRMED    FALSE POSITIVE    Error    Rate\n",
       "--------------  -----------  ----------------  -------  --------------\n",
       "CONFIRMED       254          92                0.2659   (92.0/346.0)\n",
       "FALSE POSITIVE  83           671               0.1101   (83.0/754.0)\n",
       "Total           337          763               0.1591   (175.0/1100.0)"
      ]
     },
     "metadata": {},
     "output_type": "display_data"
    },
    {
     "name": "stdout",
     "output_type": "stream",
     "text": [
      "\n"
     ]
    }
   ],
   "source": [
    "print glm_perf1.confusion_matrix()"
   ]
  },
  {
   "cell_type": "markdown",
   "metadata": {},
   "source": [
    "This confusion matrix gives the results of running this model on the test set we specified above. The columns represent the model predictions, while the rows represent the actual data. We see that this model can classify confirmed exoplanets 70-75% of the time, while it can classify False Positives ~90% of the time. Although these are rough estimates, they do give some indication to the performance of the model."
   ]
  },
  {
   "cell_type": "code",
   "execution_count": 32,
   "metadata": {
    "scrolled": false
   },
   "outputs": [
    {
     "name": "stdout",
     "output_type": "stream",
     "text": [
      "0.90631276736\n"
     ]
    }
   ],
   "source": [
    "# Retreive test set AUC\n",
    "print glm_perf1.auc()"
   ]
  },
  {
   "cell_type": "markdown",
   "metadata": {},
   "source": [
    "AUC: The expected true positive rate if the ranking is split just before a uniformly drawn random negative. \n",
    "\n",
    "From h2o.ai training manual: \n",
    "\n",
    "> For logistic regression (i.e.  binomial classification) models, look for AUC\n",
    "> * Too close to 0.5:  model doesnt predict well\n",
    "> * Too close to 1:  model predicts too well\n",
    "\n",
    "According to this, this model predicts too well. This indicates that, most likely, there is/are variable(s) we are using in the prediction model that is tied too closely to the classification of CANDIDATE or FALSE POSITIVE. Unclear which variable(s) these are.  "
   ]
  },
  {
   "cell_type": "markdown",
   "metadata": {},
   "source": [
    "### Apply Prediction Model to Exoplanet Candidates"
   ]
  },
  {
   "cell_type": "code",
   "execution_count": 33,
   "metadata": {
    "scrolled": false
   },
   "outputs": [
    {
     "name": "stdout",
     "output_type": "stream",
     "text": [
      "Parse progress: |█████████████████████████████████████████████████████████| 100%\n"
     ]
    }
   ],
   "source": [
    "#import candidate data file\n",
    "candidate_csv = \"data/candidates.csv\"\n",
    "candidateData = h2o.import_file(candidate_csv)\n"
   ]
  },
  {
   "cell_type": "code",
   "execution_count": 34,
   "metadata": {
    "scrolled": false
   },
   "outputs": [
    {
     "name": "stdout",
     "output_type": "stream",
     "text": [
      "glm prediction progress: |████████████████████████████████████████████████| 100%\n"
     ]
    }
   ],
   "source": [
    "#run GLM w/ lambda prediction model on Candidate Data\n",
    "glmpredict = glm_fit1.predict(candidateData)"
   ]
  },
  {
   "cell_type": "code",
   "execution_count": 35,
   "metadata": {},
   "outputs": [
    {
     "name": "stdout",
     "output_type": "stream",
     "text": [
      "Export File progress: |███████████████████████████████████████████████████| 100%\n"
     ]
    }
   ],
   "source": [
    "candidateCombine = candidateData.cbind(glmpredict)\n",
    "h2o.export_file(candidateCombine, \"data/candidate_predict.csv\")"
   ]
  },
  {
   "cell_type": "code",
   "execution_count": 57,
   "metadata": {},
   "outputs": [],
   "source": [
    "candidatePredictData = pd.read_csv('data/candidate_predict.csv').sort_values('CONFIRMED')"
   ]
  },
  {
   "cell_type": "markdown",
   "metadata": {},
   "source": [
    "#### Most likey to be false positives"
   ]
  },
  {
   "cell_type": "code",
   "execution_count": 54,
   "metadata": {},
   "outputs": [
    {
     "data": {
      "text/html": [
       "<div>\n",
       "<style>\n",
       "    .dataframe thead tr:only-child th {\n",
       "        text-align: right;\n",
       "    }\n",
       "\n",
       "    .dataframe thead th {\n",
       "        text-align: left;\n",
       "    }\n",
       "\n",
       "    .dataframe tbody tr th {\n",
       "        vertical-align: top;\n",
       "    }\n",
       "</style>\n",
       "<table border=\"1\" class=\"dataframe\">\n",
       "  <thead>\n",
       "    <tr style=\"text-align: right;\">\n",
       "      <th></th>\n",
       "      <th>kepid</th>\n",
       "      <th>predict</th>\n",
       "      <th>CONFIRMED</th>\n",
       "      <th>FALSE POSITIVE</th>\n",
       "    </tr>\n",
       "  </thead>\n",
       "  <tbody>\n",
       "    <tr>\n",
       "      <th>1422</th>\n",
       "      <td>5131276</td>\n",
       "      <td>FALSE POSITIVE</td>\n",
       "      <td>0.0</td>\n",
       "      <td>1.0</td>\n",
       "    </tr>\n",
       "    <tr>\n",
       "      <th>1839</th>\n",
       "      <td>9790965</td>\n",
       "      <td>FALSE POSITIVE</td>\n",
       "      <td>0.0</td>\n",
       "      <td>1.0</td>\n",
       "    </tr>\n",
       "    <tr>\n",
       "      <th>1962</th>\n",
       "      <td>9025662</td>\n",
       "      <td>FALSE POSITIVE</td>\n",
       "      <td>0.0</td>\n",
       "      <td>1.0</td>\n",
       "    </tr>\n",
       "    <tr>\n",
       "      <th>32</th>\n",
       "      <td>10287723</td>\n",
       "      <td>FALSE POSITIVE</td>\n",
       "      <td>0.0</td>\n",
       "      <td>1.0</td>\n",
       "    </tr>\n",
       "    <tr>\n",
       "      <th>1266</th>\n",
       "      <td>6790592</td>\n",
       "      <td>FALSE POSITIVE</td>\n",
       "      <td>0.0</td>\n",
       "      <td>1.0</td>\n",
       "    </tr>\n",
       "  </tbody>\n",
       "</table>\n",
       "</div>"
      ],
      "text/plain": [
       "         kepid         predict  CONFIRMED  FALSE POSITIVE\n",
       "1422   5131276  FALSE POSITIVE        0.0             1.0\n",
       "1839   9790965  FALSE POSITIVE        0.0             1.0\n",
       "1962   9025662  FALSE POSITIVE        0.0             1.0\n",
       "32    10287723  FALSE POSITIVE        0.0             1.0\n",
       "1266   6790592  FALSE POSITIVE        0.0             1.0"
      ]
     },
     "execution_count": 54,
     "metadata": {},
     "output_type": "execute_result"
    }
   ],
   "source": [
    "pd.DataFrame(candidatePredictData, columns = ['kepid', 'predict','CONFIRMED','FALSE POSITIVE'])[0:5]"
   ]
  },
  {
   "cell_type": "markdown",
   "metadata": {},
   "source": [
    "#### Most likely to be confirmed exoplanets"
   ]
  },
  {
   "cell_type": "code",
   "execution_count": 72,
   "metadata": {},
   "outputs": [
    {
     "data": {
      "text/html": [
       "<div>\n",
       "<style>\n",
       "    .dataframe thead tr:only-child th {\n",
       "        text-align: right;\n",
       "    }\n",
       "\n",
       "    .dataframe thead th {\n",
       "        text-align: left;\n",
       "    }\n",
       "\n",
       "    .dataframe tbody tr th {\n",
       "        vertical-align: top;\n",
       "    }\n",
       "</style>\n",
       "<table border=\"1\" class=\"dataframe\">\n",
       "  <thead>\n",
       "    <tr style=\"text-align: right;\">\n",
       "      <th></th>\n",
       "      <th>kepid</th>\n",
       "      <th>predict</th>\n",
       "      <th>CONFIRMED</th>\n",
       "      <th>FALSE POSITIVE</th>\n",
       "    </tr>\n",
       "  </thead>\n",
       "  <tbody>\n",
       "    <tr>\n",
       "      <th>1158</th>\n",
       "      <td>5384713</td>\n",
       "      <td>CONFIRMED</td>\n",
       "      <td>0.909577</td>\n",
       "      <td>0.090423</td>\n",
       "    </tr>\n",
       "    <tr>\n",
       "      <th>109</th>\n",
       "      <td>9427402</td>\n",
       "      <td>CONFIRMED</td>\n",
       "      <td>0.908379</td>\n",
       "      <td>0.091621</td>\n",
       "    </tr>\n",
       "    <tr>\n",
       "      <th>302</th>\n",
       "      <td>2161536</td>\n",
       "      <td>CONFIRMED</td>\n",
       "      <td>0.905637</td>\n",
       "      <td>0.094363</td>\n",
       "    </tr>\n",
       "    <tr>\n",
       "      <th>1511</th>\n",
       "      <td>10747162</td>\n",
       "      <td>CONFIRMED</td>\n",
       "      <td>0.905629</td>\n",
       "      <td>0.094371</td>\n",
       "    </tr>\n",
       "    <tr>\n",
       "      <th>1986</th>\n",
       "      <td>7868967</td>\n",
       "      <td>CONFIRMED</td>\n",
       "      <td>0.899582</td>\n",
       "      <td>0.100418</td>\n",
       "    </tr>\n",
       "  </tbody>\n",
       "</table>\n",
       "</div>"
      ],
      "text/plain": [
       "         kepid    predict  CONFIRMED  FALSE POSITIVE\n",
       "1158   5384713  CONFIRMED   0.909577        0.090423\n",
       "109    9427402  CONFIRMED   0.908379        0.091621\n",
       "302    2161536  CONFIRMED   0.905637        0.094363\n",
       "1511  10747162  CONFIRMED   0.905629        0.094371\n",
       "1986   7868967  CONFIRMED   0.899582        0.100418"
      ]
     },
     "execution_count": 72,
     "metadata": {},
     "output_type": "execute_result"
    }
   ],
   "source": [
    "pd.DataFrame(candidatePredictData, columns = ['kepid', 'predict','CONFIRMED','FALSE POSITIVE'])[:-6:-1]"
   ]
  },
  {
   "cell_type": "code",
   "execution_count": 19,
   "metadata": {
    "scrolled": false
   },
   "outputs": [
    {
     "name": "stdout",
     "output_type": "stream",
     "text": [
      "H2O session _sid_8437 closed.\n"
     ]
    }
   ],
   "source": [
    "h2o.cluster().shutdown(prompt=False)"
   ]
  },
  {
   "cell_type": "code",
   "execution_count": null,
   "metadata": {
    "collapsed": true,
    "scrolled": false
   },
   "outputs": [],
   "source": []
  }
 ],
 "metadata": {
  "kernelspec": {
   "display_name": "Python 2",
   "language": "python",
   "name": "python2"
  },
  "language_info": {
   "codemirror_mode": {
    "name": "ipython",
    "version": 2
   },
   "file_extension": ".py",
   "mimetype": "text/x-python",
   "name": "python",
   "nbconvert_exporter": "python",
   "pygments_lexer": "ipython2",
   "version": "2.7.12"
  }
 },
 "nbformat": 4,
 "nbformat_minor": 2
}
