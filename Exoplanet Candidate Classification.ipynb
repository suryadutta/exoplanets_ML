{
 "cells": [
  {
   "cell_type": "markdown",
   "metadata": {},
   "source": [
    "# Applying Machine Learning to Exoplanet Candidate Classification"
   ]
  },
  {
   "cell_type": "markdown",
   "metadata": {},
   "source": [
    "### Data produced by the NASA Exoplanet Archive  http://exoplanetarchive.ipac.caltech.edu\n",
    "\n",
    "Data used for prediction model:\n",
    "* koi_period:     Orbital Period [days]\n",
    "* koi_time0bk:    Transit Epoch [BKJD]\n",
    "* koi_impact:     Impact Parameter\n",
    "* koi_duration:   Transit Duration [hrs]\n",
    "* koi_depth:      Transit Depth [ppm]\n",
    "* koi_prad:       Planetary Radius [Earth radii]\n",
    "* koi_teq:        Equilibrium Temperature [K]\n",
    "* koi_insol:      Insolation Flux [Earth flux]\n",
    "* koi_model_snr:  Transit Signal-to-Noise\n",
    "* koi_steff:      Stellar Effective Temperature [K]\n",
    "* koi_slogg:      Stellar Surface Gravity [log10(cm/s**2)]\n",
    "* koi_srad:       Stellar Radius [Solar radii]"
   ]
  },
  {
   "cell_type": "code",
   "execution_count": 1,
   "metadata": {
    "scrolled": false
   },
   "outputs": [
    {
     "name": "stdout",
     "output_type": "stream",
     "text": [
      "Checking whether there is an H2O instance running at http://localhost:54321..... not found.\n",
      "Attempting to start a local H2O server...\n",
      "  Java Version: openjdk version \"1.8.0_131\"; OpenJDK Runtime Environment (build 1.8.0_131-8u131-b11-0ubuntu1.16.04.2-b11); OpenJDK 64-Bit Server VM (build 25.131-b11, mixed mode)\n",
      "  Starting server from /usr/local/lib/python2.7/dist-packages/h2o/backend/bin/h2o.jar\n",
      "  Ice root: /tmp/tmpQt2Cj9\n",
      "  JVM stdout: /tmp/tmpQt2Cj9/h2o_root_started_from_python.out\n",
      "  JVM stderr: /tmp/tmpQt2Cj9/h2o_root_started_from_python.err\n",
      "  Server is running at http://127.0.0.1:54321\n",
      "Connecting to H2O server at http://127.0.0.1:54321... successful.\n"
     ]
    },
    {
     "data": {
      "text/html": [
       "<div style=\"overflow:auto\"><table style=\"width:50%\"><tr><td>H2O cluster uptime:</td>\n",
       "<td>02 secs</td></tr>\n",
       "<tr><td>H2O cluster version:</td>\n",
       "<td>3.10.4.8</td></tr>\n",
       "<tr><td>H2O cluster version age:</td>\n",
       "<td>1 month and 5 days </td></tr>\n",
       "<tr><td>H2O cluster name:</td>\n",
       "<td>H2O_from_python_root_rw2qhi</td></tr>\n",
       "<tr><td>H2O cluster total nodes:</td>\n",
       "<td>1</td></tr>\n",
       "<tr><td>H2O cluster free memory:</td>\n",
       "<td>7.111 Gb</td></tr>\n",
       "<tr><td>H2O cluster total cores:</td>\n",
       "<td>4</td></tr>\n",
       "<tr><td>H2O cluster allowed cores:</td>\n",
       "<td>1</td></tr>\n",
       "<tr><td>H2O cluster status:</td>\n",
       "<td>accepting new members, healthy</td></tr>\n",
       "<tr><td>H2O connection url:</td>\n",
       "<td>http://127.0.0.1:54321</td></tr>\n",
       "<tr><td>H2O connection proxy:</td>\n",
       "<td>None</td></tr>\n",
       "<tr><td>H2O internal security:</td>\n",
       "<td>False</td></tr>\n",
       "<tr><td>Python version:</td>\n",
       "<td>2.7.12 final</td></tr></table></div>"
      ],
      "text/plain": [
       "--------------------------  ------------------------------\n",
       "H2O cluster uptime:         02 secs\n",
       "H2O cluster version:        3.10.4.8\n",
       "H2O cluster version age:    1 month and 5 days\n",
       "H2O cluster name:           H2O_from_python_root_rw2qhi\n",
       "H2O cluster total nodes:    1\n",
       "H2O cluster free memory:    7.111 Gb\n",
       "H2O cluster total cores:    4\n",
       "H2O cluster allowed cores:  1\n",
       "H2O cluster status:         accepting new members, healthy\n",
       "H2O connection url:         http://127.0.0.1:54321\n",
       "H2O connection proxy:\n",
       "H2O internal security:      False\n",
       "Python version:             2.7.12 final\n",
       "--------------------------  ------------------------------"
      ]
     },
     "metadata": {},
     "output_type": "display_data"
    }
   ],
   "source": [
    "#initialize machine learning tool H2O.ai\n",
    "import h2o\n",
    "%matplotlib inline\n",
    "import pandas as pd\n",
    "h2o.init(nthreads = 1, max_mem_size=8)"
   ]
  },
  {
   "cell_type": "markdown",
   "metadata": {},
   "source": [
    "## Training Data: Already Classified Exoplanets\n",
    "\n",
    "Exoplanets that are already classified as \"CONFIRMED\" or \"FALSE POSITIVES\" are used to train the machine learning algorithm"
   ]
  },
  {
   "cell_type": "code",
   "execution_count": 2,
   "metadata": {
    "scrolled": false
   },
   "outputs": [
    {
     "name": "stdout",
     "output_type": "stream",
     "text": [
      "Parse progress: |█████████████████████████████████████████████████████████| 100%\n"
     ]
    }
   ],
   "source": [
    "exoplanets_csv = \"data/exoplanet_results.csv\"\n",
    "data = h2o.import_file(exoplanets_csv)"
   ]
  },
  {
   "cell_type": "code",
   "execution_count": 3,
   "metadata": {
    "scrolled": false
   },
   "outputs": [
    {
     "data": {
      "text/plain": [
       "[['CONFIRMED', 'FALSE POSITIVE']]"
      ]
     },
     "execution_count": 3,
     "metadata": {},
     "output_type": "execute_result"
    }
   ],
   "source": [
    "#Using classification as binary factor, outputs possible factors\n",
    "data['koi_disposition'] = data['koi_disposition'].asfactor()\n",
    "data['koi_disposition'].levels()"
   ]
  },
  {
   "cell_type": "markdown",
   "metadata": {},
   "source": [
    "We split the data into three sets - a training set, a validation set, and a testing set. The training set is used to actual train the model. The validation set is used to select the best model for the applicable data set. The test set is used to determine the accuracy of the model"
   ]
  },
  {
   "cell_type": "code",
   "execution_count": 4,
   "metadata": {
    "collapsed": true,
    "scrolled": false
   },
   "outputs": [],
   "source": [
    "splits = data.split_frame(ratios=[0.7, 0.15], seed=1)  \n",
    "\n",
    "train = splits[0]\n",
    "valid = splits[1]\n",
    "test = splits[2]"
   ]
  },
  {
   "cell_type": "code",
   "execution_count": 5,
   "metadata": {
    "scrolled": false
   },
   "outputs": [
    {
     "name": "stdout",
     "output_type": "stream",
     "text": [
      "5150\n",
      "1066\n",
      "1100\n"
     ]
    }
   ],
   "source": [
    "#note that these sets are not even. h2oai uses a seed to maintain some variability\n",
    "print train.nrow\n",
    "print valid.nrow\n",
    "print test.nrow"
   ]
  },
  {
   "cell_type": "code",
   "execution_count": 6,
   "metadata": {
    "collapsed": true,
    "scrolled": false
   },
   "outputs": [],
   "source": [
    "y = 'koi_disposition'\n",
    "x = list(data.columns)"
   ]
  },
  {
   "cell_type": "code",
   "execution_count": 7,
   "metadata": {
    "collapsed": true,
    "scrolled": false
   },
   "outputs": [],
   "source": [
    "#remove columns not used for prediction model\n",
    "x.remove(y)  #remove the response\n",
    "x.remove('rowid') \n",
    "x.remove('kepid')\n",
    "x.remove('kepoi_name')\n",
    "x.remove('kepler_name')"
   ]
  },
  {
   "cell_type": "markdown",
   "metadata": {},
   "source": [
    "## First Model: Generalized Logistic Regression Model\n",
    "We first run a test using one of the simplest machine learning method, the generalized linear model. Because this is a binary classification, we use a logistic regression as a classification method. This will give us a test case and some preliminary results. We can implement more advanced techniques later"
   ]
  },
  {
   "cell_type": "code",
   "execution_count": 8,
   "metadata": {
    "collapsed": true,
    "scrolled": false
   },
   "outputs": [],
   "source": [
    "from h2o.estimators.glm import H2OGeneralizedLinearEstimator"
   ]
  },
  {
   "cell_type": "code",
   "execution_count": 9,
   "metadata": {
    "collapsed": true,
    "scrolled": false
   },
   "outputs": [],
   "source": [
    "#Simple GLM\n",
    "glm_fit = H2OGeneralizedLinearEstimator(family='binomial', model_id='glm_fit')"
   ]
  },
  {
   "cell_type": "code",
   "execution_count": 10,
   "metadata": {
    "scrolled": false
   },
   "outputs": [
    {
     "name": "stdout",
     "output_type": "stream",
     "text": [
      "glm Model Build progress: |███████████████████████████████████████████████| 100%\n"
     ]
    }
   ],
   "source": [
    "glm_fit.train(x=x, y=y, training_frame=train)"
   ]
  },
  {
   "cell_type": "markdown",
   "metadata": {},
   "source": [
    "### Testing Model with Test Set"
   ]
  },
  {
   "cell_type": "code",
   "execution_count": 11,
   "metadata": {
    "collapsed": true,
    "scrolled": false
   },
   "outputs": [],
   "source": [
    "glm_perf = glm_fit.model_performance(test)"
   ]
  },
  {
   "cell_type": "code",
   "execution_count": 12,
   "metadata": {
    "scrolled": false
   },
   "outputs": [
    {
     "name": "stdout",
     "output_type": "stream",
     "text": [
      "Confusion Matrix (Act/Pred) for max f1 @ threshold = 0.467997156851: \n"
     ]
    },
    {
     "data": {
      "text/html": [
       "<div style=\"overflow:auto\"><table style=\"width:50%\"><tr><td><b></b></td>\n",
       "<td><b>CONFIRMED</b></td>\n",
       "<td><b>FALSE POSITIVE</b></td>\n",
       "<td><b>Error</b></td>\n",
       "<td><b>Rate</b></td></tr>\n",
       "<tr><td>CONFIRMED</td>\n",
       "<td>254.0</td>\n",
       "<td>92.0</td>\n",
       "<td>0.2659</td>\n",
       "<td> (92.0/346.0)</td></tr>\n",
       "<tr><td>FALSE POSITIVE</td>\n",
       "<td>83.0</td>\n",
       "<td>671.0</td>\n",
       "<td>0.1101</td>\n",
       "<td> (83.0/754.0)</td></tr>\n",
       "<tr><td>Total</td>\n",
       "<td>337.0</td>\n",
       "<td>763.0</td>\n",
       "<td>0.1591</td>\n",
       "<td> (175.0/1100.0)</td></tr></table></div>"
      ],
      "text/plain": [
       "                CONFIRMED    FALSE POSITIVE    Error    Rate\n",
       "--------------  -----------  ----------------  -------  --------------\n",
       "CONFIRMED       254          92                0.2659   (92.0/346.0)\n",
       "FALSE POSITIVE  83           671               0.1101   (83.0/754.0)\n",
       "Total           337          763               0.1591   (175.0/1100.0)"
      ]
     },
     "metadata": {},
     "output_type": "display_data"
    },
    {
     "name": "stdout",
     "output_type": "stream",
     "text": [
      "\n"
     ]
    }
   ],
   "source": [
    "print glm_perf.confusion_matrix()"
   ]
  },
  {
   "cell_type": "markdown",
   "metadata": {},
   "source": [
    "This confusion matrix gives the results of running this model on the test set we specified above. The columns represent the model predictions, while the rows represent the actual data. We see that this model can classify confirmed exoplanets 70-75% of the time, while it can classify False Positives ~90% of the time. Although these are rough estimates, they do give some indication to the performance of the model.\n",
    "\n",
    "*Estimated Total Accuracy: 84.09%*"
   ]
  },
  {
   "cell_type": "code",
   "execution_count": 13,
   "metadata": {
    "scrolled": false
   },
   "outputs": [
    {
     "name": "stdout",
     "output_type": "stream",
     "text": [
      "0.90631276736\n"
     ]
    }
   ],
   "source": [
    "# Retreive test set AUC\n",
    "print glm_perf.auc()"
   ]
  },
  {
   "cell_type": "markdown",
   "metadata": {},
   "source": [
    "AUC: The expected true positive rate if the ranking is split just before a uniformly drawn random negative. "
   ]
  },
  {
   "cell_type": "markdown",
   "metadata": {},
   "source": [
    "### Apply Prediction Model to Exoplanet Candidates"
   ]
  },
  {
   "cell_type": "code",
   "execution_count": 14,
   "metadata": {
    "scrolled": false
   },
   "outputs": [
    {
     "name": "stdout",
     "output_type": "stream",
     "text": [
      "Parse progress: |█████████████████████████████████████████████████████████| 100%\n"
     ]
    }
   ],
   "source": [
    "#import candidate data file\n",
    "candidate_csv = \"data/candidates.csv\"\n",
    "candidate_data = h2o.import_file(candidate_csv)\n"
   ]
  },
  {
   "cell_type": "code",
   "execution_count": 15,
   "metadata": {
    "scrolled": true
   },
   "outputs": [
    {
     "name": "stdout",
     "output_type": "stream",
     "text": [
      "glm prediction progress: |████████████████████████████████████████████████| 100%\n"
     ]
    }
   ],
   "source": [
    "#run GLM\n",
    "glm_predict = glm_fit.predict(candidate_data)"
   ]
  },
  {
   "cell_type": "code",
   "execution_count": 16,
   "metadata": {},
   "outputs": [
    {
     "name": "stdout",
     "output_type": "stream",
     "text": [
      "Export File progress: |███████████████████████████████████████████████████| 100%\n"
     ]
    }
   ],
   "source": [
    "glm_candidate_combine = candidate_data.cbind(glm_predict)\n",
    "h2o.export_file(glm_candidate_combine, \"data/glm_candidate_predict.csv\")"
   ]
  },
  {
   "cell_type": "code",
   "execution_count": 17,
   "metadata": {
    "collapsed": true
   },
   "outputs": [],
   "source": [
    "glm_candidate_predict_data = pd.read_csv('data/glm_candidate_predict.csv').sort_values('CONFIRMED')"
   ]
  },
  {
   "cell_type": "markdown",
   "metadata": {},
   "source": [
    "#### Most likey to be false positives"
   ]
  },
  {
   "cell_type": "code",
   "execution_count": 18,
   "metadata": {},
   "outputs": [
    {
     "data": {
      "text/html": [
       "<div>\n",
       "<style>\n",
       "    .dataframe thead tr:only-child th {\n",
       "        text-align: right;\n",
       "    }\n",
       "\n",
       "    .dataframe thead th {\n",
       "        text-align: left;\n",
       "    }\n",
       "\n",
       "    .dataframe tbody tr th {\n",
       "        vertical-align: top;\n",
       "    }\n",
       "</style>\n",
       "<table border=\"1\" class=\"dataframe\">\n",
       "  <thead>\n",
       "    <tr style=\"text-align: right;\">\n",
       "      <th></th>\n",
       "      <th>kepid</th>\n",
       "      <th>predict</th>\n",
       "      <th>CONFIRMED</th>\n",
       "      <th>FALSE POSITIVE</th>\n",
       "    </tr>\n",
       "  </thead>\n",
       "  <tbody>\n",
       "    <tr>\n",
       "      <th>1422</th>\n",
       "      <td>5131276</td>\n",
       "      <td>FALSE POSITIVE</td>\n",
       "      <td>0.000000e+00</td>\n",
       "      <td>1.0</td>\n",
       "    </tr>\n",
       "    <tr>\n",
       "      <th>1839</th>\n",
       "      <td>9790965</td>\n",
       "      <td>FALSE POSITIVE</td>\n",
       "      <td>0.000000e+00</td>\n",
       "      <td>1.0</td>\n",
       "    </tr>\n",
       "    <tr>\n",
       "      <th>1962</th>\n",
       "      <td>9025662</td>\n",
       "      <td>FALSE POSITIVE</td>\n",
       "      <td>0.000000e+00</td>\n",
       "      <td>1.0</td>\n",
       "    </tr>\n",
       "    <tr>\n",
       "      <th>32</th>\n",
       "      <td>10287723</td>\n",
       "      <td>FALSE POSITIVE</td>\n",
       "      <td>0.000000e+00</td>\n",
       "      <td>1.0</td>\n",
       "    </tr>\n",
       "    <tr>\n",
       "      <th>1266</th>\n",
       "      <td>6790592</td>\n",
       "      <td>FALSE POSITIVE</td>\n",
       "      <td>0.000000e+00</td>\n",
       "      <td>1.0</td>\n",
       "    </tr>\n",
       "    <tr>\n",
       "      <th>2120</th>\n",
       "      <td>5858919</td>\n",
       "      <td>FALSE POSITIVE</td>\n",
       "      <td>0.000000e+00</td>\n",
       "      <td>1.0</td>\n",
       "    </tr>\n",
       "    <tr>\n",
       "      <th>1563</th>\n",
       "      <td>10004772</td>\n",
       "      <td>FALSE POSITIVE</td>\n",
       "      <td>0.000000e+00</td>\n",
       "      <td>1.0</td>\n",
       "    </tr>\n",
       "    <tr>\n",
       "      <th>696</th>\n",
       "      <td>8505215</td>\n",
       "      <td>FALSE POSITIVE</td>\n",
       "      <td>1.509903e-14</td>\n",
       "      <td>1.0</td>\n",
       "    </tr>\n",
       "    <tr>\n",
       "      <th>1153</th>\n",
       "      <td>3757590</td>\n",
       "      <td>FALSE POSITIVE</td>\n",
       "      <td>1.843858e-12</td>\n",
       "      <td>1.0</td>\n",
       "    </tr>\n",
       "    <tr>\n",
       "      <th>124</th>\n",
       "      <td>11342550</td>\n",
       "      <td>FALSE POSITIVE</td>\n",
       "      <td>1.186429e-11</td>\n",
       "      <td>1.0</td>\n",
       "    </tr>\n",
       "  </tbody>\n",
       "</table>\n",
       "</div>"
      ],
      "text/plain": [
       "         kepid         predict     CONFIRMED  FALSE POSITIVE\n",
       "1422   5131276  FALSE POSITIVE  0.000000e+00             1.0\n",
       "1839   9790965  FALSE POSITIVE  0.000000e+00             1.0\n",
       "1962   9025662  FALSE POSITIVE  0.000000e+00             1.0\n",
       "32    10287723  FALSE POSITIVE  0.000000e+00             1.0\n",
       "1266   6790592  FALSE POSITIVE  0.000000e+00             1.0\n",
       "2120   5858919  FALSE POSITIVE  0.000000e+00             1.0\n",
       "1563  10004772  FALSE POSITIVE  0.000000e+00             1.0\n",
       "696    8505215  FALSE POSITIVE  1.509903e-14             1.0\n",
       "1153   3757590  FALSE POSITIVE  1.843858e-12             1.0\n",
       "124   11342550  FALSE POSITIVE  1.186429e-11             1.0"
      ]
     },
     "execution_count": 18,
     "metadata": {},
     "output_type": "execute_result"
    }
   ],
   "source": [
    "pd.DataFrame(glm_candidate_predict_data, columns = ['kepid', 'predict','CONFIRMED','FALSE POSITIVE'])[0:10]"
   ]
  },
  {
   "cell_type": "markdown",
   "metadata": {},
   "source": [
    "#### Most likely to be confirmed exoplanets"
   ]
  },
  {
   "cell_type": "code",
   "execution_count": 19,
   "metadata": {
    "scrolled": true
   },
   "outputs": [
    {
     "data": {
      "text/html": [
       "<div>\n",
       "<style>\n",
       "    .dataframe thead tr:only-child th {\n",
       "        text-align: right;\n",
       "    }\n",
       "\n",
       "    .dataframe thead th {\n",
       "        text-align: left;\n",
       "    }\n",
       "\n",
       "    .dataframe tbody tr th {\n",
       "        vertical-align: top;\n",
       "    }\n",
       "</style>\n",
       "<table border=\"1\" class=\"dataframe\">\n",
       "  <thead>\n",
       "    <tr style=\"text-align: right;\">\n",
       "      <th></th>\n",
       "      <th>kepid</th>\n",
       "      <th>predict</th>\n",
       "      <th>CONFIRMED</th>\n",
       "      <th>FALSE POSITIVE</th>\n",
       "    </tr>\n",
       "  </thead>\n",
       "  <tbody>\n",
       "    <tr>\n",
       "      <th>1158</th>\n",
       "      <td>5384713</td>\n",
       "      <td>CONFIRMED</td>\n",
       "      <td>0.909577</td>\n",
       "      <td>0.090423</td>\n",
       "    </tr>\n",
       "    <tr>\n",
       "      <th>109</th>\n",
       "      <td>9427402</td>\n",
       "      <td>CONFIRMED</td>\n",
       "      <td>0.908379</td>\n",
       "      <td>0.091621</td>\n",
       "    </tr>\n",
       "    <tr>\n",
       "      <th>302</th>\n",
       "      <td>2161536</td>\n",
       "      <td>CONFIRMED</td>\n",
       "      <td>0.905637</td>\n",
       "      <td>0.094363</td>\n",
       "    </tr>\n",
       "    <tr>\n",
       "      <th>1511</th>\n",
       "      <td>10747162</td>\n",
       "      <td>CONFIRMED</td>\n",
       "      <td>0.905629</td>\n",
       "      <td>0.094371</td>\n",
       "    </tr>\n",
       "    <tr>\n",
       "      <th>1986</th>\n",
       "      <td>7868967</td>\n",
       "      <td>CONFIRMED</td>\n",
       "      <td>0.899582</td>\n",
       "      <td>0.100418</td>\n",
       "    </tr>\n",
       "    <tr>\n",
       "      <th>288</th>\n",
       "      <td>5601258</td>\n",
       "      <td>CONFIRMED</td>\n",
       "      <td>0.897332</td>\n",
       "      <td>0.102668</td>\n",
       "    </tr>\n",
       "    <tr>\n",
       "      <th>1994</th>\n",
       "      <td>10685764</td>\n",
       "      <td>CONFIRMED</td>\n",
       "      <td>0.895865</td>\n",
       "      <td>0.104135</td>\n",
       "    </tr>\n",
       "    <tr>\n",
       "      <th>1966</th>\n",
       "      <td>10813078</td>\n",
       "      <td>CONFIRMED</td>\n",
       "      <td>0.894170</td>\n",
       "      <td>0.105830</td>\n",
       "    </tr>\n",
       "    <tr>\n",
       "      <th>1063</th>\n",
       "      <td>8874090</td>\n",
       "      <td>CONFIRMED</td>\n",
       "      <td>0.893915</td>\n",
       "      <td>0.106085</td>\n",
       "    </tr>\n",
       "    <tr>\n",
       "      <th>2029</th>\n",
       "      <td>5289857</td>\n",
       "      <td>CONFIRMED</td>\n",
       "      <td>0.893061</td>\n",
       "      <td>0.106939</td>\n",
       "    </tr>\n",
       "  </tbody>\n",
       "</table>\n",
       "</div>"
      ],
      "text/plain": [
       "         kepid    predict  CONFIRMED  FALSE POSITIVE\n",
       "1158   5384713  CONFIRMED   0.909577        0.090423\n",
       "109    9427402  CONFIRMED   0.908379        0.091621\n",
       "302    2161536  CONFIRMED   0.905637        0.094363\n",
       "1511  10747162  CONFIRMED   0.905629        0.094371\n",
       "1986   7868967  CONFIRMED   0.899582        0.100418\n",
       "288    5601258  CONFIRMED   0.897332        0.102668\n",
       "1994  10685764  CONFIRMED   0.895865        0.104135\n",
       "1966  10813078  CONFIRMED   0.894170        0.105830\n",
       "1063   8874090  CONFIRMED   0.893915        0.106085\n",
       "2029   5289857  CONFIRMED   0.893061        0.106939"
      ]
     },
     "execution_count": 19,
     "metadata": {},
     "output_type": "execute_result"
    }
   ],
   "source": [
    "pd.DataFrame(glm_candidate_predict_data, columns = ['kepid', 'predict','CONFIRMED','FALSE POSITIVE'])[:-11:-1]"
   ]
  },
  {
   "cell_type": "markdown",
   "metadata": {},
   "source": [
    "### Model 2: Random Forest Algorithm"
   ]
  },
  {
   "cell_type": "code",
   "execution_count": 20,
   "metadata": {
    "collapsed": true
   },
   "outputs": [],
   "source": [
    "# Import H2O RF:\n",
    "from h2o.estimators.random_forest import H2ORandomForestEstimator"
   ]
  },
  {
   "cell_type": "code",
   "execution_count": 21,
   "metadata": {},
   "outputs": [
    {
     "name": "stdout",
     "output_type": "stream",
     "text": [
      "drf Model Build progress: |███████████████████████████████████████████████| 100%\n"
     ]
    }
   ],
   "source": [
    "rf_fit = H2ORandomForestEstimator(model_id='rf_fit', ntrees=500, seed=1)\n",
    "rf_fit.train(x=x, y=y, training_frame=train)"
   ]
  },
  {
   "cell_type": "code",
   "execution_count": 22,
   "metadata": {
    "scrolled": true
   },
   "outputs": [
    {
     "name": "stdout",
     "output_type": "stream",
     "text": [
      "Confusion Matrix (Act/Pred) for max f1 @ threshold = 0.500143638499: \n"
     ]
    },
    {
     "data": {
      "text/html": [
       "<div style=\"overflow:auto\"><table style=\"width:50%\"><tr><td><b></b></td>\n",
       "<td><b>CONFIRMED</b></td>\n",
       "<td><b>FALSE POSITIVE</b></td>\n",
       "<td><b>Error</b></td>\n",
       "<td><b>Rate</b></td></tr>\n",
       "<tr><td>CONFIRMED</td>\n",
       "<td>302.0</td>\n",
       "<td>44.0</td>\n",
       "<td>0.1272</td>\n",
       "<td> (44.0/346.0)</td></tr>\n",
       "<tr><td>FALSE POSITIVE</td>\n",
       "<td>41.0</td>\n",
       "<td>713.0</td>\n",
       "<td>0.0544</td>\n",
       "<td> (41.0/754.0)</td></tr>\n",
       "<tr><td>Total</td>\n",
       "<td>343.0</td>\n",
       "<td>757.0</td>\n",
       "<td>0.0773</td>\n",
       "<td> (85.0/1100.0)</td></tr></table></div>"
      ],
      "text/plain": [
       "                CONFIRMED    FALSE POSITIVE    Error    Rate\n",
       "--------------  -----------  ----------------  -------  -------------\n",
       "CONFIRMED       302          44                0.1272   (44.0/346.0)\n",
       "FALSE POSITIVE  41           713               0.0544   (41.0/754.0)\n",
       "Total           343          757               0.0773   (85.0/1100.0)"
      ]
     },
     "metadata": {},
     "output_type": "display_data"
    },
    {
     "data": {
      "text/plain": []
     },
     "execution_count": 22,
     "metadata": {},
     "output_type": "execute_result"
    }
   ],
   "source": [
    "rf_perf = rf_fit.model_performance(test)\n",
    "rf_perf.confusion_matrix()"
   ]
  },
  {
   "cell_type": "markdown",
   "metadata": {},
   "source": [
    "*Estimated Accuracy: 92.27%*"
   ]
  },
  {
   "cell_type": "code",
   "execution_count": 23,
   "metadata": {},
   "outputs": [
    {
     "data": {
      "text/plain": [
       "0.9763496419864768"
      ]
     },
     "execution_count": 23,
     "metadata": {},
     "output_type": "execute_result"
    }
   ],
   "source": [
    "# Retreive test set AUC\n",
    "rf_perf.auc()"
   ]
  },
  {
   "cell_type": "markdown",
   "metadata": {},
   "source": [
    "### Apply Prediction Model to Exoplanet Candidates"
   ]
  },
  {
   "cell_type": "code",
   "execution_count": 24,
   "metadata": {
    "scrolled": true
   },
   "outputs": [
    {
     "name": "stdout",
     "output_type": "stream",
     "text": [
      "drf prediction progress: |████████████████████████████████████████████████| 100%\n"
     ]
    }
   ],
   "source": [
    "rf_predict = rf_fit.predict(candidate_data)"
   ]
  },
  {
   "cell_type": "code",
   "execution_count": 25,
   "metadata": {
    "scrolled": true
   },
   "outputs": [
    {
     "name": "stdout",
     "output_type": "stream",
     "text": [
      "Export File progress: |███████████████████████████████████████████████████| 100%\n"
     ]
    }
   ],
   "source": [
    "rf_candidate_combine = candidate_data.cbind(rf_predict)\n",
    "h2o.export_file(rf_candidate_combine, \"data/rf_candidate_predict.csv\")"
   ]
  },
  {
   "cell_type": "code",
   "execution_count": 26,
   "metadata": {
    "collapsed": true
   },
   "outputs": [],
   "source": [
    "rf_candidate_predict_data = pd.read_csv('data/rf_candidate_predict.csv').sort_values('CONFIRMED')"
   ]
  },
  {
   "cell_type": "markdown",
   "metadata": {},
   "source": [
    "#### Most likey to be false positives"
   ]
  },
  {
   "cell_type": "code",
   "execution_count": 27,
   "metadata": {
    "scrolled": true
   },
   "outputs": [
    {
     "data": {
      "text/html": [
       "<div>\n",
       "<style>\n",
       "    .dataframe thead tr:only-child th {\n",
       "        text-align: right;\n",
       "    }\n",
       "\n",
       "    .dataframe thead th {\n",
       "        text-align: left;\n",
       "    }\n",
       "\n",
       "    .dataframe tbody tr th {\n",
       "        vertical-align: top;\n",
       "    }\n",
       "</style>\n",
       "<table border=\"1\" class=\"dataframe\">\n",
       "  <thead>\n",
       "    <tr style=\"text-align: right;\">\n",
       "      <th></th>\n",
       "      <th>kepid</th>\n",
       "      <th>predict</th>\n",
       "      <th>CONFIRMED</th>\n",
       "      <th>FALSE POSITIVE</th>\n",
       "    </tr>\n",
       "  </thead>\n",
       "  <tbody>\n",
       "    <tr>\n",
       "      <th>1544</th>\n",
       "      <td>9941136</td>\n",
       "      <td>FALSE POSITIVE</td>\n",
       "      <td>0.000000</td>\n",
       "      <td>1.000000</td>\n",
       "    </tr>\n",
       "    <tr>\n",
       "      <th>1606</th>\n",
       "      <td>12009917</td>\n",
       "      <td>FALSE POSITIVE</td>\n",
       "      <td>0.000000</td>\n",
       "      <td>1.000000</td>\n",
       "    </tr>\n",
       "    <tr>\n",
       "      <th>2168</th>\n",
       "      <td>5956171</td>\n",
       "      <td>FALSE POSITIVE</td>\n",
       "      <td>0.000023</td>\n",
       "      <td>0.999977</td>\n",
       "    </tr>\n",
       "    <tr>\n",
       "      <th>2155</th>\n",
       "      <td>5098334</td>\n",
       "      <td>FALSE POSITIVE</td>\n",
       "      <td>0.000094</td>\n",
       "      <td>0.999906</td>\n",
       "    </tr>\n",
       "    <tr>\n",
       "      <th>1146</th>\n",
       "      <td>5881307</td>\n",
       "      <td>FALSE POSITIVE</td>\n",
       "      <td>0.000094</td>\n",
       "      <td>0.999906</td>\n",
       "    </tr>\n",
       "    <tr>\n",
       "      <th>2003</th>\n",
       "      <td>8971044</td>\n",
       "      <td>FALSE POSITIVE</td>\n",
       "      <td>0.000094</td>\n",
       "      <td>0.999906</td>\n",
       "    </tr>\n",
       "    <tr>\n",
       "      <th>1694</th>\n",
       "      <td>11462969</td>\n",
       "      <td>FALSE POSITIVE</td>\n",
       "      <td>0.000411</td>\n",
       "      <td>0.999589</td>\n",
       "    </tr>\n",
       "    <tr>\n",
       "      <th>1414</th>\n",
       "      <td>3542928</td>\n",
       "      <td>FALSE POSITIVE</td>\n",
       "      <td>0.000411</td>\n",
       "      <td>0.999589</td>\n",
       "    </tr>\n",
       "    <tr>\n",
       "      <th>1487</th>\n",
       "      <td>10802364</td>\n",
       "      <td>FALSE POSITIVE</td>\n",
       "      <td>0.000411</td>\n",
       "      <td>0.999589</td>\n",
       "    </tr>\n",
       "    <tr>\n",
       "      <th>1493</th>\n",
       "      <td>8747910</td>\n",
       "      <td>FALSE POSITIVE</td>\n",
       "      <td>0.000411</td>\n",
       "      <td>0.999589</td>\n",
       "    </tr>\n",
       "  </tbody>\n",
       "</table>\n",
       "</div>"
      ],
      "text/plain": [
       "         kepid         predict  CONFIRMED  FALSE POSITIVE\n",
       "1544   9941136  FALSE POSITIVE   0.000000        1.000000\n",
       "1606  12009917  FALSE POSITIVE   0.000000        1.000000\n",
       "2168   5956171  FALSE POSITIVE   0.000023        0.999977\n",
       "2155   5098334  FALSE POSITIVE   0.000094        0.999906\n",
       "1146   5881307  FALSE POSITIVE   0.000094        0.999906\n",
       "2003   8971044  FALSE POSITIVE   0.000094        0.999906\n",
       "1694  11462969  FALSE POSITIVE   0.000411        0.999589\n",
       "1414   3542928  FALSE POSITIVE   0.000411        0.999589\n",
       "1487  10802364  FALSE POSITIVE   0.000411        0.999589\n",
       "1493   8747910  FALSE POSITIVE   0.000411        0.999589"
      ]
     },
     "execution_count": 27,
     "metadata": {},
     "output_type": "execute_result"
    }
   ],
   "source": [
    "pd.DataFrame(rf_candidate_predict_data, columns = ['kepid', 'predict','CONFIRMED','FALSE POSITIVE'])[0:10]"
   ]
  },
  {
   "cell_type": "markdown",
   "metadata": {},
   "source": [
    "#### Most likely to be confirmed exoplanets"
   ]
  },
  {
   "cell_type": "code",
   "execution_count": 28,
   "metadata": {
    "scrolled": false
   },
   "outputs": [
    {
     "data": {
      "text/html": [
       "<div>\n",
       "<style>\n",
       "    .dataframe thead tr:only-child th {\n",
       "        text-align: right;\n",
       "    }\n",
       "\n",
       "    .dataframe thead th {\n",
       "        text-align: left;\n",
       "    }\n",
       "\n",
       "    .dataframe tbody tr th {\n",
       "        vertical-align: top;\n",
       "    }\n",
       "</style>\n",
       "<table border=\"1\" class=\"dataframe\">\n",
       "  <thead>\n",
       "    <tr style=\"text-align: right;\">\n",
       "      <th></th>\n",
       "      <th>kepid</th>\n",
       "      <th>predict</th>\n",
       "      <th>CONFIRMED</th>\n",
       "      <th>FALSE POSITIVE</th>\n",
       "    </tr>\n",
       "  </thead>\n",
       "  <tbody>\n",
       "    <tr>\n",
       "      <th>684</th>\n",
       "      <td>10155434</td>\n",
       "      <td>CONFIRMED</td>\n",
       "      <td>0.980644</td>\n",
       "      <td>0.019356</td>\n",
       "    </tr>\n",
       "    <tr>\n",
       "      <th>7</th>\n",
       "      <td>3641726</td>\n",
       "      <td>CONFIRMED</td>\n",
       "      <td>0.979300</td>\n",
       "      <td>0.020700</td>\n",
       "    </tr>\n",
       "    <tr>\n",
       "      <th>105</th>\n",
       "      <td>8804283</td>\n",
       "      <td>CONFIRMED</td>\n",
       "      <td>0.978898</td>\n",
       "      <td>0.021102</td>\n",
       "    </tr>\n",
       "    <tr>\n",
       "      <th>669</th>\n",
       "      <td>5978361</td>\n",
       "      <td>CONFIRMED</td>\n",
       "      <td>0.977675</td>\n",
       "      <td>0.022325</td>\n",
       "    </tr>\n",
       "    <tr>\n",
       "      <th>1065</th>\n",
       "      <td>5965819</td>\n",
       "      <td>CONFIRMED</td>\n",
       "      <td>0.976665</td>\n",
       "      <td>0.023335</td>\n",
       "    </tr>\n",
       "    <tr>\n",
       "      <th>717</th>\n",
       "      <td>2444412</td>\n",
       "      <td>CONFIRMED</td>\n",
       "      <td>0.974097</td>\n",
       "      <td>0.025903</td>\n",
       "    </tr>\n",
       "    <tr>\n",
       "      <th>25</th>\n",
       "      <td>9347899</td>\n",
       "      <td>CONFIRMED</td>\n",
       "      <td>0.969880</td>\n",
       "      <td>0.030120</td>\n",
       "    </tr>\n",
       "    <tr>\n",
       "      <th>712</th>\n",
       "      <td>9266431</td>\n",
       "      <td>CONFIRMED</td>\n",
       "      <td>0.969454</td>\n",
       "      <td>0.030546</td>\n",
       "    </tr>\n",
       "    <tr>\n",
       "      <th>381</th>\n",
       "      <td>11852982</td>\n",
       "      <td>CONFIRMED</td>\n",
       "      <td>0.969068</td>\n",
       "      <td>0.030932</td>\n",
       "    </tr>\n",
       "    <tr>\n",
       "      <th>199</th>\n",
       "      <td>7386827</td>\n",
       "      <td>CONFIRMED</td>\n",
       "      <td>0.966017</td>\n",
       "      <td>0.033983</td>\n",
       "    </tr>\n",
       "  </tbody>\n",
       "</table>\n",
       "</div>"
      ],
      "text/plain": [
       "         kepid    predict  CONFIRMED  FALSE POSITIVE\n",
       "684   10155434  CONFIRMED   0.980644        0.019356\n",
       "7      3641726  CONFIRMED   0.979300        0.020700\n",
       "105    8804283  CONFIRMED   0.978898        0.021102\n",
       "669    5978361  CONFIRMED   0.977675        0.022325\n",
       "1065   5965819  CONFIRMED   0.976665        0.023335\n",
       "717    2444412  CONFIRMED   0.974097        0.025903\n",
       "25     9347899  CONFIRMED   0.969880        0.030120\n",
       "712    9266431  CONFIRMED   0.969454        0.030546\n",
       "381   11852982  CONFIRMED   0.969068        0.030932\n",
       "199    7386827  CONFIRMED   0.966017        0.033983"
      ]
     },
     "execution_count": 28,
     "metadata": {},
     "output_type": "execute_result"
    }
   ],
   "source": [
    "pd.DataFrame(rf_candidate_predict_data, columns = ['kepid', 'predict','CONFIRMED','FALSE POSITIVE'])[:-11:-1]"
   ]
  },
  {
   "cell_type": "markdown",
   "metadata": {},
   "source": [
    "### Model 3: Gradient Boosting Machine"
   ]
  },
  {
   "cell_type": "code",
   "execution_count": 29,
   "metadata": {
    "collapsed": true
   },
   "outputs": [],
   "source": [
    "# Import H2O GBM:\n",
    "from h2o.estimators.gbm import H2OGradientBoostingEstimator"
   ]
  },
  {
   "cell_type": "code",
   "execution_count": 30,
   "metadata": {},
   "outputs": [
    {
     "name": "stdout",
     "output_type": "stream",
     "text": [
      "gbm Model Build progress: |███████████████████████████████████████████████| 100%\n"
     ]
    }
   ],
   "source": [
    "# Initialize and train the GBM estimator:\n",
    "\n",
    "gbm_fit = H2OGradientBoostingEstimator(model_id='gbm_fit', ntrees=500, seed=1)\n",
    "gbm_fit.train(x=x, y=y, training_frame=train)"
   ]
  },
  {
   "cell_type": "code",
   "execution_count": 31,
   "metadata": {
    "scrolled": true
   },
   "outputs": [
    {
     "name": "stdout",
     "output_type": "stream",
     "text": [
      "Confusion Matrix (Act/Pred) for max f1 @ threshold = 0.498293114556: \n"
     ]
    },
    {
     "data": {
      "text/html": [
       "<div style=\"overflow:auto\"><table style=\"width:50%\"><tr><td><b></b></td>\n",
       "<td><b>CONFIRMED</b></td>\n",
       "<td><b>FALSE POSITIVE</b></td>\n",
       "<td><b>Error</b></td>\n",
       "<td><b>Rate</b></td></tr>\n",
       "<tr><td>CONFIRMED</td>\n",
       "<td>306.0</td>\n",
       "<td>40.0</td>\n",
       "<td>0.1156</td>\n",
       "<td> (40.0/346.0)</td></tr>\n",
       "<tr><td>FALSE POSITIVE</td>\n",
       "<td>40.0</td>\n",
       "<td>714.0</td>\n",
       "<td>0.0531</td>\n",
       "<td> (40.0/754.0)</td></tr>\n",
       "<tr><td>Total</td>\n",
       "<td>346.0</td>\n",
       "<td>754.0</td>\n",
       "<td>0.0727</td>\n",
       "<td> (80.0/1100.0)</td></tr></table></div>"
      ],
      "text/plain": [
       "                CONFIRMED    FALSE POSITIVE    Error    Rate\n",
       "--------------  -----------  ----------------  -------  -------------\n",
       "CONFIRMED       306          40                0.1156   (40.0/346.0)\n",
       "FALSE POSITIVE  40           714               0.0531   (40.0/754.0)\n",
       "Total           346          754               0.0727   (80.0/1100.0)"
      ]
     },
     "metadata": {},
     "output_type": "display_data"
    },
    {
     "data": {
      "text/plain": []
     },
     "execution_count": 31,
     "metadata": {},
     "output_type": "execute_result"
    }
   ],
   "source": [
    "gbm_perf = gbm_fit.model_performance(test)\n",
    "gbm_perf.confusion_matrix()"
   ]
  },
  {
   "cell_type": "markdown",
   "metadata": {},
   "source": [
    "*Estimated Accuracy: 92.73%*"
   ]
  },
  {
   "cell_type": "code",
   "execution_count": 32,
   "metadata": {},
   "outputs": [
    {
     "data": {
      "text/plain": [
       "0.9785920179083425"
      ]
     },
     "execution_count": 32,
     "metadata": {},
     "output_type": "execute_result"
    }
   ],
   "source": [
    "# Retreive test set AUC\n",
    "gbm_perf.auc()"
   ]
  },
  {
   "cell_type": "markdown",
   "metadata": {},
   "source": [
    "### Apply Prediction Model to Exoplanet Candidates"
   ]
  },
  {
   "cell_type": "code",
   "execution_count": 33,
   "metadata": {
    "scrolled": true
   },
   "outputs": [
    {
     "name": "stdout",
     "output_type": "stream",
     "text": [
      "gbm prediction progress: |████████████████████████████████████████████████| 100%\n"
     ]
    }
   ],
   "source": [
    "gbm_predict = gbm_fit.predict(candidate_data)"
   ]
  },
  {
   "cell_type": "code",
   "execution_count": 34,
   "metadata": {
    "scrolled": true
   },
   "outputs": [
    {
     "name": "stdout",
     "output_type": "stream",
     "text": [
      "Export File progress: |███████████████████████████████████████████████████| 100%\n"
     ]
    }
   ],
   "source": [
    "gbm_candidate_combine = candidate_data.cbind(gbm_predict)\n",
    "h2o.export_file(gbm_candidate_combine, \"data/gbm_candidate_predict.csv\")"
   ]
  },
  {
   "cell_type": "code",
   "execution_count": 35,
   "metadata": {
    "collapsed": true
   },
   "outputs": [],
   "source": [
    "gbm_candidate_predict_data = pd.read_csv('data/gbm_candidate_predict.csv').sort_values('CONFIRMED')"
   ]
  },
  {
   "cell_type": "markdown",
   "metadata": {},
   "source": [
    "#### Most likey to be false positives"
   ]
  },
  {
   "cell_type": "code",
   "execution_count": 36,
   "metadata": {
    "scrolled": true
   },
   "outputs": [
    {
     "data": {
      "text/html": [
       "<div>\n",
       "<style>\n",
       "    .dataframe thead tr:only-child th {\n",
       "        text-align: right;\n",
       "    }\n",
       "\n",
       "    .dataframe thead th {\n",
       "        text-align: left;\n",
       "    }\n",
       "\n",
       "    .dataframe tbody tr th {\n",
       "        vertical-align: top;\n",
       "    }\n",
       "</style>\n",
       "<table border=\"1\" class=\"dataframe\">\n",
       "  <thead>\n",
       "    <tr style=\"text-align: right;\">\n",
       "      <th></th>\n",
       "      <th>kepid</th>\n",
       "      <th>predict</th>\n",
       "      <th>CONFIRMED</th>\n",
       "      <th>FALSE POSITIVE</th>\n",
       "    </tr>\n",
       "  </thead>\n",
       "  <tbody>\n",
       "    <tr>\n",
       "      <th>1665</th>\n",
       "      <td>4255944</td>\n",
       "      <td>FALSE POSITIVE</td>\n",
       "      <td>1.575116e-07</td>\n",
       "      <td>1.000000</td>\n",
       "    </tr>\n",
       "    <tr>\n",
       "      <th>1850</th>\n",
       "      <td>5388229</td>\n",
       "      <td>FALSE POSITIVE</td>\n",
       "      <td>2.497384e-07</td>\n",
       "      <td>1.000000</td>\n",
       "    </tr>\n",
       "    <tr>\n",
       "      <th>1691</th>\n",
       "      <td>6032730</td>\n",
       "      <td>FALSE POSITIVE</td>\n",
       "      <td>4.635260e-07</td>\n",
       "      <td>1.000000</td>\n",
       "    </tr>\n",
       "    <tr>\n",
       "      <th>1798</th>\n",
       "      <td>11495989</td>\n",
       "      <td>FALSE POSITIVE</td>\n",
       "      <td>1.003039e-06</td>\n",
       "      <td>0.999999</td>\n",
       "    </tr>\n",
       "    <tr>\n",
       "      <th>1906</th>\n",
       "      <td>3634169</td>\n",
       "      <td>FALSE POSITIVE</td>\n",
       "      <td>1.091802e-06</td>\n",
       "      <td>0.999999</td>\n",
       "    </tr>\n",
       "    <tr>\n",
       "      <th>1567</th>\n",
       "      <td>9173014</td>\n",
       "      <td>FALSE POSITIVE</td>\n",
       "      <td>1.128606e-06</td>\n",
       "      <td>0.999999</td>\n",
       "    </tr>\n",
       "    <tr>\n",
       "      <th>2120</th>\n",
       "      <td>5858919</td>\n",
       "      <td>FALSE POSITIVE</td>\n",
       "      <td>1.148121e-06</td>\n",
       "      <td>0.999999</td>\n",
       "    </tr>\n",
       "    <tr>\n",
       "      <th>440</th>\n",
       "      <td>6199056</td>\n",
       "      <td>FALSE POSITIVE</td>\n",
       "      <td>1.206907e-06</td>\n",
       "      <td>0.999999</td>\n",
       "    </tr>\n",
       "    <tr>\n",
       "      <th>1286</th>\n",
       "      <td>9655129</td>\n",
       "      <td>FALSE POSITIVE</td>\n",
       "      <td>1.217450e-06</td>\n",
       "      <td>0.999999</td>\n",
       "    </tr>\n",
       "    <tr>\n",
       "      <th>2240</th>\n",
       "      <td>4548098</td>\n",
       "      <td>FALSE POSITIVE</td>\n",
       "      <td>1.232580e-06</td>\n",
       "      <td>0.999999</td>\n",
       "    </tr>\n",
       "  </tbody>\n",
       "</table>\n",
       "</div>"
      ],
      "text/plain": [
       "         kepid         predict     CONFIRMED  FALSE POSITIVE\n",
       "1665   4255944  FALSE POSITIVE  1.575116e-07        1.000000\n",
       "1850   5388229  FALSE POSITIVE  2.497384e-07        1.000000\n",
       "1691   6032730  FALSE POSITIVE  4.635260e-07        1.000000\n",
       "1798  11495989  FALSE POSITIVE  1.003039e-06        0.999999\n",
       "1906   3634169  FALSE POSITIVE  1.091802e-06        0.999999\n",
       "1567   9173014  FALSE POSITIVE  1.128606e-06        0.999999\n",
       "2120   5858919  FALSE POSITIVE  1.148121e-06        0.999999\n",
       "440    6199056  FALSE POSITIVE  1.206907e-06        0.999999\n",
       "1286   9655129  FALSE POSITIVE  1.217450e-06        0.999999\n",
       "2240   4548098  FALSE POSITIVE  1.232580e-06        0.999999"
      ]
     },
     "execution_count": 36,
     "metadata": {},
     "output_type": "execute_result"
    }
   ],
   "source": [
    "pd.DataFrame(gbm_candidate_predict_data, columns = ['kepid', 'predict','CONFIRMED','FALSE POSITIVE'])[0:10]"
   ]
  },
  {
   "cell_type": "markdown",
   "metadata": {},
   "source": [
    "#### Most likely to be confirmed exoplanets"
   ]
  },
  {
   "cell_type": "code",
   "execution_count": 37,
   "metadata": {
    "scrolled": false
   },
   "outputs": [
    {
     "data": {
      "text/html": [
       "<div>\n",
       "<style>\n",
       "    .dataframe thead tr:only-child th {\n",
       "        text-align: right;\n",
       "    }\n",
       "\n",
       "    .dataframe thead th {\n",
       "        text-align: left;\n",
       "    }\n",
       "\n",
       "    .dataframe tbody tr th {\n",
       "        vertical-align: top;\n",
       "    }\n",
       "</style>\n",
       "<table border=\"1\" class=\"dataframe\">\n",
       "  <thead>\n",
       "    <tr style=\"text-align: right;\">\n",
       "      <th></th>\n",
       "      <th>kepid</th>\n",
       "      <th>predict</th>\n",
       "      <th>CONFIRMED</th>\n",
       "      <th>FALSE POSITIVE</th>\n",
       "    </tr>\n",
       "  </thead>\n",
       "  <tbody>\n",
       "    <tr>\n",
       "      <th>557</th>\n",
       "      <td>7700622</td>\n",
       "      <td>CONFIRMED</td>\n",
       "      <td>0.999689</td>\n",
       "      <td>0.000311</td>\n",
       "    </tr>\n",
       "    <tr>\n",
       "      <th>221</th>\n",
       "      <td>3448130</td>\n",
       "      <td>CONFIRMED</td>\n",
       "      <td>0.999666</td>\n",
       "      <td>0.000334</td>\n",
       "    </tr>\n",
       "    <tr>\n",
       "      <th>553</th>\n",
       "      <td>7364176</td>\n",
       "      <td>CONFIRMED</td>\n",
       "      <td>0.999625</td>\n",
       "      <td>0.000375</td>\n",
       "    </tr>\n",
       "    <tr>\n",
       "      <th>479</th>\n",
       "      <td>3425851</td>\n",
       "      <td>CONFIRMED</td>\n",
       "      <td>0.999517</td>\n",
       "      <td>0.000483</td>\n",
       "    </tr>\n",
       "    <tr>\n",
       "      <th>185</th>\n",
       "      <td>6049190</td>\n",
       "      <td>CONFIRMED</td>\n",
       "      <td>0.999478</td>\n",
       "      <td>0.000522</td>\n",
       "    </tr>\n",
       "    <tr>\n",
       "      <th>90</th>\n",
       "      <td>10928043</td>\n",
       "      <td>CONFIRMED</td>\n",
       "      <td>0.999438</td>\n",
       "      <td>0.000562</td>\n",
       "    </tr>\n",
       "    <tr>\n",
       "      <th>175</th>\n",
       "      <td>5972334</td>\n",
       "      <td>CONFIRMED</td>\n",
       "      <td>0.999421</td>\n",
       "      <td>0.000579</td>\n",
       "    </tr>\n",
       "    <tr>\n",
       "      <th>1571</th>\n",
       "      <td>7377343</td>\n",
       "      <td>CONFIRMED</td>\n",
       "      <td>0.999377</td>\n",
       "      <td>0.000623</td>\n",
       "    </tr>\n",
       "    <tr>\n",
       "      <th>261</th>\n",
       "      <td>7761918</td>\n",
       "      <td>CONFIRMED</td>\n",
       "      <td>0.999329</td>\n",
       "      <td>0.000671</td>\n",
       "    </tr>\n",
       "    <tr>\n",
       "      <th>464</th>\n",
       "      <td>7749773</td>\n",
       "      <td>CONFIRMED</td>\n",
       "      <td>0.999316</td>\n",
       "      <td>0.000684</td>\n",
       "    </tr>\n",
       "  </tbody>\n",
       "</table>\n",
       "</div>"
      ],
      "text/plain": [
       "         kepid    predict  CONFIRMED  FALSE POSITIVE\n",
       "557    7700622  CONFIRMED   0.999689        0.000311\n",
       "221    3448130  CONFIRMED   0.999666        0.000334\n",
       "553    7364176  CONFIRMED   0.999625        0.000375\n",
       "479    3425851  CONFIRMED   0.999517        0.000483\n",
       "185    6049190  CONFIRMED   0.999478        0.000522\n",
       "90    10928043  CONFIRMED   0.999438        0.000562\n",
       "175    5972334  CONFIRMED   0.999421        0.000579\n",
       "1571   7377343  CONFIRMED   0.999377        0.000623\n",
       "261    7761918  CONFIRMED   0.999329        0.000671\n",
       "464    7749773  CONFIRMED   0.999316        0.000684"
      ]
     },
     "execution_count": 37,
     "metadata": {},
     "output_type": "execute_result"
    }
   ],
   "source": [
    "pd.DataFrame(gbm_candidate_predict_data, columns = ['kepid', 'predict','CONFIRMED','FALSE POSITIVE'])[:-11:-1]"
   ]
  },
  {
   "cell_type": "code",
   "execution_count": 38,
   "metadata": {},
   "outputs": [
    {
     "data": {
      "text/plain": [
       "<matplotlib.axes._subplots.AxesSubplot at 0x7f781edd99d0>"
      ]
     },
     "execution_count": 38,
     "metadata": {},
     "output_type": "execute_result"
    },
    {
     "data": {
      "image/png": "[encoded data removed]",
      "text/plain": [
       "<matplotlib.figure.Figure at 0x7f781ead9fd0>"
      ]
     },
     "metadata": {},
     "output_type": "display_data"
    }
   ],
   "source": [
    "probCompare = pd.concat([rf_candidate_predict_data['CONFIRMED'], gbm_candidate_predict_data['CONFIRMED']], axis=1)\n",
    "probCompare.columns = ['rf_confirmed','gbm_confirmed']\n",
    "probCompare.plot(kind='scatter', x='rf_confirmed', y='gbm_confirmed')"
   ]
  },
  {
   "cell_type": "markdown",
   "metadata": {},
   "source": [
    "Here, we see a scatterplot comparing the probabilites of CONFIRMED status for candidates, using the Random Forest model and the Gradient Boosted Method model. There is clearly a correlation between the two results."
   ]
  },
  {
   "cell_type": "code",
   "execution_count": 39,
   "metadata": {
    "scrolled": false
   },
   "outputs": [
    {
     "name": "stdout",
     "output_type": "stream",
     "text": [
      "H2O session _sid_9055 closed.\n"
     ]
    }
   ],
   "source": [
    "h2o.cluster().shutdown(prompt=False)"
   ]
  },
  {
   "cell_type": "markdown",
   "metadata": {},
   "source": [
    "## Appendix"
   ]
  },
  {
   "cell_type": "markdown",
   "metadata": {},
   "source": [
    "### Candidate Result CSV Downloads"
   ]
  },
  {
   "cell_type": "markdown",
   "metadata": {},
   "source": [
    "[Logistic Regression Model](data/glm_candidate_predict.csv)\n",
    "\n",
    "[Random Forest Model](data/rf_candidate_predict.csv)\n",
    "\n",
    "[Gradient Boosted Machine](data/gbm_candidate_predict.csv)\n",
    "\n",
    "[Summarized Table](data/summarized.csv)"
   ]
  }
 ],
 "metadata": {
  "kernelspec": {
   "display_name": "Python 2",
   "language": "python",
   "name": "python2"
  },
  "language_info": {
   "codemirror_mode": {
    "name": "ipython",
    "version": 2
   },
   "file_extension": ".py",
   "mimetype": "text/x-python",
   "name": "python",
   "nbconvert_exporter": "python",
   "pygments_lexer": "ipython2",
   "version": "2.7.12"
  }
 },
 "nbformat": 4,
 "nbformat_minor": 2
}
