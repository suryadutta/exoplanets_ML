{
 "cells": [
  {
   "cell_type": "markdown",
   "metadata": {},
   "source": [
    "# Applying Machine Learning to Exoplanet Candidate Classification"
   ]
  },
  {
   "cell_type": "markdown",
   "metadata": {},
   "source": [
    "### Data produced by the NASA Exoplanet Archive  http://exoplanetarchive.ipac.caltech.edu\n",
    "\n",
    "Data used for prediction model:\n",
    "* koi_period:     Orbital Period [days]\n",
    "* koi_time0bk:    Transit Epoch [BKJD]\n",
    "* koi_impact:     Impact Parameter\n",
    "* koi_duration:   Transit Duration [hrs]\n",
    "* koi_depth:      Transit Depth [ppm]\n",
    "* koi_prad:       Planetary Radius [Earth radii]\n",
    "* koi_teq:        Equilibrium Temperature [K]\n",
    "* koi_insol:      Insolation Flux [Earth flux]\n",
    "* koi_model_snr:  Transit Signal-to-Noise\n",
    "* koi_steff:      Stellar Effective Temperature [K]\n",
    "* koi_slogg:      Stellar Surface Gravity [log10(cm/s**2)]\n",
    "* koi_srad:       Stellar Radius [Solar radii]"
   ]
  },
  {
   "cell_type": "code",
   "execution_count": 1,
   "metadata": {
    "scrolled": false
   },
   "outputs": [
    {
     "name": "stdout",
     "output_type": "stream",
     "text": [
      "Checking whether there is an H2O instance running at http://localhost:54321..... not found.\n",
      "Attempting to start a local H2O server...\n",
      "  Java Version: openjdk version \"1.8.0_131\"; OpenJDK Runtime Environment (build 1.8.0_131-8u131-b11-0ubuntu1.16.04.2-b11); OpenJDK 64-Bit Server VM (build 25.131-b11, mixed mode)\n",
      "  Starting server from /usr/local/lib/python2.7/dist-packages/h2o/backend/bin/h2o.jar\n",
      "  Ice root: /tmp/tmp62qYQe\n",
      "  JVM stdout: /tmp/tmp62qYQe/h2o_root_started_from_python.out\n",
      "  JVM stderr: /tmp/tmp62qYQe/h2o_root_started_from_python.err\n",
      "  Server is running at http://127.0.0.1:54321\n",
      "Connecting to H2O server at http://127.0.0.1:54321... successful.\n"
     ]
    },
    {
     "data": {
      "text/html": [
       "<div style=\"overflow:auto\"><table style=\"width:50%\"><tr><td>H2O cluster uptime:</td>\n",
       "<td>02 secs</td></tr>\n",
       "<tr><td>H2O cluster version:</td>\n",
       "<td>3.10.4.8</td></tr>\n",
       "<tr><td>H2O cluster version age:</td>\n",
       "<td>1 month and 1 day </td></tr>\n",
       "<tr><td>H2O cluster name:</td>\n",
       "<td>H2O_from_python_root_8b08d9</td></tr>\n",
       "<tr><td>H2O cluster total nodes:</td>\n",
       "<td>1</td></tr>\n",
       "<tr><td>H2O cluster free memory:</td>\n",
       "<td>7.111 Gb</td></tr>\n",
       "<tr><td>H2O cluster total cores:</td>\n",
       "<td>4</td></tr>\n",
       "<tr><td>H2O cluster allowed cores:</td>\n",
       "<td>1</td></tr>\n",
       "<tr><td>H2O cluster status:</td>\n",
       "<td>accepting new members, healthy</td></tr>\n",
       "<tr><td>H2O connection url:</td>\n",
       "<td>http://127.0.0.1:54321</td></tr>\n",
       "<tr><td>H2O connection proxy:</td>\n",
       "<td>None</td></tr>\n",
       "<tr><td>H2O internal security:</td>\n",
       "<td>False</td></tr>\n",
       "<tr><td>Python version:</td>\n",
       "<td>2.7.12 final</td></tr></table></div>"
      ],
      "text/plain": [
       "--------------------------  ------------------------------\n",
       "H2O cluster uptime:         02 secs\n",
       "H2O cluster version:        3.10.4.8\n",
       "H2O cluster version age:    1 month and 1 day\n",
       "H2O cluster name:           H2O_from_python_root_8b08d9\n",
       "H2O cluster total nodes:    1\n",
       "H2O cluster free memory:    7.111 Gb\n",
       "H2O cluster total cores:    4\n",
       "H2O cluster allowed cores:  1\n",
       "H2O cluster status:         accepting new members, healthy\n",
       "H2O connection url:         http://127.0.0.1:54321\n",
       "H2O connection proxy:\n",
       "H2O internal security:      False\n",
       "Python version:             2.7.12 final\n",
       "--------------------------  ------------------------------"
      ]
     },
     "metadata": {},
     "output_type": "display_data"
    }
   ],
   "source": [
    "#initialize machine learning tool H2O.ai\n",
    "import h2o\n",
    "import pandas as pd\n",
    "h2o.init(nthreads = 1, max_mem_size=8)"
   ]
  },
  {
   "cell_type": "markdown",
   "metadata": {},
   "source": [
    "## Training Data: Already Classified Exoplanets\n",
    "\n",
    "Exoplanets that are already classified as \"CONFIRMED\" or \"FALSE POSITIVES\" are used to train the machine learning algorithm"
   ]
  },
  {
   "cell_type": "code",
   "execution_count": 2,
   "metadata": {
    "scrolled": false
   },
   "outputs": [
    {
     "name": "stdout",
     "output_type": "stream",
     "text": [
      "Parse progress: |█████████████████████████████████████████████████████████| 100%\n"
     ]
    }
   ],
   "source": [
    "exoplanets_csv = \"data/exoplanet_results.csv\"\n",
    "data = h2o.import_file(exoplanets_csv)"
   ]
  },
  {
   "cell_type": "code",
   "execution_count": 3,
   "metadata": {
    "scrolled": false
   },
   "outputs": [
    {
     "data": {
      "text/plain": [
       "[['CONFIRMED', 'FALSE POSITIVE']]"
      ]
     },
     "execution_count": 3,
     "metadata": {},
     "output_type": "execute_result"
    }
   ],
   "source": [
    "#Using classification as binary factor, outputs possible factors\n",
    "data['koi_disposition'] = data['koi_disposition'].asfactor()\n",
    "data['koi_disposition'].levels()"
   ]
  },
  {
   "cell_type": "markdown",
   "metadata": {},
   "source": [
    "We split the data into three sets - a training set, a validation set, and a testing set. The training set is used to actual train the model. The validation set is used to select the best model for the applicable data set. The test set is used to determine the accuracy of the model"
   ]
  },
  {
   "cell_type": "code",
   "execution_count": 4,
   "metadata": {
    "collapsed": true,
    "scrolled": false
   },
   "outputs": [],
   "source": [
    "splits = data.split_frame(ratios=[0.7, 0.15], seed=1)  \n",
    "\n",
    "train = splits[0]\n",
    "valid = splits[1]\n",
    "test = splits[2]"
   ]
  },
  {
   "cell_type": "code",
   "execution_count": 5,
   "metadata": {
    "scrolled": false
   },
   "outputs": [
    {
     "name": "stdout",
     "output_type": "stream",
     "text": [
      "5150\n",
      "1066\n",
      "1100\n"
     ]
    }
   ],
   "source": [
    "#note that these sets are not even. h2oai uses a seed to maintain some variability\n",
    "print train.nrow\n",
    "print valid.nrow\n",
    "print test.nrow"
   ]
  },
  {
   "cell_type": "code",
   "execution_count": 6,
   "metadata": {
    "collapsed": true,
    "scrolled": false
   },
   "outputs": [],
   "source": [
    "y = 'koi_disposition'\n",
    "x = list(data.columns)"
   ]
  },
  {
   "cell_type": "code",
   "execution_count": 7,
   "metadata": {
    "scrolled": false
   },
   "outputs": [],
   "source": [
    "#remove columns not used for prediction model\n",
    "x.remove(y)  #remove the response\n",
    "x.remove('rowid') \n",
    "x.remove('kepid')\n",
    "x.remove('kepoi_name')\n",
    "x.remove('kepler_name')"
   ]
  },
  {
   "cell_type": "markdown",
   "metadata": {},
   "source": [
    "## First Model: Generalized Logistic Regression Model\n",
    "We first run a test using one of the simplest machine learning method, the generalized linear model. Because this is a binary classification, we use a logistic regression as a classification method. This will give us a test case and some preliminary results. We can implement more advanced techniques later"
   ]
  },
  {
   "cell_type": "code",
   "execution_count": 8,
   "metadata": {
    "collapsed": true,
    "scrolled": false
   },
   "outputs": [],
   "source": [
    "from h2o.estimators.glm import H2OGeneralizedLinearEstimator"
   ]
  },
  {
   "cell_type": "code",
   "execution_count": 9,
   "metadata": {
    "collapsed": true,
    "scrolled": false
   },
   "outputs": [],
   "source": [
    "#Simple GLM\n",
    "glm_fit1 = H2OGeneralizedLinearEstimator(family='binomial', model_id='glm_fit1')"
   ]
  },
  {
   "cell_type": "code",
   "execution_count": 10,
   "metadata": {
    "scrolled": false
   },
   "outputs": [
    {
     "name": "stdout",
     "output_type": "stream",
     "text": [
      "glm Model Build progress: |███████████████████████████████████████████████| 100%\n"
     ]
    }
   ],
   "source": [
    "glm_fit1.train(x=x, y=y, training_frame=train)\n"
   ]
  },
  {
   "cell_type": "markdown",
   "metadata": {},
   "source": [
    "### Testing Model with Test Set"
   ]
  },
  {
   "cell_type": "code",
   "execution_count": 11,
   "metadata": {
    "collapsed": true,
    "scrolled": false
   },
   "outputs": [],
   "source": [
    "glm_perf1 = glm_fit1.model_performance(test)"
   ]
  },
  {
   "cell_type": "code",
   "execution_count": 12,
   "metadata": {
    "scrolled": false
   },
   "outputs": [
    {
     "name": "stdout",
     "output_type": "stream",
     "text": [
      "Confusion Matrix (Act/Pred) for max f1 @ threshold = 0.467997156851: \n"
     ]
    },
    {
     "data": {
      "text/html": [
       "<div style=\"overflow:auto\"><table style=\"width:50%\"><tr><td><b></b></td>\n",
       "<td><b>CONFIRMED</b></td>\n",
       "<td><b>FALSE POSITIVE</b></td>\n",
       "<td><b>Error</b></td>\n",
       "<td><b>Rate</b></td></tr>\n",
       "<tr><td>CONFIRMED</td>\n",
       "<td>254.0</td>\n",
       "<td>92.0</td>\n",
       "<td>0.2659</td>\n",
       "<td> (92.0/346.0)</td></tr>\n",
       "<tr><td>FALSE POSITIVE</td>\n",
       "<td>83.0</td>\n",
       "<td>671.0</td>\n",
       "<td>0.1101</td>\n",
       "<td> (83.0/754.0)</td></tr>\n",
       "<tr><td>Total</td>\n",
       "<td>337.0</td>\n",
       "<td>763.0</td>\n",
       "<td>0.1591</td>\n",
       "<td> (175.0/1100.0)</td></tr></table></div>"
      ],
      "text/plain": [
       "                CONFIRMED    FALSE POSITIVE    Error    Rate\n",
       "--------------  -----------  ----------------  -------  --------------\n",
       "CONFIRMED       254          92                0.2659   (92.0/346.0)\n",
       "FALSE POSITIVE  83           671               0.1101   (83.0/754.0)\n",
       "Total           337          763               0.1591   (175.0/1100.0)"
      ]
     },
     "metadata": {},
     "output_type": "display_data"
    },
    {
     "name": "stdout",
     "output_type": "stream",
     "text": [
      "\n"
     ]
    }
   ],
   "source": [
    "print glm_perf1.confusion_matrix()"
   ]
  },
  {
   "cell_type": "markdown",
   "metadata": {},
   "source": [
    "This confusion matrix gives the results of running this model on the test set we specified above. The columns represent the model predictions, while the rows represent the actual data. We see that this model can classify confirmed exoplanets 70-75% of the time, while it can classify False Positives ~90% of the time. Although these are rough estimates, they do give some indication to the performance of the model."
   ]
  },
  {
   "cell_type": "code",
   "execution_count": 13,
   "metadata": {
    "scrolled": false
   },
   "outputs": [
    {
     "name": "stdout",
     "output_type": "stream",
     "text": [
      "0.90631276736\n"
     ]
    }
   ],
   "source": [
    "# Retreive test set AUC\n",
    "print glm_perf1.auc()"
   ]
  },
  {
   "cell_type": "markdown",
   "metadata": {},
   "source": [
    "AUC: The expected true positive rate if the ranking is split just before a uniformly drawn random negative. \n",
    "\n",
    "From h2o.ai training manual: \n",
    "\n",
    "> For logistic regression (i.e.  binomial classification) models, look for AUC\n",
    "> * Too close to 0.5:  model doesnt predict well\n",
    "> * Too close to 1:  model predicts too well\n",
    "\n",
    "According to this, this model predicts too well. This indicates that, most likely, there is/are variable(s) we are using in the prediction model that is tied too closely to the classification of CANDIDATE or FALSE POSITIVE. Unclear which variable(s) these are.  "
   ]
  },
  {
   "cell_type": "markdown",
   "metadata": {},
   "source": [
    "### Apply Prediction Model to Exoplanet Candidates"
   ]
  },
  {
   "cell_type": "code",
   "execution_count": 14,
   "metadata": {
    "scrolled": false
   },
   "outputs": [
    {
     "name": "stdout",
     "output_type": "stream",
     "text": [
      "Parse progress: |█████████████████████████████████████████████████████████| 100%\n"
     ]
    }
   ],
   "source": [
    "#import candidate data file\n",
    "candidate_csv = \"data/candidates.csv\"\n",
    "candidateData = h2o.import_file(candidate_csv)\n"
   ]
  },
  {
   "cell_type": "code",
   "execution_count": 15,
   "metadata": {
    "scrolled": true
   },
   "outputs": [
    {
     "name": "stdout",
     "output_type": "stream",
     "text": [
      "glm prediction progress: |████████████████████████████████████████████████| 100%\n"
     ]
    }
   ],
   "source": [
    "#run GLM\n",
    "glmpredict = glm_fit1.predict(candidateData)"
   ]
  },
  {
   "cell_type": "code",
   "execution_count": 16,
   "metadata": {},
   "outputs": [
    {
     "name": "stdout",
     "output_type": "stream",
     "text": [
      "Export File progress: |███████████████████████████████████████████████████| 100%\n"
     ]
    }
   ],
   "source": [
    "candidateCombine = candidateData.cbind(glmpredict)\n",
    "h2o.export_file(candidateCombine, \"data/candidate_predict.csv\")"
   ]
  },
  {
   "cell_type": "code",
   "execution_count": 17,
   "metadata": {},
   "outputs": [],
   "source": [
    "candidatePredictData = pd.read_csv('data/candidate_predict.csv').sort_values('CONFIRMED')"
   ]
  },
  {
   "cell_type": "markdown",
   "metadata": {},
   "source": [
    "#### Most likey to be false positives"
   ]
  },
  {
   "cell_type": "code",
   "execution_count": 18,
   "metadata": {},
   "outputs": [
    {
     "data": {
      "text/html": [
       "<div>\n",
       "<style>\n",
       "    .dataframe thead tr:only-child th {\n",
       "        text-align: right;\n",
       "    }\n",
       "\n",
       "    .dataframe thead th {\n",
       "        text-align: left;\n",
       "    }\n",
       "\n",
       "    .dataframe tbody tr th {\n",
       "        vertical-align: top;\n",
       "    }\n",
       "</style>\n",
       "<table border=\"1\" class=\"dataframe\">\n",
       "  <thead>\n",
       "    <tr style=\"text-align: right;\">\n",
       "      <th></th>\n",
       "      <th>kepid</th>\n",
       "      <th>predict</th>\n",
       "      <th>CONFIRMED</th>\n",
       "      <th>FALSE POSITIVE</th>\n",
       "    </tr>\n",
       "  </thead>\n",
       "  <tbody>\n",
       "    <tr>\n",
       "      <th>1422</th>\n",
       "      <td>5131276</td>\n",
       "      <td>FALSE POSITIVE</td>\n",
       "      <td>0.0</td>\n",
       "      <td>1.0</td>\n",
       "    </tr>\n",
       "    <tr>\n",
       "      <th>1839</th>\n",
       "      <td>9790965</td>\n",
       "      <td>FALSE POSITIVE</td>\n",
       "      <td>0.0</td>\n",
       "      <td>1.0</td>\n",
       "    </tr>\n",
       "    <tr>\n",
       "      <th>1962</th>\n",
       "      <td>9025662</td>\n",
       "      <td>FALSE POSITIVE</td>\n",
       "      <td>0.0</td>\n",
       "      <td>1.0</td>\n",
       "    </tr>\n",
       "    <tr>\n",
       "      <th>32</th>\n",
       "      <td>10287723</td>\n",
       "      <td>FALSE POSITIVE</td>\n",
       "      <td>0.0</td>\n",
       "      <td>1.0</td>\n",
       "    </tr>\n",
       "    <tr>\n",
       "      <th>1266</th>\n",
       "      <td>6790592</td>\n",
       "      <td>FALSE POSITIVE</td>\n",
       "      <td>0.0</td>\n",
       "      <td>1.0</td>\n",
       "    </tr>\n",
       "  </tbody>\n",
       "</table>\n",
       "</div>"
      ],
      "text/plain": [
       "         kepid         predict  CONFIRMED  FALSE POSITIVE\n",
       "1422   5131276  FALSE POSITIVE        0.0             1.0\n",
       "1839   9790965  FALSE POSITIVE        0.0             1.0\n",
       "1962   9025662  FALSE POSITIVE        0.0             1.0\n",
       "32    10287723  FALSE POSITIVE        0.0             1.0\n",
       "1266   6790592  FALSE POSITIVE        0.0             1.0"
      ]
     },
     "execution_count": 18,
     "metadata": {},
     "output_type": "execute_result"
    }
   ],
   "source": [
    "pd.DataFrame(candidatePredictData, columns = ['kepid', 'predict','CONFIRMED','FALSE POSITIVE'])[0:5]"
   ]
  },
  {
   "cell_type": "markdown",
   "metadata": {},
   "source": [
    "#### Most likely to be confirmed exoplanets"
   ]
  },
  {
   "cell_type": "code",
   "execution_count": 19,
   "metadata": {
    "scrolled": true
   },
   "outputs": [
    {
     "data": {
      "text/html": [
       "<div>\n",
       "<style>\n",
       "    .dataframe thead tr:only-child th {\n",
       "        text-align: right;\n",
       "    }\n",
       "\n",
       "    .dataframe thead th {\n",
       "        text-align: left;\n",
       "    }\n",
       "\n",
       "    .dataframe tbody tr th {\n",
       "        vertical-align: top;\n",
       "    }\n",
       "</style>\n",
       "<table border=\"1\" class=\"dataframe\">\n",
       "  <thead>\n",
       "    <tr style=\"text-align: right;\">\n",
       "      <th></th>\n",
       "      <th>kepid</th>\n",
       "      <th>predict</th>\n",
       "      <th>CONFIRMED</th>\n",
       "      <th>FALSE POSITIVE</th>\n",
       "    </tr>\n",
       "  </thead>\n",
       "  <tbody>\n",
       "    <tr>\n",
       "      <th>1158</th>\n",
       "      <td>5384713</td>\n",
       "      <td>CONFIRMED</td>\n",
       "      <td>0.909577</td>\n",
       "      <td>0.090423</td>\n",
       "    </tr>\n",
       "    <tr>\n",
       "      <th>109</th>\n",
       "      <td>9427402</td>\n",
       "      <td>CONFIRMED</td>\n",
       "      <td>0.908379</td>\n",
       "      <td>0.091621</td>\n",
       "    </tr>\n",
       "    <tr>\n",
       "      <th>302</th>\n",
       "      <td>2161536</td>\n",
       "      <td>CONFIRMED</td>\n",
       "      <td>0.905637</td>\n",
       "      <td>0.094363</td>\n",
       "    </tr>\n",
       "    <tr>\n",
       "      <th>1511</th>\n",
       "      <td>10747162</td>\n",
       "      <td>CONFIRMED</td>\n",
       "      <td>0.905629</td>\n",
       "      <td>0.094371</td>\n",
       "    </tr>\n",
       "    <tr>\n",
       "      <th>1986</th>\n",
       "      <td>7868967</td>\n",
       "      <td>CONFIRMED</td>\n",
       "      <td>0.899582</td>\n",
       "      <td>0.100418</td>\n",
       "    </tr>\n",
       "  </tbody>\n",
       "</table>\n",
       "</div>"
      ],
      "text/plain": [
       "         kepid    predict  CONFIRMED  FALSE POSITIVE\n",
       "1158   5384713  CONFIRMED   0.909577        0.090423\n",
       "109    9427402  CONFIRMED   0.908379        0.091621\n",
       "302    2161536  CONFIRMED   0.905637        0.094363\n",
       "1511  10747162  CONFIRMED   0.905629        0.094371\n",
       "1986   7868967  CONFIRMED   0.899582        0.100418"
      ]
     },
     "execution_count": 19,
     "metadata": {},
     "output_type": "execute_result"
    }
   ],
   "source": [
    "pd.DataFrame(candidatePredictData, columns = ['kepid', 'predict','CONFIRMED','FALSE POSITIVE'])[:-6:-1]"
   ]
  },
  {
   "cell_type": "markdown",
   "metadata": {},
   "source": [
    "### Model 2: Random Forest Algorithm"
   ]
  },
  {
   "cell_type": "code",
   "execution_count": 20,
   "metadata": {
    "collapsed": true
   },
   "outputs": [],
   "source": [
    "# Import H2O RF:\n",
    "from h2o.estimators.random_forest import H2ORandomForestEstimator"
   ]
  },
  {
   "cell_type": "code",
   "execution_count": 21,
   "metadata": {},
   "outputs": [
    {
     "name": "stdout",
     "output_type": "stream",
     "text": [
      "drf Model Build progress: |███████████████████████████████████████████████| 100%\n"
     ]
    }
   ],
   "source": [
    "rf_fit1 = H2ORandomForestEstimator(model_id='rf_fit1', seed=1)\n",
    "rf_fit1.train(x=x, y=y, training_frame=train)"
   ]
  },
  {
   "cell_type": "code",
   "execution_count": 22,
   "metadata": {
    "scrolled": false
   },
   "outputs": [
    {
     "name": "stdout",
     "output_type": "stream",
     "text": [
      "drf Model Build progress: |███████████████████████████████████████████████| 100%\n"
     ]
    }
   ],
   "source": [
    "rf_fit2 = H2ORandomForestEstimator(model_id='rf_fit2', ntrees=100, seed=1)\n",
    "rf_fit2.train(x=x, y=y, training_frame=train)"
   ]
  },
  {
   "cell_type": "code",
   "execution_count": 23,
   "metadata": {
    "scrolled": true
   },
   "outputs": [
    {
     "name": "stdout",
     "output_type": "stream",
     "text": [
      "Confusion Matrix (Act/Pred) for max f1 @ threshold = 0.524022988677: \n"
     ]
    },
    {
     "data": {
      "text/html": [
       "<div style=\"overflow:auto\"><table style=\"width:50%\"><tr><td><b></b></td>\n",
       "<td><b>CONFIRMED</b></td>\n",
       "<td><b>FALSE POSITIVE</b></td>\n",
       "<td><b>Error</b></td>\n",
       "<td><b>Rate</b></td></tr>\n",
       "<tr><td>CONFIRMED</td>\n",
       "<td>309.0</td>\n",
       "<td>37.0</td>\n",
       "<td>0.1069</td>\n",
       "<td> (37.0/346.0)</td></tr>\n",
       "<tr><td>FALSE POSITIVE</td>\n",
       "<td>47.0</td>\n",
       "<td>707.0</td>\n",
       "<td>0.0623</td>\n",
       "<td> (47.0/754.0)</td></tr>\n",
       "<tr><td>Total</td>\n",
       "<td>356.0</td>\n",
       "<td>744.0</td>\n",
       "<td>0.0764</td>\n",
       "<td> (84.0/1100.0)</td></tr></table></div>"
      ],
      "text/plain": [
       "                CONFIRMED    FALSE POSITIVE    Error    Rate\n",
       "--------------  -----------  ----------------  -------  -------------\n",
       "CONFIRMED       309          37                0.1069   (37.0/346.0)\n",
       "FALSE POSITIVE  47           707               0.0623   (47.0/754.0)\n",
       "Total           356          744               0.0764   (84.0/1100.0)"
      ]
     },
     "metadata": {},
     "output_type": "display_data"
    },
    {
     "name": "stdout",
     "output_type": "stream",
     "text": [
      "\n",
      "Confusion Matrix (Act/Pred) for max f1 @ threshold = 0.496279334426: \n"
     ]
    },
    {
     "data": {
      "text/html": [
       "<div style=\"overflow:auto\"><table style=\"width:50%\"><tr><td><b></b></td>\n",
       "<td><b>CONFIRMED</b></td>\n",
       "<td><b>FALSE POSITIVE</b></td>\n",
       "<td><b>Error</b></td>\n",
       "<td><b>Rate</b></td></tr>\n",
       "<tr><td>CONFIRMED</td>\n",
       "<td>303.0</td>\n",
       "<td>43.0</td>\n",
       "<td>0.1243</td>\n",
       "<td> (43.0/346.0)</td></tr>\n",
       "<tr><td>FALSE POSITIVE</td>\n",
       "<td>43.0</td>\n",
       "<td>711.0</td>\n",
       "<td>0.057</td>\n",
       "<td> (43.0/754.0)</td></tr>\n",
       "<tr><td>Total</td>\n",
       "<td>346.0</td>\n",
       "<td>754.0</td>\n",
       "<td>0.0782</td>\n",
       "<td> (86.0/1100.0)</td></tr></table></div>"
      ],
      "text/plain": [
       "                CONFIRMED    FALSE POSITIVE    Error    Rate\n",
       "--------------  -----------  ----------------  -------  -------------\n",
       "CONFIRMED       303          43                0.1243   (43.0/346.0)\n",
       "FALSE POSITIVE  43           711               0.057    (43.0/754.0)\n",
       "Total           346          754               0.0782   (86.0/1100.0)"
      ]
     },
     "metadata": {},
     "output_type": "display_data"
    },
    {
     "name": "stdout",
     "output_type": "stream",
     "text": [
      "\n"
     ]
    }
   ],
   "source": [
    "rf_perf1 = rf_fit1.model_performance(test)\n",
    "rf_perf2 = rf_fit2.model_performance(test)\n",
    "print rf_perf1.confusion_matrix()\n",
    "print rf_perf2.confusion_matrix()"
   ]
  },
  {
   "cell_type": "code",
   "execution_count": 24,
   "metadata": {},
   "outputs": [
    {
     "name": "stdout",
     "output_type": "stream",
     "text": [
      "0.974442664173\n",
      "0.97604874197\n"
     ]
    }
   ],
   "source": [
    "# Retreive test set AUC\n",
    "print rf_perf1.auc()\n",
    "print rf_perf2.auc()"
   ]
  },
  {
   "cell_type": "code",
   "execution_count": 25,
   "metadata": {
    "scrolled": true
   },
   "outputs": [
    {
     "name": "stdout",
     "output_type": "stream",
     "text": [
      "drf Model Build progress: |███████████████████████████████████████████████| 100%\n"
     ]
    }
   ],
   "source": [
    "rf_fit3 = H2ORandomForestEstimator(model_id='rf_fit3', seed=1, nfolds=5)\n",
    "rf_fit3.train(x=x, y=y, training_frame=data)"
   ]
  },
  {
   "cell_type": "code",
   "execution_count": 26,
   "metadata": {},
   "outputs": [
    {
     "name": "stdout",
     "output_type": "stream",
     "text": [
      "0.974657178809\n"
     ]
    }
   ],
   "source": [
    "print rf_fit3.auc(xval=True)"
   ]
  },
  {
   "cell_type": "markdown",
   "metadata": {},
   "source": [
    "### Apply Prediction Model to Exoplanet Candidates"
   ]
  },
  {
   "cell_type": "code",
   "execution_count": 27,
   "metadata": {
    "scrolled": true
   },
   "outputs": [
    {
     "name": "stdout",
     "output_type": "stream",
     "text": [
      "drf prediction progress: |████████████████████████████████████████████████| 100%\n"
     ]
    }
   ],
   "source": [
    "rfpredict = rf_fit1.predict(candidateData)"
   ]
  },
  {
   "cell_type": "code",
   "execution_count": 28,
   "metadata": {
    "scrolled": true
   },
   "outputs": [
    {
     "name": "stdout",
     "output_type": "stream",
     "text": [
      "Export File progress: |███████████████████████████████████████████████████| 100%\n"
     ]
    }
   ],
   "source": [
    "rfcandidateCombine = candidateData.cbind(rfpredict)\n",
    "h2o.export_file(rfcandidateCombine, \"data/candidate_predict_rf.csv\")"
   ]
  },
  {
   "cell_type": "code",
   "execution_count": 29,
   "metadata": {
    "collapsed": true
   },
   "outputs": [],
   "source": [
    "rfcandidatePredictData = pd.read_csv('data/candidate_predict_rf.csv').sort_values('CONFIRMED')"
   ]
  },
  {
   "cell_type": "markdown",
   "metadata": {},
   "source": [
    "#### Most likey to be false positives"
   ]
  },
  {
   "cell_type": "code",
   "execution_count": 30,
   "metadata": {
    "scrolled": true
   },
   "outputs": [
    {
     "data": {
      "text/html": [
       "<div>\n",
       "<style>\n",
       "    .dataframe thead tr:only-child th {\n",
       "        text-align: right;\n",
       "    }\n",
       "\n",
       "    .dataframe thead th {\n",
       "        text-align: left;\n",
       "    }\n",
       "\n",
       "    .dataframe tbody tr th {\n",
       "        vertical-align: top;\n",
       "    }\n",
       "</style>\n",
       "<table border=\"1\" class=\"dataframe\">\n",
       "  <thead>\n",
       "    <tr style=\"text-align: right;\">\n",
       "      <th></th>\n",
       "      <th>kepid</th>\n",
       "      <th>predict</th>\n",
       "      <th>CONFIRMED</th>\n",
       "      <th>FALSE POSITIVE</th>\n",
       "    </tr>\n",
       "  </thead>\n",
       "  <tbody>\n",
       "    <tr>\n",
       "      <th>1527</th>\n",
       "      <td>9026248</td>\n",
       "      <td>FALSE POSITIVE</td>\n",
       "      <td>0.0</td>\n",
       "      <td>1.0</td>\n",
       "    </tr>\n",
       "    <tr>\n",
       "      <th>1483</th>\n",
       "      <td>8741367</td>\n",
       "      <td>FALSE POSITIVE</td>\n",
       "      <td>0.0</td>\n",
       "      <td>1.0</td>\n",
       "    </tr>\n",
       "    <tr>\n",
       "      <th>1146</th>\n",
       "      <td>5881307</td>\n",
       "      <td>FALSE POSITIVE</td>\n",
       "      <td>0.0</td>\n",
       "      <td>1.0</td>\n",
       "    </tr>\n",
       "    <tr>\n",
       "      <th>1477</th>\n",
       "      <td>10552263</td>\n",
       "      <td>FALSE POSITIVE</td>\n",
       "      <td>0.0</td>\n",
       "      <td>1.0</td>\n",
       "    </tr>\n",
       "    <tr>\n",
       "      <th>1250</th>\n",
       "      <td>5903301</td>\n",
       "      <td>FALSE POSITIVE</td>\n",
       "      <td>0.0</td>\n",
       "      <td>1.0</td>\n",
       "    </tr>\n",
       "    <tr>\n",
       "      <th>646</th>\n",
       "      <td>7303287</td>\n",
       "      <td>FALSE POSITIVE</td>\n",
       "      <td>0.0</td>\n",
       "      <td>1.0</td>\n",
       "    </tr>\n",
       "    <tr>\n",
       "      <th>1896</th>\n",
       "      <td>9098590</td>\n",
       "      <td>FALSE POSITIVE</td>\n",
       "      <td>0.0</td>\n",
       "      <td>1.0</td>\n",
       "    </tr>\n",
       "    <tr>\n",
       "      <th>1473</th>\n",
       "      <td>9466486</td>\n",
       "      <td>FALSE POSITIVE</td>\n",
       "      <td>0.0</td>\n",
       "      <td>1.0</td>\n",
       "    </tr>\n",
       "    <tr>\n",
       "      <th>1601</th>\n",
       "      <td>11860294</td>\n",
       "      <td>FALSE POSITIVE</td>\n",
       "      <td>0.0</td>\n",
       "      <td>1.0</td>\n",
       "    </tr>\n",
       "    <tr>\n",
       "      <th>2085</th>\n",
       "      <td>7695445</td>\n",
       "      <td>FALSE POSITIVE</td>\n",
       "      <td>0.0</td>\n",
       "      <td>1.0</td>\n",
       "    </tr>\n",
       "  </tbody>\n",
       "</table>\n",
       "</div>"
      ],
      "text/plain": [
       "         kepid         predict  CONFIRMED  FALSE POSITIVE\n",
       "1527   9026248  FALSE POSITIVE        0.0             1.0\n",
       "1483   8741367  FALSE POSITIVE        0.0             1.0\n",
       "1146   5881307  FALSE POSITIVE        0.0             1.0\n",
       "1477  10552263  FALSE POSITIVE        0.0             1.0\n",
       "1250   5903301  FALSE POSITIVE        0.0             1.0\n",
       "646    7303287  FALSE POSITIVE        0.0             1.0\n",
       "1896   9098590  FALSE POSITIVE        0.0             1.0\n",
       "1473   9466486  FALSE POSITIVE        0.0             1.0\n",
       "1601  11860294  FALSE POSITIVE        0.0             1.0\n",
       "2085   7695445  FALSE POSITIVE        0.0             1.0"
      ]
     },
     "execution_count": 30,
     "metadata": {},
     "output_type": "execute_result"
    }
   ],
   "source": [
    "pd.DataFrame(rfcandidatePredictData, columns = ['kepid', 'predict','CONFIRMED','FALSE POSITIVE'])[0:10]"
   ]
  },
  {
   "cell_type": "markdown",
   "metadata": {},
   "source": [
    "#### Most likely to be confirmed exoplanets"
   ]
  },
  {
   "cell_type": "code",
   "execution_count": 31,
   "metadata": {
    "scrolled": false
   },
   "outputs": [
    {
     "data": {
      "text/html": [
       "<div>\n",
       "<style>\n",
       "    .dataframe thead tr:only-child th {\n",
       "        text-align: right;\n",
       "    }\n",
       "\n",
       "    .dataframe thead th {\n",
       "        text-align: left;\n",
       "    }\n",
       "\n",
       "    .dataframe tbody tr th {\n",
       "        vertical-align: top;\n",
       "    }\n",
       "</style>\n",
       "<table border=\"1\" class=\"dataframe\">\n",
       "  <thead>\n",
       "    <tr style=\"text-align: right;\">\n",
       "      <th></th>\n",
       "      <th>kepid</th>\n",
       "      <th>predict</th>\n",
       "      <th>CONFIRMED</th>\n",
       "      <th>FALSE POSITIVE</th>\n",
       "    </tr>\n",
       "  </thead>\n",
       "  <tbody>\n",
       "    <tr>\n",
       "      <th>343</th>\n",
       "      <td>5005121</td>\n",
       "      <td>CONFIRMED</td>\n",
       "      <td>0.997559</td>\n",
       "      <td>0.002441</td>\n",
       "    </tr>\n",
       "    <tr>\n",
       "      <th>381</th>\n",
       "      <td>11852982</td>\n",
       "      <td>CONFIRMED</td>\n",
       "      <td>0.991005</td>\n",
       "      <td>0.008995</td>\n",
       "    </tr>\n",
       "    <tr>\n",
       "      <th>684</th>\n",
       "      <td>10155434</td>\n",
       "      <td>CONFIRMED</td>\n",
       "      <td>0.989190</td>\n",
       "      <td>0.010810</td>\n",
       "    </tr>\n",
       "    <tr>\n",
       "      <th>712</th>\n",
       "      <td>9266431</td>\n",
       "      <td>CONFIRMED</td>\n",
       "      <td>0.989068</td>\n",
       "      <td>0.010932</td>\n",
       "    </tr>\n",
       "    <tr>\n",
       "      <th>350</th>\n",
       "      <td>11192235</td>\n",
       "      <td>CONFIRMED</td>\n",
       "      <td>0.988824</td>\n",
       "      <td>0.011176</td>\n",
       "    </tr>\n",
       "    <tr>\n",
       "      <th>464</th>\n",
       "      <td>7749773</td>\n",
       "      <td>CONFIRMED</td>\n",
       "      <td>0.982855</td>\n",
       "      <td>0.017145</td>\n",
       "    </tr>\n",
       "    <tr>\n",
       "      <th>669</th>\n",
       "      <td>5978361</td>\n",
       "      <td>CONFIRMED</td>\n",
       "      <td>0.982461</td>\n",
       "      <td>0.017539</td>\n",
       "    </tr>\n",
       "    <tr>\n",
       "      <th>16</th>\n",
       "      <td>7135852</td>\n",
       "      <td>CONFIRMED</td>\n",
       "      <td>0.977588</td>\n",
       "      <td>0.022412</td>\n",
       "    </tr>\n",
       "    <tr>\n",
       "      <th>549</th>\n",
       "      <td>6291837</td>\n",
       "      <td>CONFIRMED</td>\n",
       "      <td>0.976460</td>\n",
       "      <td>0.023540</td>\n",
       "    </tr>\n",
       "    <tr>\n",
       "      <th>306</th>\n",
       "      <td>8410415</td>\n",
       "      <td>CONFIRMED</td>\n",
       "      <td>0.975744</td>\n",
       "      <td>0.024256</td>\n",
       "    </tr>\n",
       "  </tbody>\n",
       "</table>\n",
       "</div>"
      ],
      "text/plain": [
       "        kepid    predict  CONFIRMED  FALSE POSITIVE\n",
       "343   5005121  CONFIRMED   0.997559        0.002441\n",
       "381  11852982  CONFIRMED   0.991005        0.008995\n",
       "684  10155434  CONFIRMED   0.989190        0.010810\n",
       "712   9266431  CONFIRMED   0.989068        0.010932\n",
       "350  11192235  CONFIRMED   0.988824        0.011176\n",
       "464   7749773  CONFIRMED   0.982855        0.017145\n",
       "669   5978361  CONFIRMED   0.982461        0.017539\n",
       "16    7135852  CONFIRMED   0.977588        0.022412\n",
       "549   6291837  CONFIRMED   0.976460        0.023540\n",
       "306   8410415  CONFIRMED   0.975744        0.024256"
      ]
     },
     "execution_count": 31,
     "metadata": {},
     "output_type": "execute_result"
    }
   ],
   "source": [
    "pd.DataFrame(rfcandidatePredictData, columns = ['kepid', 'predict','CONFIRMED','FALSE POSITIVE'])[:-11:-1]"
   ]
  },
  {
   "cell_type": "markdown",
   "metadata": {},
   "source": [
    "### Model 3: Gradient Boosting Machine"
   ]
  },
  {
   "cell_type": "code",
   "execution_count": 32,
   "metadata": {
    "collapsed": true
   },
   "outputs": [],
   "source": [
    "# Import H2O GBM:\n",
    "from h2o.estimators.gbm import H2OGradientBoostingEstimator"
   ]
  },
  {
   "cell_type": "code",
   "execution_count": 33,
   "metadata": {},
   "outputs": [
    {
     "name": "stdout",
     "output_type": "stream",
     "text": [
      "gbm Model Build progress: |███████████████████████████████████████████████| 100%\n"
     ]
    }
   ],
   "source": [
    "# Initialize and train the GBM estimator:\n",
    "\n",
    "gbm_fit1 = H2OGradientBoostingEstimator(model_id='gbm_fit1', seed=1)\n",
    "gbm_fit1.train(x=x, y=y, training_frame=train)"
   ]
  },
  {
   "cell_type": "code",
   "execution_count": 34,
   "metadata": {
    "scrolled": false
   },
   "outputs": [
    {
     "name": "stdout",
     "output_type": "stream",
     "text": [
      "gbm Model Build progress: |███████████████████████████████████████████████| 100%\n"
     ]
    }
   ],
   "source": [
    "gbm_fit2 = H2OGradientBoostingEstimator(model_id='gbm_fit2', ntrees=500, seed=1)\n",
    "gbm_fit2.train(x=x, y=y, training_frame=train)"
   ]
  },
  {
   "cell_type": "code",
   "execution_count": 35,
   "metadata": {
    "scrolled": true
   },
   "outputs": [
    {
     "name": "stdout",
     "output_type": "stream",
     "text": [
      "Confusion Matrix (Act/Pred) for max f1 @ threshold = 0.431513158048: \n"
     ]
    },
    {
     "data": {
      "text/html": [
       "<div style=\"overflow:auto\"><table style=\"width:50%\"><tr><td><b></b></td>\n",
       "<td><b>CONFIRMED</b></td>\n",
       "<td><b>FALSE POSITIVE</b></td>\n",
       "<td><b>Error</b></td>\n",
       "<td><b>Rate</b></td></tr>\n",
       "<tr><td>CONFIRMED</td>\n",
       "<td>293.0</td>\n",
       "<td>53.0</td>\n",
       "<td>0.1532</td>\n",
       "<td> (53.0/346.0)</td></tr>\n",
       "<tr><td>FALSE POSITIVE</td>\n",
       "<td>43.0</td>\n",
       "<td>711.0</td>\n",
       "<td>0.057</td>\n",
       "<td> (43.0/754.0)</td></tr>\n",
       "<tr><td>Total</td>\n",
       "<td>336.0</td>\n",
       "<td>764.0</td>\n",
       "<td>0.0873</td>\n",
       "<td> (96.0/1100.0)</td></tr></table></div>"
      ],
      "text/plain": [
       "                CONFIRMED    FALSE POSITIVE    Error    Rate\n",
       "--------------  -----------  ----------------  -------  -------------\n",
       "CONFIRMED       293          53                0.1532   (53.0/346.0)\n",
       "FALSE POSITIVE  43           711               0.057    (43.0/754.0)\n",
       "Total           336          764               0.0873   (96.0/1100.0)"
      ]
     },
     "metadata": {},
     "output_type": "display_data"
    },
    {
     "name": "stdout",
     "output_type": "stream",
     "text": [
      "\n",
      "Confusion Matrix (Act/Pred) for max f1 @ threshold = 0.498293114556: \n"
     ]
    },
    {
     "data": {
      "text/html": [
       "<div style=\"overflow:auto\"><table style=\"width:50%\"><tr><td><b></b></td>\n",
       "<td><b>CONFIRMED</b></td>\n",
       "<td><b>FALSE POSITIVE</b></td>\n",
       "<td><b>Error</b></td>\n",
       "<td><b>Rate</b></td></tr>\n",
       "<tr><td>CONFIRMED</td>\n",
       "<td>306.0</td>\n",
       "<td>40.0</td>\n",
       "<td>0.1156</td>\n",
       "<td> (40.0/346.0)</td></tr>\n",
       "<tr><td>FALSE POSITIVE</td>\n",
       "<td>40.0</td>\n",
       "<td>714.0</td>\n",
       "<td>0.0531</td>\n",
       "<td> (40.0/754.0)</td></tr>\n",
       "<tr><td>Total</td>\n",
       "<td>346.0</td>\n",
       "<td>754.0</td>\n",
       "<td>0.0727</td>\n",
       "<td> (80.0/1100.0)</td></tr></table></div>"
      ],
      "text/plain": [
       "                CONFIRMED    FALSE POSITIVE    Error    Rate\n",
       "--------------  -----------  ----------------  -------  -------------\n",
       "CONFIRMED       306          40                0.1156   (40.0/346.0)\n",
       "FALSE POSITIVE  40           714               0.0531   (40.0/754.0)\n",
       "Total           346          754               0.0727   (80.0/1100.0)"
      ]
     },
     "metadata": {},
     "output_type": "display_data"
    },
    {
     "name": "stdout",
     "output_type": "stream",
     "text": [
      "\n"
     ]
    }
   ],
   "source": [
    "gbm_perf1 = gbm_fit1.model_performance(test)\n",
    "gbm_perf2 = gbm_fit2.model_performance(test)\n",
    "print gbm_perf1.confusion_matrix()\n",
    "print gbm_perf2.confusion_matrix()"
   ]
  },
  {
   "cell_type": "code",
   "execution_count": 36,
   "metadata": {},
   "outputs": [
    {
     "name": "stdout",
     "output_type": "stream",
     "text": [
      "0.97362620935\n",
      "0.978592017908\n"
     ]
    }
   ],
   "source": [
    "# Retreive test set AUC\n",
    "print gbm_perf1.auc()\n",
    "print gbm_perf2.auc()"
   ]
  },
  {
   "cell_type": "markdown",
   "metadata": {},
   "source": [
    "### Apply Prediction Model to Exoplanet Candidates"
   ]
  },
  {
   "cell_type": "code",
   "execution_count": 37,
   "metadata": {
    "scrolled": true
   },
   "outputs": [
    {
     "name": "stdout",
     "output_type": "stream",
     "text": [
      "gbm prediction progress: |████████████████████████████████████████████████| 100%\n"
     ]
    }
   ],
   "source": [
    "gbmpredict = gbm_fit1.predict(candidateData)"
   ]
  },
  {
   "cell_type": "code",
   "execution_count": 38,
   "metadata": {
    "scrolled": true
   },
   "outputs": [
    {
     "name": "stdout",
     "output_type": "stream",
     "text": [
      "Export File progress: |███████████████████████████████████████████████████| 100%\n"
     ]
    }
   ],
   "source": [
    "gbmcandidateCombine = candidateData.cbind(gbmpredict)\n",
    "h2o.export_file(gbmcandidateCombine, \"data/candidate_predict_gbm.csv\")"
   ]
  },
  {
   "cell_type": "code",
   "execution_count": 39,
   "metadata": {
    "collapsed": true
   },
   "outputs": [],
   "source": [
    "gbmcandidatePredictData = pd.read_csv('data/candidate_predict_gbm.csv').sort_values('CONFIRMED')"
   ]
  },
  {
   "cell_type": "markdown",
   "metadata": {},
   "source": [
    "#### Most likey to be false positives"
   ]
  },
  {
   "cell_type": "code",
   "execution_count": 40,
   "metadata": {
    "scrolled": true
   },
   "outputs": [
    {
     "data": {
      "text/html": [
       "<div>\n",
       "<style>\n",
       "    .dataframe thead tr:only-child th {\n",
       "        text-align: right;\n",
       "    }\n",
       "\n",
       "    .dataframe thead th {\n",
       "        text-align: left;\n",
       "    }\n",
       "\n",
       "    .dataframe tbody tr th {\n",
       "        vertical-align: top;\n",
       "    }\n",
       "</style>\n",
       "<table border=\"1\" class=\"dataframe\">\n",
       "  <thead>\n",
       "    <tr style=\"text-align: right;\">\n",
       "      <th></th>\n",
       "      <th>kepid</th>\n",
       "      <th>predict</th>\n",
       "      <th>CONFIRMED</th>\n",
       "      <th>FALSE POSITIVE</th>\n",
       "    </tr>\n",
       "  </thead>\n",
       "  <tbody>\n",
       "    <tr>\n",
       "      <th>2120</th>\n",
       "      <td>5858919</td>\n",
       "      <td>FALSE POSITIVE</td>\n",
       "      <td>0.003560</td>\n",
       "      <td>0.996440</td>\n",
       "    </tr>\n",
       "    <tr>\n",
       "      <th>1286</th>\n",
       "      <td>9655129</td>\n",
       "      <td>FALSE POSITIVE</td>\n",
       "      <td>0.003914</td>\n",
       "      <td>0.996086</td>\n",
       "    </tr>\n",
       "    <tr>\n",
       "      <th>1850</th>\n",
       "      <td>5388229</td>\n",
       "      <td>FALSE POSITIVE</td>\n",
       "      <td>0.004524</td>\n",
       "      <td>0.995476</td>\n",
       "    </tr>\n",
       "    <tr>\n",
       "      <th>1740</th>\n",
       "      <td>5716244</td>\n",
       "      <td>FALSE POSITIVE</td>\n",
       "      <td>0.004660</td>\n",
       "      <td>0.995340</td>\n",
       "    </tr>\n",
       "    <tr>\n",
       "      <th>1665</th>\n",
       "      <td>4255944</td>\n",
       "      <td>FALSE POSITIVE</td>\n",
       "      <td>0.004888</td>\n",
       "      <td>0.995112</td>\n",
       "    </tr>\n",
       "    <tr>\n",
       "      <th>1585</th>\n",
       "      <td>7458743</td>\n",
       "      <td>FALSE POSITIVE</td>\n",
       "      <td>0.004979</td>\n",
       "      <td>0.995021</td>\n",
       "    </tr>\n",
       "    <tr>\n",
       "      <th>1798</th>\n",
       "      <td>11495989</td>\n",
       "      <td>FALSE POSITIVE</td>\n",
       "      <td>0.005548</td>\n",
       "      <td>0.994452</td>\n",
       "    </tr>\n",
       "    <tr>\n",
       "      <th>1948</th>\n",
       "      <td>4862924</td>\n",
       "      <td>FALSE POSITIVE</td>\n",
       "      <td>0.005708</td>\n",
       "      <td>0.994292</td>\n",
       "    </tr>\n",
       "    <tr>\n",
       "      <th>1504</th>\n",
       "      <td>8868481</td>\n",
       "      <td>FALSE POSITIVE</td>\n",
       "      <td>0.006043</td>\n",
       "      <td>0.993957</td>\n",
       "    </tr>\n",
       "    <tr>\n",
       "      <th>1473</th>\n",
       "      <td>9466486</td>\n",
       "      <td>FALSE POSITIVE</td>\n",
       "      <td>0.006083</td>\n",
       "      <td>0.993917</td>\n",
       "    </tr>\n",
       "  </tbody>\n",
       "</table>\n",
       "</div>"
      ],
      "text/plain": [
       "         kepid         predict  CONFIRMED  FALSE POSITIVE\n",
       "2120   5858919  FALSE POSITIVE   0.003560        0.996440\n",
       "1286   9655129  FALSE POSITIVE   0.003914        0.996086\n",
       "1850   5388229  FALSE POSITIVE   0.004524        0.995476\n",
       "1740   5716244  FALSE POSITIVE   0.004660        0.995340\n",
       "1665   4255944  FALSE POSITIVE   0.004888        0.995112\n",
       "1585   7458743  FALSE POSITIVE   0.004979        0.995021\n",
       "1798  11495989  FALSE POSITIVE   0.005548        0.994452\n",
       "1948   4862924  FALSE POSITIVE   0.005708        0.994292\n",
       "1504   8868481  FALSE POSITIVE   0.006043        0.993957\n",
       "1473   9466486  FALSE POSITIVE   0.006083        0.993917"
      ]
     },
     "execution_count": 40,
     "metadata": {},
     "output_type": "execute_result"
    }
   ],
   "source": [
    "pd.DataFrame(gbmcandidatePredictData, columns = ['kepid', 'predict','CONFIRMED','FALSE POSITIVE'])[0:10]"
   ]
  },
  {
   "cell_type": "markdown",
   "metadata": {},
   "source": [
    "#### Most likely to be confirmed exoplanets"
   ]
  },
  {
   "cell_type": "code",
   "execution_count": 41,
   "metadata": {
    "scrolled": false
   },
   "outputs": [
    {
     "data": {
      "text/html": [
       "<div>\n",
       "<style>\n",
       "    .dataframe thead tr:only-child th {\n",
       "        text-align: right;\n",
       "    }\n",
       "\n",
       "    .dataframe thead th {\n",
       "        text-align: left;\n",
       "    }\n",
       "\n",
       "    .dataframe tbody tr th {\n",
       "        vertical-align: top;\n",
       "    }\n",
       "</style>\n",
       "<table border=\"1\" class=\"dataframe\">\n",
       "  <thead>\n",
       "    <tr style=\"text-align: right;\">\n",
       "      <th></th>\n",
       "      <th>kepid</th>\n",
       "      <th>predict</th>\n",
       "      <th>CONFIRMED</th>\n",
       "      <th>FALSE POSITIVE</th>\n",
       "    </tr>\n",
       "  </thead>\n",
       "  <tbody>\n",
       "    <tr>\n",
       "      <th>218</th>\n",
       "      <td>3629967</td>\n",
       "      <td>CONFIRMED</td>\n",
       "      <td>0.955072</td>\n",
       "      <td>0.044928</td>\n",
       "    </tr>\n",
       "    <tr>\n",
       "      <th>464</th>\n",
       "      <td>7749773</td>\n",
       "      <td>CONFIRMED</td>\n",
       "      <td>0.953844</td>\n",
       "      <td>0.046156</td>\n",
       "    </tr>\n",
       "    <tr>\n",
       "      <th>221</th>\n",
       "      <td>3448130</td>\n",
       "      <td>CONFIRMED</td>\n",
       "      <td>0.953196</td>\n",
       "      <td>0.046804</td>\n",
       "    </tr>\n",
       "    <tr>\n",
       "      <th>543</th>\n",
       "      <td>4815520</td>\n",
       "      <td>CONFIRMED</td>\n",
       "      <td>0.949934</td>\n",
       "      <td>0.050066</td>\n",
       "    </tr>\n",
       "    <tr>\n",
       "      <th>185</th>\n",
       "      <td>6049190</td>\n",
       "      <td>CONFIRMED</td>\n",
       "      <td>0.949532</td>\n",
       "      <td>0.050468</td>\n",
       "    </tr>\n",
       "    <tr>\n",
       "      <th>656</th>\n",
       "      <td>9957627</td>\n",
       "      <td>CONFIRMED</td>\n",
       "      <td>0.949176</td>\n",
       "      <td>0.050824</td>\n",
       "    </tr>\n",
       "    <tr>\n",
       "      <th>332</th>\n",
       "      <td>9472000</td>\n",
       "      <td>CONFIRMED</td>\n",
       "      <td>0.947182</td>\n",
       "      <td>0.052818</td>\n",
       "    </tr>\n",
       "    <tr>\n",
       "      <th>261</th>\n",
       "      <td>7761918</td>\n",
       "      <td>CONFIRMED</td>\n",
       "      <td>0.946757</td>\n",
       "      <td>0.053243</td>\n",
       "    </tr>\n",
       "    <tr>\n",
       "      <th>616</th>\n",
       "      <td>11394027</td>\n",
       "      <td>CONFIRMED</td>\n",
       "      <td>0.945315</td>\n",
       "      <td>0.054685</td>\n",
       "    </tr>\n",
       "    <tr>\n",
       "      <th>344</th>\n",
       "      <td>9003401</td>\n",
       "      <td>CONFIRMED</td>\n",
       "      <td>0.944689</td>\n",
       "      <td>0.055311</td>\n",
       "    </tr>\n",
       "  </tbody>\n",
       "</table>\n",
       "</div>"
      ],
      "text/plain": [
       "        kepid    predict  CONFIRMED  FALSE POSITIVE\n",
       "218   3629967  CONFIRMED   0.955072        0.044928\n",
       "464   7749773  CONFIRMED   0.953844        0.046156\n",
       "221   3448130  CONFIRMED   0.953196        0.046804\n",
       "543   4815520  CONFIRMED   0.949934        0.050066\n",
       "185   6049190  CONFIRMED   0.949532        0.050468\n",
       "656   9957627  CONFIRMED   0.949176        0.050824\n",
       "332   9472000  CONFIRMED   0.947182        0.052818\n",
       "261   7761918  CONFIRMED   0.946757        0.053243\n",
       "616  11394027  CONFIRMED   0.945315        0.054685\n",
       "344   9003401  CONFIRMED   0.944689        0.055311"
      ]
     },
     "execution_count": 41,
     "metadata": {},
     "output_type": "execute_result"
    }
   ],
   "source": [
    "pd.DataFrame(gbmcandidatePredictData, columns = ['kepid', 'predict','CONFIRMED','FALSE POSITIVE'])[:-11:-1]"
   ]
  },
  {
   "cell_type": "code",
   "execution_count": 43,
   "metadata": {
    "scrolled": false
   },
   "outputs": [
    {
     "name": "stdout",
     "output_type": "stream",
     "text": [
      "H2O session _sid_a646 closed.\n"
     ]
    }
   ],
   "source": [
    "h2o.cluster().shutdown(prompt=False)"
   ]
  }
 ],
 "metadata": {
  "kernelspec": {
   "display_name": "Python 2",
   "language": "python",
   "name": "python2"
  },
  "language_info": {
   "codemirror_mode": {
    "name": "ipython",
    "version": 2
   },
   "file_extension": ".py",
   "mimetype": "text/x-python",
   "name": "python",
   "nbconvert_exporter": "python",
   "pygments_lexer": "ipython2",
   "version": "2.7.12"
  }
 },
 "nbformat": 4,
 "nbformat_minor": 2
}
