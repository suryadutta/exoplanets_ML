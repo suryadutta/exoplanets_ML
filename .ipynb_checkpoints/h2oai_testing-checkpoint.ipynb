{
 "cells": [
  {
   "cell_type": "code",
   "execution_count": 24,
   "metadata": {},
   "outputs": [
    {
     "name": "stdout",
     "output_type": "stream",
     "text": [
      "Checking whether there is an H2O instance running at http://localhost:54321. connected.\n"
     ]
    },
    {
     "data": {
      "text/html": [
       "<div style=\"overflow:auto\"><table style=\"width:50%\"><tr><td>H2O cluster uptime:</td>\n",
       "<td>33 mins 52 secs</td></tr>\n",
       "<tr><td>H2O cluster version:</td>\n",
       "<td>3.10.4.8</td></tr>\n",
       "<tr><td>H2O cluster version age:</td>\n",
       "<td>1 month </td></tr>\n",
       "<tr><td>H2O cluster name:</td>\n",
       "<td>H2O_from_python_root_kjpvgt</td></tr>\n",
       "<tr><td>H2O cluster total nodes:</td>\n",
       "<td>1</td></tr>\n",
       "<tr><td>H2O cluster free memory:</td>\n",
       "<td>6.937 Gb</td></tr>\n",
       "<tr><td>H2O cluster total cores:</td>\n",
       "<td>4</td></tr>\n",
       "<tr><td>H2O cluster allowed cores:</td>\n",
       "<td>4</td></tr>\n",
       "<tr><td>H2O cluster status:</td>\n",
       "<td>locked, healthy</td></tr>\n",
       "<tr><td>H2O connection url:</td>\n",
       "<td>http://localhost:54321</td></tr>\n",
       "<tr><td>H2O connection proxy:</td>\n",
       "<td>None</td></tr>\n",
       "<tr><td>H2O internal security:</td>\n",
       "<td>False</td></tr>\n",
       "<tr><td>Python version:</td>\n",
       "<td>2.7.12 final</td></tr></table></div>"
      ],
      "text/plain": [
       "--------------------------  ---------------------------\n",
       "H2O cluster uptime:         33 mins 52 secs\n",
       "H2O cluster version:        3.10.4.8\n",
       "H2O cluster version age:    1 month\n",
       "H2O cluster name:           H2O_from_python_root_kjpvgt\n",
       "H2O cluster total nodes:    1\n",
       "H2O cluster free memory:    6.937 Gb\n",
       "H2O cluster total cores:    4\n",
       "H2O cluster allowed cores:  4\n",
       "H2O cluster status:         locked, healthy\n",
       "H2O connection url:         http://localhost:54321\n",
       "H2O connection proxy:\n",
       "H2O internal security:      False\n",
       "Python version:             2.7.12 final\n",
       "--------------------------  ---------------------------"
      ]
     },
     "metadata": {},
     "output_type": "display_data"
    }
   ],
   "source": [
    "import h2o\n",
    "h2o.init(nthreads = -1, max_mem_size=8)"
   ]
  },
  {
   "cell_type": "code",
   "execution_count": 25,
   "metadata": {},
   "outputs": [
    {
     "name": "stdout",
     "output_type": "stream",
     "text": [
      "Parse progress: |█████████████████████████████████████████████████████████| 100%\n"
     ]
    }
   ],
   "source": [
    "exoplanets_csv = \"data/cumulative.csv\"\n",
    "data = h2o.import_file(exoplanets_csv)"
   ]
  },
  {
   "cell_type": "code",
   "execution_count": 26,
   "metadata": {},
   "outputs": [
    {
     "data": {
      "text/plain": [
       "(9564, 20)"
      ]
     },
     "execution_count": 26,
     "metadata": {},
     "output_type": "execute_result"
    }
   ],
   "source": [
    "data.shape"
   ]
  },
  {
   "cell_type": "code",
   "execution_count": 27,
   "metadata": {},
   "outputs": [
    {
     "data": {
      "text/plain": [
       "[['0', '1']]"
      ]
     },
     "execution_count": 27,
     "metadata": {},
     "output_type": "execute_result"
    }
   ],
   "source": [
    "data['is_exoplanet'] = data['is_exoplanet'].asfactor()\n",
    "data['is_exoplanet'].levels()"
   ]
  },
  {
   "cell_type": "code",
   "execution_count": 28,
   "metadata": {
    "collapsed": true
   },
   "outputs": [],
   "source": [
    "splits = data.split_frame(ratios=[0.7, 0.15], seed=1)  \n",
    "\n",
    "train = splits[0]\n",
    "valid = splits[1]\n",
    "test = splits[2]"
   ]
  },
  {
   "cell_type": "code",
   "execution_count": 29,
   "metadata": {},
   "outputs": [
    {
     "name": "stdout",
     "output_type": "stream",
     "text": [
      "6711\n",
      "1418\n",
      "1435\n"
     ]
    }
   ],
   "source": [
    "print train.nrow\n",
    "print valid.nrow\n",
    "print test.nrow"
   ]
  },
  {
   "cell_type": "code",
   "execution_count": 30,
   "metadata": {
    "collapsed": true
   },
   "outputs": [],
   "source": [
    "y = 'is_exoplanet'\n",
    "x = list(data.columns)"
   ]
  },
  {
   "cell_type": "code",
   "execution_count": 31,
   "metadata": {},
   "outputs": [
    {
     "data": {
      "text/plain": [
       "[u'koi_period',\n",
       " u'koi_time0bk',\n",
       " u'koi_impact',\n",
       " u'koi_duration',\n",
       " u'koi_depth',\n",
       " u'koi_prad',\n",
       " u'koi_teq',\n",
       " u'koi_insol',\n",
       " u'koi_model_snr',\n",
       " u'koi_tce_plnt_num',\n",
       " u'koi_tce_delivname',\n",
       " u'koi_steff',\n",
       " u'koi_slogg',\n",
       " u'koi_srad',\n",
       " u'ra',\n",
       " u'dec',\n",
       " u'koi_kepmag']"
      ]
     },
     "execution_count": 31,
     "metadata": {},
     "output_type": "execute_result"
    }
   ],
   "source": [
    "x.remove(y)  #remove the response\n",
    "x.remove('rowid') #remove id number\n",
    "x.remove('koi_disposition')\n",
    "x"
   ]
  },
  {
   "cell_type": "code",
   "execution_count": 32,
   "metadata": {
    "collapsed": true
   },
   "outputs": [],
   "source": [
    "from h2o.estimators.glm import H2OGeneralizedLinearEstimator"
   ]
  },
  {
   "cell_type": "code",
   "execution_count": 33,
   "metadata": {
    "collapsed": true
   },
   "outputs": [],
   "source": [
    "glm_fit1 = H2OGeneralizedLinearEstimator(family='binomial', model_id='glm_fit1')"
   ]
  },
  {
   "cell_type": "code",
   "execution_count": 34,
   "metadata": {},
   "outputs": [
    {
     "name": "stdout",
     "output_type": "stream",
     "text": [
      "glm Model Build progress: |███████████████████████████████████████████████| 100%\n"
     ]
    }
   ],
   "source": [
    "glm_fit1.train(x=x, y=y, training_frame=train)\n"
   ]
  },
  {
   "cell_type": "code",
   "execution_count": 35,
   "metadata": {},
   "outputs": [
    {
     "name": "stdout",
     "output_type": "stream",
     "text": [
      "glm Model Build progress: |███████████████████████████████████████████████| 100%\n"
     ]
    }
   ],
   "source": [
    "glm_fit2 = H2OGeneralizedLinearEstimator(family='binomial', model_id='glm_fit2', lambda_search=True)\n",
    "glm_fit2.train(x=x, y=y, training_frame=train, validation_frame=valid)"
   ]
  },
  {
   "cell_type": "code",
   "execution_count": 36,
   "metadata": {
    "collapsed": true
   },
   "outputs": [],
   "source": [
    "glm_perf1 = glm_fit1.model_performance(test)\n",
    "glm_perf2 = glm_fit2.model_performance(test)"
   ]
  },
  {
   "cell_type": "code",
   "execution_count": 37,
   "metadata": {
    "scrolled": false
   },
   "outputs": [
    {
     "name": "stdout",
     "output_type": "stream",
     "text": [
      "\n",
      "ModelMetricsBinomialGLM: glm\n",
      "** Reported on test data. **\n",
      "\n",
      "MSE: 0.164785811375\n",
      "RMSE: 0.405938186643\n",
      "LogLoss: 0.547752251444\n",
      "Null degrees of freedom: 1434\n",
      "Residual degrees of freedom: 1415\n",
      "Null deviance: 1985.05001857\n",
      "Residual deviance: 1573.36725512\n",
      "AIC: 1613.36725512\n",
      "AUC: 0.834774162877\n",
      "Gini: 0.669548325754\n",
      "Confusion Matrix (Act/Pred) for max f1 @ threshold = 0.478564003914: \n"
     ]
    },
    {
     "data": {
      "text/html": [
       "<div style=\"overflow:auto\"><table style=\"width:50%\"><tr><td><b></b></td>\n",
       "<td><b>0</b></td>\n",
       "<td><b>1</b></td>\n",
       "<td><b>Error</b></td>\n",
       "<td><b>Rate</b></td></tr>\n",
       "<tr><td>0</td>\n",
       "<td>534.0</td>\n",
       "<td>223.0</td>\n",
       "<td>0.2946</td>\n",
       "<td> (223.0/757.0)</td></tr>\n",
       "<tr><td>1</td>\n",
       "<td>105.0</td>\n",
       "<td>573.0</td>\n",
       "<td>0.1549</td>\n",
       "<td> (105.0/678.0)</td></tr>\n",
       "<tr><td>Total</td>\n",
       "<td>639.0</td>\n",
       "<td>796.0</td>\n",
       "<td>0.2286</td>\n",
       "<td> (328.0/1435.0)</td></tr></table></div>"
      ],
      "text/plain": [
       "       0    1    Error    Rate\n",
       "-----  ---  ---  -------  --------------\n",
       "0      534  223  0.2946   (223.0/757.0)\n",
       "1      105  573  0.1549   (105.0/678.0)\n",
       "Total  639  796  0.2286   (328.0/1435.0)"
      ]
     },
     "metadata": {},
     "output_type": "display_data"
    },
    {
     "name": "stdout",
     "output_type": "stream",
     "text": [
      "Maximum Metrics: Maximum metrics at their respective thresholds\n",
      "\n"
     ]
    },
    {
     "data": {
      "text/html": [
       "<div style=\"overflow:auto\"><table style=\"width:50%\"><tr><td><b>metric</b></td>\n",
       "<td><b>threshold</b></td>\n",
       "<td><b>value</b></td>\n",
       "<td><b>idx</b></td></tr>\n",
       "<tr><td>max f1</td>\n",
       "<td>0.4785640</td>\n",
       "<td>0.7774763</td>\n",
       "<td>220.0</td></tr>\n",
       "<tr><td>max f2</td>\n",
       "<td>0.1878647</td>\n",
       "<td>0.8535300</td>\n",
       "<td>323.0</td></tr>\n",
       "<tr><td>max f0point5</td>\n",
       "<td>0.5451672</td>\n",
       "<td>0.7564103</td>\n",
       "<td>194.0</td></tr>\n",
       "<tr><td>max accuracy</td>\n",
       "<td>0.5451672</td>\n",
       "<td>0.7742160</td>\n",
       "<td>194.0</td></tr>\n",
       "<tr><td>max precision</td>\n",
       "<td>0.9212028</td>\n",
       "<td>0.9615385</td>\n",
       "<td>15.0</td></tr>\n",
       "<tr><td>max recall</td>\n",
       "<td>0.0000267</td>\n",
       "<td>1.0</td>\n",
       "<td>399.0</td></tr>\n",
       "<tr><td>max specificity</td>\n",
       "<td>0.9999998</td>\n",
       "<td>0.9986790</td>\n",
       "<td>0.0</td></tr>\n",
       "<tr><td>max absolute_mcc</td>\n",
       "<td>0.4785640</td>\n",
       "<td>0.5530338</td>\n",
       "<td>220.0</td></tr>\n",
       "<tr><td>max min_per_class_accuracy</td>\n",
       "<td>0.5544696</td>\n",
       "<td>0.7713864</td>\n",
       "<td>190.0</td></tr>\n",
       "<tr><td>max mean_per_class_accuracy</td>\n",
       "<td>0.4785640</td>\n",
       "<td>0.7752744</td>\n",
       "<td>220.0</td></tr></table></div>"
      ],
      "text/plain": [
       "metric                       threshold    value     idx\n",
       "---------------------------  -----------  --------  -----\n",
       "max f1                       0.478564     0.777476  220\n",
       "max f2                       0.187865     0.85353   323\n",
       "max f0point5                 0.545167     0.75641   194\n",
       "max accuracy                 0.545167     0.774216  194\n",
       "max precision                0.921203     0.961538  15\n",
       "max recall                   2.66686e-05  1         399\n",
       "max specificity              1            0.998679  0\n",
       "max absolute_mcc             0.478564     0.553034  220\n",
       "max min_per_class_accuracy   0.55447      0.771386  190\n",
       "max mean_per_class_accuracy  0.478564     0.775274  220"
      ]
     },
     "metadata": {},
     "output_type": "display_data"
    },
    {
     "name": "stdout",
     "output_type": "stream",
     "text": [
      "Gains/Lift Table: Avg response rate: 47.25 %\n",
      "\n"
     ]
    },
    {
     "data": {
      "text/html": [
       "<div style=\"overflow:auto\"><table style=\"width:50%\"><tr><td><b></b></td>\n",
       "<td><b>group</b></td>\n",
       "<td><b>cumulative_data_fraction</b></td>\n",
       "<td><b>lower_threshold</b></td>\n",
       "<td><b>lift</b></td>\n",
       "<td><b>cumulative_lift</b></td>\n",
       "<td><b>response_rate</b></td>\n",
       "<td><b>cumulative_response_rate</b></td>\n",
       "<td><b>capture_rate</b></td>\n",
       "<td><b>cumulative_capture_rate</b></td>\n",
       "<td><b>gain</b></td>\n",
       "<td><b>cumulative_gain</b></td></tr>\n",
       "<tr><td></td>\n",
       "<td>1</td>\n",
       "<td>0.0104530</td>\n",
       "<td>0.9392111</td>\n",
       "<td>1.9754179</td>\n",
       "<td>1.9754179</td>\n",
       "<td>0.9333333</td>\n",
       "<td>0.9333333</td>\n",
       "<td>0.0206490</td>\n",
       "<td>0.0206490</td>\n",
       "<td>97.5417896</td>\n",
       "<td>97.5417896</td></tr>\n",
       "<tr><td></td>\n",
       "<td>2</td>\n",
       "<td>0.0202091</td>\n",
       "<td>0.9147440</td>\n",
       "<td>1.8141593</td>\n",
       "<td>1.8975689</td>\n",
       "<td>0.8571429</td>\n",
       "<td>0.8965517</td>\n",
       "<td>0.0176991</td>\n",
       "<td>0.0383481</td>\n",
       "<td>81.4159292</td>\n",
       "<td>89.7568915</td></tr>\n",
       "<tr><td></td>\n",
       "<td>3</td>\n",
       "<td>0.0306620</td>\n",
       "<td>0.8987940</td>\n",
       "<td>1.8343166</td>\n",
       "<td>1.8760056</td>\n",
       "<td>0.8666667</td>\n",
       "<td>0.8863636</td>\n",
       "<td>0.0191740</td>\n",
       "<td>0.0575221</td>\n",
       "<td>83.4316618</td>\n",
       "<td>87.6005632</td></tr>\n",
       "<tr><td></td>\n",
       "<td>4</td>\n",
       "<td>0.0404181</td>\n",
       "<td>0.8848847</td>\n",
       "<td>1.6629794</td>\n",
       "<td>1.8245855</td>\n",
       "<td>0.7857143</td>\n",
       "<td>0.8620690</td>\n",
       "<td>0.0162242</td>\n",
       "<td>0.0737463</td>\n",
       "<td>66.2979351</td>\n",
       "<td>82.4585495</td></tr>\n",
       "<tr><td></td>\n",
       "<td>5</td>\n",
       "<td>0.0501742</td>\n",
       "<td>0.8722724</td>\n",
       "<td>1.8141593</td>\n",
       "<td>1.8225582</td>\n",
       "<td>0.8571429</td>\n",
       "<td>0.8611111</td>\n",
       "<td>0.0176991</td>\n",
       "<td>0.0914454</td>\n",
       "<td>81.4159292</td>\n",
       "<td>82.2558178</td></tr>\n",
       "<tr><td></td>\n",
       "<td>6</td>\n",
       "<td>0.1003484</td>\n",
       "<td>0.8273998</td>\n",
       "<td>1.7637660</td>\n",
       "<td>1.7931621</td>\n",
       "<td>0.8333333</td>\n",
       "<td>0.8472222</td>\n",
       "<td>0.0884956</td>\n",
       "<td>0.1799410</td>\n",
       "<td>76.3765978</td>\n",
       "<td>79.3162078</td></tr>\n",
       "<tr><td></td>\n",
       "<td>7</td>\n",
       "<td>0.1505226</td>\n",
       "<td>0.7879498</td>\n",
       "<td>1.7343699</td>\n",
       "<td>1.7735647</td>\n",
       "<td>0.8194444</td>\n",
       "<td>0.8379630</td>\n",
       "<td>0.0870206</td>\n",
       "<td>0.2669617</td>\n",
       "<td>73.4369879</td>\n",
       "<td>77.3564678</td></tr>\n",
       "<tr><td></td>\n",
       "<td>8</td>\n",
       "<td>0.2</td>\n",
       "<td>0.7601358</td>\n",
       "<td>1.7289875</td>\n",
       "<td>1.7625369</td>\n",
       "<td>0.8169014</td>\n",
       "<td>0.8327526</td>\n",
       "<td>0.0855457</td>\n",
       "<td>0.3525074</td>\n",
       "<td>72.8987494</td>\n",
       "<td>76.2536873</td></tr>\n",
       "<tr><td></td>\n",
       "<td>9</td>\n",
       "<td>0.3003484</td>\n",
       "<td>0.7038433</td>\n",
       "<td>1.5873894</td>\n",
       "<td>1.7040189</td>\n",
       "<td>0.75</td>\n",
       "<td>0.8051044</td>\n",
       "<td>0.1592920</td>\n",
       "<td>0.5117994</td>\n",
       "<td>58.7389381</td>\n",
       "<td>70.4018917</td></tr>\n",
       "<tr><td></td>\n",
       "<td>10</td>\n",
       "<td>0.4</td>\n",
       "<td>0.6284725</td>\n",
       "<td>1.4504817</td>\n",
       "<td>1.6408555</td>\n",
       "<td>0.6853147</td>\n",
       "<td>0.7752613</td>\n",
       "<td>0.1445428</td>\n",
       "<td>0.6563422</td>\n",
       "<td>45.0481672</td>\n",
       "<td>64.0855457</td></tr>\n",
       "<tr><td></td>\n",
       "<td>11</td>\n",
       "<td>0.5003484</td>\n",
       "<td>0.5341910</td>\n",
       "<td>1.3228245</td>\n",
       "<td>1.5770721</td>\n",
       "<td>0.625</td>\n",
       "<td>0.7451253</td>\n",
       "<td>0.1327434</td>\n",
       "<td>0.7890855</td>\n",
       "<td>32.2824484</td>\n",
       "<td>57.7072087</td></tr>\n",
       "<tr><td></td>\n",
       "<td>12</td>\n",
       "<td>0.6</td>\n",
       "<td>0.4172449</td>\n",
       "<td>0.9176517</td>\n",
       "<td>1.4675516</td>\n",
       "<td>0.4335664</td>\n",
       "<td>0.6933798</td>\n",
       "<td>0.0914454</td>\n",
       "<td>0.8805310</td>\n",
       "<td>-8.2348330</td>\n",
       "<td>46.7551622</td></tr>\n",
       "<tr><td></td>\n",
       "<td>13</td>\n",
       "<td>0.6996516</td>\n",
       "<td>0.2751227</td>\n",
       "<td>0.4736267</td>\n",
       "<td>1.3259866</td>\n",
       "<td>0.2237762</td>\n",
       "<td>0.6264940</td>\n",
       "<td>0.0471976</td>\n",
       "<td>0.9277286</td>\n",
       "<td>-52.6373332</td>\n",
       "<td>32.5986614</td></tr>\n",
       "<tr><td></td>\n",
       "<td>14</td>\n",
       "<td>0.8</td>\n",
       "<td>0.1276790</td>\n",
       "<td>0.4115454</td>\n",
       "<td>1.2112832</td>\n",
       "<td>0.1944444</td>\n",
       "<td>0.5722997</td>\n",
       "<td>0.0412979</td>\n",
       "<td>0.9690265</td>\n",
       "<td>-58.8454605</td>\n",
       "<td>21.1283186</td></tr>\n",
       "<tr><td></td>\n",
       "<td>15</td>\n",
       "<td>0.8996516</td>\n",
       "<td>0.0141916</td>\n",
       "<td>0.2368133</td>\n",
       "<td>1.1033442</td>\n",
       "<td>0.1118881</td>\n",
       "<td>0.5213013</td>\n",
       "<td>0.0235988</td>\n",
       "<td>0.9926254</td>\n",
       "<td>-76.3186666</td>\n",
       "<td>10.3344232</td></tr>\n",
       "<tr><td></td>\n",
       "<td>16</td>\n",
       "<td>1.0</td>\n",
       "<td>0.0000000</td>\n",
       "<td>0.0734902</td>\n",
       "<td>1.0</td>\n",
       "<td>0.0347222</td>\n",
       "<td>0.4724739</td>\n",
       "<td>0.0073746</td>\n",
       "<td>1.0</td>\n",
       "<td>-92.6509751</td>\n",
       "<td>0.0</td></tr></table></div>"
      ],
      "text/plain": [
       "    group    cumulative_data_fraction    lower_threshold    lift       cumulative_lift    response_rate    cumulative_response_rate    capture_rate    cumulative_capture_rate    gain      cumulative_gain\n",
       "--  -------  --------------------------  -----------------  ---------  -----------------  ---------------  --------------------------  --------------  -------------------------  --------  -----------------\n",
       "    1        0.010453                    0.939211           1.97542    1.97542            0.933333         0.933333                    0.020649        0.020649                   97.5418   97.5418\n",
       "    2        0.0202091                   0.914744           1.81416    1.89757            0.857143         0.896552                    0.0176991       0.0383481                  81.4159   89.7569\n",
       "    3        0.030662                    0.898794           1.83432    1.87601            0.866667         0.886364                    0.019174        0.0575221                  83.4317   87.6006\n",
       "    4        0.0404181                   0.884885           1.66298    1.82459            0.785714         0.862069                    0.0162242       0.0737463                  66.2979   82.4585\n",
       "    5        0.0501742                   0.872272           1.81416    1.82256            0.857143         0.861111                    0.0176991       0.0914454                  81.4159   82.2558\n",
       "    6        0.100348                    0.8274             1.76377    1.79316            0.833333         0.847222                    0.0884956       0.179941                   76.3766   79.3162\n",
       "    7        0.150523                    0.78795            1.73437    1.77356            0.819444         0.837963                    0.0870206       0.266962                   73.437    77.3565\n",
       "    8        0.2                         0.760136           1.72899    1.76254            0.816901         0.832753                    0.0855457       0.352507                   72.8987   76.2537\n",
       "    9        0.300348                    0.703843           1.58739    1.70402            0.75             0.805104                    0.159292        0.511799                   58.7389   70.4019\n",
       "    10       0.4                         0.628473           1.45048    1.64086            0.685315         0.775261                    0.144543        0.656342                   45.0482   64.0855\n",
       "    11       0.500348                    0.534191           1.32282    1.57707            0.625            0.745125                    0.132743        0.789086                   32.2824   57.7072\n",
       "    12       0.6                         0.417245           0.917652   1.46755            0.433566         0.69338                     0.0914454       0.880531                   -8.23483  46.7552\n",
       "    13       0.699652                    0.275123           0.473627   1.32599            0.223776         0.626494                    0.0471976       0.927729                   -52.6373  32.5987\n",
       "    14       0.8                         0.127679           0.411545   1.21128            0.194444         0.5723                      0.0412979       0.969027                   -58.8455  21.1283\n",
       "    15       0.899652                    0.0141916          0.236813   1.10334            0.111888         0.521301                    0.0235988       0.992625                   -76.3187  10.3344\n",
       "    16       1                           5.64337e-24        0.0734902  1                  0.0347222        0.472474                    0.00737463      1                          -92.651   0"
      ]
     },
     "metadata": {},
     "output_type": "display_data"
    },
    {
     "name": "stdout",
     "output_type": "stream",
     "text": [
      "\n",
      "\n",
      "\n",
      "ModelMetricsBinomialGLM: glm\n",
      "** Reported on test data. **\n",
      "\n",
      "MSE: 0.165674969383\n",
      "RMSE: 0.407031902168\n",
      "LogLoss: 0.545126867421\n",
      "Null degrees of freedom: 1434\n",
      "Residual degrees of freedom: 1416\n",
      "Null deviance: 1985.05001857\n",
      "Residual deviance: 1564.77190517\n",
      "AIC: 1602.77190517\n",
      "AUC: 0.833506739458\n",
      "Gini: 0.667013478917\n",
      "Confusion Matrix (Act/Pred) for max f1 @ threshold = 0.421924037691: \n"
     ]
    },
    {
     "data": {
      "text/html": [
       "<div style=\"overflow:auto\"><table style=\"width:50%\"><tr><td><b></b></td>\n",
       "<td><b>0</b></td>\n",
       "<td><b>1</b></td>\n",
       "<td><b>Error</b></td>\n",
       "<td><b>Rate</b></td></tr>\n",
       "<tr><td>0</td>\n",
       "<td>495.0</td>\n",
       "<td>262.0</td>\n",
       "<td>0.3461</td>\n",
       "<td> (262.0/757.0)</td></tr>\n",
       "<tr><td>1</td>\n",
       "<td>82.0</td>\n",
       "<td>596.0</td>\n",
       "<td>0.1209</td>\n",
       "<td> (82.0/678.0)</td></tr>\n",
       "<tr><td>Total</td>\n",
       "<td>577.0</td>\n",
       "<td>858.0</td>\n",
       "<td>0.2397</td>\n",
       "<td> (344.0/1435.0)</td></tr></table></div>"
      ],
      "text/plain": [
       "       0    1    Error    Rate\n",
       "-----  ---  ---  -------  --------------\n",
       "0      495  262  0.3461   (262.0/757.0)\n",
       "1      82   596  0.1209   (82.0/678.0)\n",
       "Total  577  858  0.2397   (344.0/1435.0)"
      ]
     },
     "metadata": {},
     "output_type": "display_data"
    },
    {
     "name": "stdout",
     "output_type": "stream",
     "text": [
      "Maximum Metrics: Maximum metrics at their respective thresholds\n",
      "\n"
     ]
    },
    {
     "data": {
      "text/html": [
       "<div style=\"overflow:auto\"><table style=\"width:50%\"><tr><td><b>metric</b></td>\n",
       "<td><b>threshold</b></td>\n",
       "<td><b>value</b></td>\n",
       "<td><b>idx</b></td></tr>\n",
       "<tr><td>max f1</td>\n",
       "<td>0.4219240</td>\n",
       "<td>0.7760417</td>\n",
       "<td>237.0</td></tr>\n",
       "<tr><td>max f2</td>\n",
       "<td>0.1966329</td>\n",
       "<td>0.8532737</td>\n",
       "<td>320.0</td></tr>\n",
       "<tr><td>max f0point5</td>\n",
       "<td>0.5465689</td>\n",
       "<td>0.7544464</td>\n",
       "<td>187.0</td></tr>\n",
       "<tr><td>max accuracy</td>\n",
       "<td>0.5380260</td>\n",
       "<td>0.7728223</td>\n",
       "<td>191.0</td></tr>\n",
       "<tr><td>max precision</td>\n",
       "<td>0.9236945</td>\n",
       "<td>0.9545455</td>\n",
       "<td>13.0</td></tr>\n",
       "<tr><td>max recall</td>\n",
       "<td>0.0000324</td>\n",
       "<td>1.0</td>\n",
       "<td>399.0</td></tr>\n",
       "<tr><td>max specificity</td>\n",
       "<td>0.9999995</td>\n",
       "<td>0.9986790</td>\n",
       "<td>0.0</td></tr>\n",
       "<tr><td>max absolute_mcc</td>\n",
       "<td>0.4749389</td>\n",
       "<td>0.5465023</td>\n",
       "<td>216.0</td></tr>\n",
       "<tr><td>max min_per_class_accuracy</td>\n",
       "<td>0.5493175</td>\n",
       "<td>0.7688243</td>\n",
       "<td>186.0</td></tr>\n",
       "<tr><td>max mean_per_class_accuracy</td>\n",
       "<td>0.5380260</td>\n",
       "<td>0.7735939</td>\n",
       "<td>191.0</td></tr></table></div>"
      ],
      "text/plain": [
       "metric                       threshold    value     idx\n",
       "---------------------------  -----------  --------  -----\n",
       "max f1                       0.421924     0.776042  237\n",
       "max f2                       0.196633     0.853274  320\n",
       "max f0point5                 0.546569     0.754446  187\n",
       "max accuracy                 0.538026     0.772822  191\n",
       "max precision                0.923694     0.954545  13\n",
       "max recall                   3.24051e-05  1         399\n",
       "max specificity              0.999999     0.998679  0\n",
       "max absolute_mcc             0.474939     0.546502  216\n",
       "max min_per_class_accuracy   0.549317     0.768824  186\n",
       "max mean_per_class_accuracy  0.538026     0.773594  191"
      ]
     },
     "metadata": {},
     "output_type": "display_data"
    },
    {
     "name": "stdout",
     "output_type": "stream",
     "text": [
      "Gains/Lift Table: Avg response rate: 47.25 %\n",
      "\n"
     ]
    },
    {
     "data": {
      "text/html": [
       "<div style=\"overflow:auto\"><table style=\"width:50%\"><tr><td><b></b></td>\n",
       "<td><b>group</b></td>\n",
       "<td><b>cumulative_data_fraction</b></td>\n",
       "<td><b>lower_threshold</b></td>\n",
       "<td><b>lift</b></td>\n",
       "<td><b>cumulative_lift</b></td>\n",
       "<td><b>response_rate</b></td>\n",
       "<td><b>cumulative_response_rate</b></td>\n",
       "<td><b>capture_rate</b></td>\n",
       "<td><b>cumulative_capture_rate</b></td>\n",
       "<td><b>gain</b></td>\n",
       "<td><b>cumulative_gain</b></td></tr>\n",
       "<tr><td></td>\n",
       "<td>1</td>\n",
       "<td>0.0104530</td>\n",
       "<td>0.9359752</td>\n",
       "<td>1.9754179</td>\n",
       "<td>1.9754179</td>\n",
       "<td>0.9333333</td>\n",
       "<td>0.9333333</td>\n",
       "<td>0.0206490</td>\n",
       "<td>0.0206490</td>\n",
       "<td>97.5417896</td>\n",
       "<td>97.5417896</td></tr>\n",
       "<tr><td></td>\n",
       "<td>2</td>\n",
       "<td>0.0202091</td>\n",
       "<td>0.9108191</td>\n",
       "<td>1.8141593</td>\n",
       "<td>1.8975689</td>\n",
       "<td>0.8571429</td>\n",
       "<td>0.8965517</td>\n",
       "<td>0.0176991</td>\n",
       "<td>0.0383481</td>\n",
       "<td>81.4159292</td>\n",
       "<td>89.7568915</td></tr>\n",
       "<tr><td></td>\n",
       "<td>3</td>\n",
       "<td>0.0306620</td>\n",
       "<td>0.8933165</td>\n",
       "<td>1.8343166</td>\n",
       "<td>1.8760056</td>\n",
       "<td>0.8666667</td>\n",
       "<td>0.8863636</td>\n",
       "<td>0.0191740</td>\n",
       "<td>0.0575221</td>\n",
       "<td>83.4316618</td>\n",
       "<td>87.6005632</td></tr>\n",
       "<tr><td></td>\n",
       "<td>4</td>\n",
       "<td>0.0404181</td>\n",
       "<td>0.8802740</td>\n",
       "<td>1.6629794</td>\n",
       "<td>1.8245855</td>\n",
       "<td>0.7857143</td>\n",
       "<td>0.8620690</td>\n",
       "<td>0.0162242</td>\n",
       "<td>0.0737463</td>\n",
       "<td>66.2979351</td>\n",
       "<td>82.4585495</td></tr>\n",
       "<tr><td></td>\n",
       "<td>5</td>\n",
       "<td>0.0501742</td>\n",
       "<td>0.8668432</td>\n",
       "<td>1.8141593</td>\n",
       "<td>1.8225582</td>\n",
       "<td>0.8571429</td>\n",
       "<td>0.8611111</td>\n",
       "<td>0.0176991</td>\n",
       "<td>0.0914454</td>\n",
       "<td>81.4159292</td>\n",
       "<td>82.2558178</td></tr>\n",
       "<tr><td></td>\n",
       "<td>6</td>\n",
       "<td>0.1003484</td>\n",
       "<td>0.8211916</td>\n",
       "<td>1.7637660</td>\n",
       "<td>1.7931621</td>\n",
       "<td>0.8333333</td>\n",
       "<td>0.8472222</td>\n",
       "<td>0.0884956</td>\n",
       "<td>0.1799410</td>\n",
       "<td>76.3765978</td>\n",
       "<td>79.3162078</td></tr>\n",
       "<tr><td></td>\n",
       "<td>7</td>\n",
       "<td>0.1505226</td>\n",
       "<td>0.7832541</td>\n",
       "<td>1.7049738</td>\n",
       "<td>1.7637660</td>\n",
       "<td>0.8055556</td>\n",
       "<td>0.8333333</td>\n",
       "<td>0.0855457</td>\n",
       "<td>0.2654867</td>\n",
       "<td>70.4973779</td>\n",
       "<td>76.3765978</td></tr>\n",
       "<tr><td></td>\n",
       "<td>8</td>\n",
       "<td>0.2</td>\n",
       "<td>0.7532313</td>\n",
       "<td>1.7886078</td>\n",
       "<td>1.7699115</td>\n",
       "<td>0.8450704</td>\n",
       "<td>0.8362369</td>\n",
       "<td>0.0884956</td>\n",
       "<td>0.3539823</td>\n",
       "<td>78.8607753</td>\n",
       "<td>76.9911504</td></tr>\n",
       "<tr><td></td>\n",
       "<td>9</td>\n",
       "<td>0.3003484</td>\n",
       "<td>0.7000172</td>\n",
       "<td>1.5432952</td>\n",
       "<td>1.6941975</td>\n",
       "<td>0.7291667</td>\n",
       "<td>0.8004640</td>\n",
       "<td>0.1548673</td>\n",
       "<td>0.5088496</td>\n",
       "<td>54.3295231</td>\n",
       "<td>69.4197483</td></tr>\n",
       "<tr><td></td>\n",
       "<td>10</td>\n",
       "<td>0.4</td>\n",
       "<td>0.6271429</td>\n",
       "<td>1.4356808</td>\n",
       "<td>1.6297935</td>\n",
       "<td>0.6783217</td>\n",
       "<td>0.7700348</td>\n",
       "<td>0.1430678</td>\n",
       "<td>0.6519174</td>\n",
       "<td>43.5680838</td>\n",
       "<td>62.9793510</td></tr>\n",
       "<tr><td></td>\n",
       "<td>11</td>\n",
       "<td>0.5003484</td>\n",
       "<td>0.5345068</td>\n",
       "<td>1.3522206</td>\n",
       "<td>1.5741243</td>\n",
       "<td>0.6388889</td>\n",
       "<td>0.7437326</td>\n",
       "<td>0.1356932</td>\n",
       "<td>0.7876106</td>\n",
       "<td>35.2220583</td>\n",
       "<td>57.4124288</td></tr>\n",
       "<tr><td></td>\n",
       "<td>12</td>\n",
       "<td>0.6</td>\n",
       "<td>0.4190475</td>\n",
       "<td>0.9324525</td>\n",
       "<td>1.4675516</td>\n",
       "<td>0.4405594</td>\n",
       "<td>0.6933798</td>\n",
       "<td>0.0929204</td>\n",
       "<td>0.8805310</td>\n",
       "<td>-6.7547497</td>\n",
       "<td>46.7551622</td></tr>\n",
       "<tr><td></td>\n",
       "<td>13</td>\n",
       "<td>0.6996516</td>\n",
       "<td>0.2821845</td>\n",
       "<td>0.4736267</td>\n",
       "<td>1.3259866</td>\n",
       "<td>0.2237762</td>\n",
       "<td>0.6264940</td>\n",
       "<td>0.0471976</td>\n",
       "<td>0.9277286</td>\n",
       "<td>-52.6373332</td>\n",
       "<td>32.5986614</td></tr>\n",
       "<tr><td></td>\n",
       "<td>14</td>\n",
       "<td>0.8</td>\n",
       "<td>0.1360739</td>\n",
       "<td>0.4115454</td>\n",
       "<td>1.2112832</td>\n",
       "<td>0.1944444</td>\n",
       "<td>0.5722997</td>\n",
       "<td>0.0412979</td>\n",
       "<td>0.9690265</td>\n",
       "<td>-58.8454605</td>\n",
       "<td>21.1283186</td></tr>\n",
       "<tr><td></td>\n",
       "<td>15</td>\n",
       "<td>0.8996516</td>\n",
       "<td>0.0175944</td>\n",
       "<td>0.2220125</td>\n",
       "<td>1.1017048</td>\n",
       "<td>0.1048951</td>\n",
       "<td>0.5205267</td>\n",
       "<td>0.0221239</td>\n",
       "<td>0.9911504</td>\n",
       "<td>-77.7987499</td>\n",
       "<td>10.1704791</td></tr>\n",
       "<tr><td></td>\n",
       "<td>16</td>\n",
       "<td>1.0</td>\n",
       "<td>0.0000000</td>\n",
       "<td>0.0881883</td>\n",
       "<td>1.0</td>\n",
       "<td>0.0416667</td>\n",
       "<td>0.4724739</td>\n",
       "<td>0.0088496</td>\n",
       "<td>1.0</td>\n",
       "<td>-91.1811701</td>\n",
       "<td>0.0</td></tr></table></div>"
      ],
      "text/plain": [
       "    group    cumulative_data_fraction    lower_threshold    lift       cumulative_lift    response_rate    cumulative_response_rate    capture_rate    cumulative_capture_rate    gain      cumulative_gain\n",
       "--  -------  --------------------------  -----------------  ---------  -----------------  ---------------  --------------------------  --------------  -------------------------  --------  -----------------\n",
       "    1        0.010453                    0.935975           1.97542    1.97542            0.933333         0.933333                    0.020649        0.020649                   97.5418   97.5418\n",
       "    2        0.0202091                   0.910819           1.81416    1.89757            0.857143         0.896552                    0.0176991       0.0383481                  81.4159   89.7569\n",
       "    3        0.030662                    0.893317           1.83432    1.87601            0.866667         0.886364                    0.019174        0.0575221                  83.4317   87.6006\n",
       "    4        0.0404181                   0.880274           1.66298    1.82459            0.785714         0.862069                    0.0162242       0.0737463                  66.2979   82.4585\n",
       "    5        0.0501742                   0.866843           1.81416    1.82256            0.857143         0.861111                    0.0176991       0.0914454                  81.4159   82.2558\n",
       "    6        0.100348                    0.821192           1.76377    1.79316            0.833333         0.847222                    0.0884956       0.179941                   76.3766   79.3162\n",
       "    7        0.150523                    0.783254           1.70497    1.76377            0.805556         0.833333                    0.0855457       0.265487                   70.4974   76.3766\n",
       "    8        0.2                         0.753231           1.78861    1.76991            0.84507          0.836237                    0.0884956       0.353982                   78.8608   76.9912\n",
       "    9        0.300348                    0.700017           1.5433     1.6942             0.729167         0.800464                    0.154867        0.50885                    54.3295   69.4197\n",
       "    10       0.4                         0.627143           1.43568    1.62979            0.678322         0.770035                    0.143068        0.651917                   43.5681   62.9794\n",
       "    11       0.500348                    0.534507           1.35222    1.57412            0.638889         0.743733                    0.135693        0.787611                   35.2221   57.4124\n",
       "    12       0.6                         0.419047           0.932453   1.46755            0.440559         0.69338                     0.0929204       0.880531                   -6.75475  46.7552\n",
       "    13       0.699652                    0.282185           0.473627   1.32599            0.223776         0.626494                    0.0471976       0.927729                   -52.6373  32.5987\n",
       "    14       0.8                         0.136074           0.411545   1.21128            0.194444         0.5723                      0.0412979       0.969027                   -58.8455  21.1283\n",
       "    15       0.899652                    0.0175944          0.222013   1.1017             0.104895         0.520527                    0.0221239       0.99115                    -77.7987  10.1705\n",
       "    16       1                           1.21133e-24        0.0881883  1                  0.0416667        0.472474                    0.00884956      1                          -91.1812  0"
      ]
     },
     "metadata": {},
     "output_type": "display_data"
    },
    {
     "name": "stdout",
     "output_type": "stream",
     "text": [
      "\n",
      "\n"
     ]
    }
   ],
   "source": [
    "print glm_perf1\n",
    "print glm_perf2"
   ]
  },
  {
   "cell_type": "code",
   "execution_count": 39,
   "metadata": {},
   "outputs": [
    {
     "name": "stdout",
     "output_type": "stream",
     "text": [
      "0.834774162877\n",
      "0.833506739458\n"
     ]
    }
   ],
   "source": [
    "# Retreive test set AUC\n",
    "print glm_perf1.auc()\n",
    "print glm_perf2.auc()"
   ]
  },
  {
   "cell_type": "code",
   "execution_count": 40,
   "metadata": {},
   "outputs": [
    {
     "name": "stdout",
     "output_type": "stream",
     "text": [
      "0.853946187487\n",
      "0.848838810492\n"
     ]
    }
   ],
   "source": [
    "print glm_fit2.auc(train=True)\n",
    "print glm_fit2.auc(valid=True)"
   ]
  },
  {
   "cell_type": "code",
   "execution_count": null,
   "metadata": {
    "collapsed": true
   },
   "outputs": [],
   "source": []
  }
 ],
 "metadata": {
  "kernelspec": {
   "display_name": "Python 2",
   "language": "python",
   "name": "python2"
  },
  "language_info": {
   "codemirror_mode": {
    "name": "ipython",
    "version": 2
   },
   "file_extension": ".py",
   "mimetype": "text/x-python",
   "name": "python",
   "nbconvert_exporter": "python",
   "pygments_lexer": "ipython2",
   "version": "2.7.12"
  }
 },
 "nbformat": 4,
 "nbformat_minor": 2
}
