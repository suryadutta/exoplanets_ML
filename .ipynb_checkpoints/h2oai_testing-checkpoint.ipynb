{
 "cells": [
  {
   "cell_type": "markdown",
   "metadata": {},
   "source": [
    "# Applying Machine Learning to Exoplanet False Positives"
   ]
  },
  {
   "cell_type": "markdown",
   "metadata": {},
   "source": [
    "### This file was produced by the NASA Exoplanet Archive  http://exoplanetarchive.ipac.caltech.edu\n",
    "### Wed Jun 21 13:19:21 2017\n",
    "\n",
    "#### COLUMN koi_disposition: Exoplanet Archive Disposition\n",
    "#### COLUMN koi_period:     Orbital Period [days]\n",
    "#### COLUMN koi_time0bk:    Transit Epoch [BKJD]\n",
    "#### COLUMN koi_impact:     Impact Parameter\n",
    "#### COLUMN koi_duration:   Transit Duration [hrs]\n",
    "#### COLUMN koi_depth:      Transit Depth [ppm]\n",
    "#### COLUMN koi_prad:       Planetary Radius [Earth radii]\n",
    "#### COLUMN koi_teq:        Equilibrium Temperature [K]\n",
    "#### COLUMN koi_insol:      Insolation Flux [Earth flux]\n",
    "#### COLUMN koi_model_snr:  Transit Signal-to-Noise\n",
    "#### COLUMN koi_tce_plnt_num: TCE Planet Number\n",
    "#### COLUMN koi_tce_delivname: TCE Delivery\n",
    "#### COLUMN koi_steff:      Stellar Effective Temperature [K]\n",
    "#### COLUMN koi_slogg:      Stellar Surface Gravity [log10(cm/s**2)]\n",
    "#### COLUMN koi_srad:       Stellar Radius [Solar radii]\n",
    "#### COLUMN ra:             RA [decimal degrees]\n",
    "#### COLUMN dec:            Dec [decimal degrees]\n",
    "#### COLUMN koi_kepmag:     Kepler-band [mag]"
   ]
  },
  {
   "cell_type": "code",
   "execution_count": 1,
   "metadata": {
    "scrolled": false
   },
   "outputs": [
    {
     "name": "stdout",
     "output_type": "stream",
     "text": [
      "Checking whether there is an H2O instance running at http://localhost:54321..... not found.\n",
      "Attempting to start a local H2O server...\n",
      "  Java Version: openjdk version \"1.8.0_131\"; OpenJDK Runtime Environment (build 1.8.0_131-8u131-b11-0ubuntu1.16.04.2-b11); OpenJDK 64-Bit Server VM (build 25.131-b11, mixed mode)\n",
      "  Starting server from /usr/local/lib/python2.7/dist-packages/h2o/backend/bin/h2o.jar\n",
      "  Ice root: /tmp/tmpWZ6_mq\n",
      "  JVM stdout: /tmp/tmpWZ6_mq/h2o_root_started_from_python.out\n",
      "  JVM stderr: /tmp/tmpWZ6_mq/h2o_root_started_from_python.err\n",
      "  Server is running at http://127.0.0.1:54321\n",
      "Connecting to H2O server at http://127.0.0.1:54321... successful.\n"
     ]
    },
    {
     "data": {
      "text/html": [
       "<div style=\"overflow:auto\"><table style=\"width:50%\"><tr><td>H2O cluster uptime:</td>\n",
       "<td>03 secs</td></tr>\n",
       "<tr><td>H2O cluster version:</td>\n",
       "<td>3.10.4.8</td></tr>\n",
       "<tr><td>H2O cluster version age:</td>\n",
       "<td>1 month </td></tr>\n",
       "<tr><td>H2O cluster name:</td>\n",
       "<td>H2O_from_python_root_xbshgh</td></tr>\n",
       "<tr><td>H2O cluster total nodes:</td>\n",
       "<td>1</td></tr>\n",
       "<tr><td>H2O cluster free memory:</td>\n",
       "<td>7.111 Gb</td></tr>\n",
       "<tr><td>H2O cluster total cores:</td>\n",
       "<td>4</td></tr>\n",
       "<tr><td>H2O cluster allowed cores:</td>\n",
       "<td>1</td></tr>\n",
       "<tr><td>H2O cluster status:</td>\n",
       "<td>accepting new members, healthy</td></tr>\n",
       "<tr><td>H2O connection url:</td>\n",
       "<td>http://127.0.0.1:54321</td></tr>\n",
       "<tr><td>H2O connection proxy:</td>\n",
       "<td>None</td></tr>\n",
       "<tr><td>H2O internal security:</td>\n",
       "<td>False</td></tr>\n",
       "<tr><td>Python version:</td>\n",
       "<td>2.7.12 final</td></tr></table></div>"
      ],
      "text/plain": [
       "--------------------------  ------------------------------\n",
       "H2O cluster uptime:         03 secs\n",
       "H2O cluster version:        3.10.4.8\n",
       "H2O cluster version age:    1 month\n",
       "H2O cluster name:           H2O_from_python_root_xbshgh\n",
       "H2O cluster total nodes:    1\n",
       "H2O cluster free memory:    7.111 Gb\n",
       "H2O cluster total cores:    4\n",
       "H2O cluster allowed cores:  1\n",
       "H2O cluster status:         accepting new members, healthy\n",
       "H2O connection url:         http://127.0.0.1:54321\n",
       "H2O connection proxy:\n",
       "H2O internal security:      False\n",
       "Python version:             2.7.12 final\n",
       "--------------------------  ------------------------------"
      ]
     },
     "metadata": {},
     "output_type": "display_data"
    }
   ],
   "source": [
    "import h2o\n",
    "h2o.init(nthreads = 1, max_mem_size=8)"
   ]
  },
  {
   "cell_type": "code",
   "execution_count": 2,
   "metadata": {
    "scrolled": false
   },
   "outputs": [
    {
     "name": "stdout",
     "output_type": "stream",
     "text": [
      "Parse progress: |█████████████████████████████████████████████████████████| 100%\n"
     ]
    }
   ],
   "source": [
    "exoplanets_csv = \"data/exoplanet_results.csv\"\n",
    "data = h2o.import_file(exoplanets_csv)"
   ]
  },
  {
   "cell_type": "code",
   "execution_count": 3,
   "metadata": {
    "scrolled": false
   },
   "outputs": [
    {
     "data": {
      "text/plain": [
       "(7316, 20)"
      ]
     },
     "execution_count": 3,
     "metadata": {},
     "output_type": "execute_result"
    }
   ],
   "source": [
    "data.shape"
   ]
  },
  {
   "cell_type": "code",
   "execution_count": 4,
   "metadata": {
    "scrolled": false
   },
   "outputs": [
    {
     "data": {
      "text/plain": [
       "[['0', '1']]"
      ]
     },
     "execution_count": 4,
     "metadata": {},
     "output_type": "execute_result"
    }
   ],
   "source": [
    "data['is_exoplanet'] = data['is_exoplanet'].asfactor()\n",
    "data['is_exoplanet'].levels()"
   ]
  },
  {
   "cell_type": "code",
   "execution_count": 5,
   "metadata": {
    "collapsed": true,
    "scrolled": false
   },
   "outputs": [],
   "source": [
    "splits = data.split_frame(ratios=[0.7, 0.15], seed=1)  \n",
    "\n",
    "train = splits[0]\n",
    "valid = splits[1]\n",
    "test = splits[2]"
   ]
  },
  {
   "cell_type": "code",
   "execution_count": 6,
   "metadata": {
    "scrolled": false
   },
   "outputs": [
    {
     "name": "stdout",
     "output_type": "stream",
     "text": [
      "5150\n",
      "1066\n",
      "1100\n"
     ]
    }
   ],
   "source": [
    "print train.nrow\n",
    "print valid.nrow\n",
    "print test.nrow"
   ]
  },
  {
   "cell_type": "code",
   "execution_count": 7,
   "metadata": {
    "collapsed": true,
    "scrolled": false
   },
   "outputs": [],
   "source": [
    "y = 'is_exoplanet'\n",
    "x = list(data.columns)"
   ]
  },
  {
   "cell_type": "code",
   "execution_count": 8,
   "metadata": {
    "scrolled": false
   },
   "outputs": [
    {
     "data": {
      "text/plain": [
       "[u'koi_period',\n",
       " u'koi_time0bk',\n",
       " u'koi_impact',\n",
       " u'koi_duration',\n",
       " u'koi_depth',\n",
       " u'koi_prad',\n",
       " u'koi_teq',\n",
       " u'koi_insol',\n",
       " u'koi_model_snr',\n",
       " u'koi_tce_plnt_num',\n",
       " u'koi_tce_delivname',\n",
       " u'koi_steff',\n",
       " u'koi_slogg',\n",
       " u'koi_srad',\n",
       " u'ra',\n",
       " u'dec',\n",
       " u'koi_kepmag']"
      ]
     },
     "execution_count": 8,
     "metadata": {},
     "output_type": "execute_result"
    }
   ],
   "source": [
    "x.remove(y)  #remove the response\n",
    "x.remove('rowid') #remove id number\n",
    "x.remove('kepid')\n",
    "x"
   ]
  },
  {
   "cell_type": "code",
   "execution_count": 9,
   "metadata": {
    "collapsed": true,
    "scrolled": false
   },
   "outputs": [],
   "source": [
    "from h2o.estimators.glm import H2OGeneralizedLinearEstimator"
   ]
  },
  {
   "cell_type": "code",
   "execution_count": 10,
   "metadata": {
    "collapsed": true,
    "scrolled": false
   },
   "outputs": [],
   "source": [
    "glm_fit1 = H2OGeneralizedLinearEstimator(family='binomial', model_id='glm_fit1')"
   ]
  },
  {
   "cell_type": "code",
   "execution_count": 11,
   "metadata": {
    "scrolled": false
   },
   "outputs": [
    {
     "name": "stdout",
     "output_type": "stream",
     "text": [
      "glm Model Build progress: |███████████████████████████████████████████████| 100%\n"
     ]
    }
   ],
   "source": [
    "glm_fit1.train(x=x, y=y, training_frame=train)\n"
   ]
  },
  {
   "cell_type": "code",
   "execution_count": 12,
   "metadata": {
    "scrolled": false
   },
   "outputs": [
    {
     "name": "stdout",
     "output_type": "stream",
     "text": [
      "glm Model Build progress: |███████████████████████████████████████████████| 100%\n"
     ]
    }
   ],
   "source": [
    "glm_fit2 = H2OGeneralizedLinearEstimator(family='binomial', model_id='glm_fit2', lambda_search=True)\n",
    "glm_fit2.train(x=x, y=y, training_frame=train, validation_frame=valid)"
   ]
  },
  {
   "cell_type": "code",
   "execution_count": 13,
   "metadata": {
    "collapsed": true,
    "scrolled": false
   },
   "outputs": [],
   "source": [
    "glm_perf1 = glm_fit1.model_performance(test)\n",
    "glm_perf2 = glm_fit2.model_performance(test)"
   ]
  },
  {
   "cell_type": "code",
   "execution_count": 14,
   "metadata": {
    "scrolled": false
   },
   "outputs": [
    {
     "name": "stdout",
     "output_type": "stream",
     "text": [
      "\n",
      "ModelMetricsBinomialGLM: glm\n",
      "** Reported on test data. **\n",
      "\n",
      "MSE: 0.0940519022348\n",
      "RMSE: 0.306678825866\n",
      "LogLoss: 0.298286469598\n",
      "Null degrees of freedom: 1099\n",
      "Residual degrees of freedom: 1081\n",
      "Null deviance: 1369.91752662\n",
      "Residual deviance: 656.230233115\n",
      "AIC: 694.230233115\n",
      "AUC: 0.937075481823\n",
      "Gini: 0.874150963647\n",
      "Confusion Matrix (Act/Pred) for max f1 @ threshold = 0.442927585345: \n"
     ]
    },
    {
     "data": {
      "text/html": [
       "<div style=\"overflow:auto\"><table style=\"width:50%\"><tr><td><b></b></td>\n",
       "<td><b>0</b></td>\n",
       "<td><b>1</b></td>\n",
       "<td><b>Error</b></td>\n",
       "<td><b>Rate</b></td></tr>\n",
       "<tr><td>0</td>\n",
       "<td>662.0</td>\n",
       "<td>92.0</td>\n",
       "<td>0.122</td>\n",
       "<td> (92.0/754.0)</td></tr>\n",
       "<tr><td>1</td>\n",
       "<td>47.0</td>\n",
       "<td>299.0</td>\n",
       "<td>0.1358</td>\n",
       "<td> (47.0/346.0)</td></tr>\n",
       "<tr><td>Total</td>\n",
       "<td>709.0</td>\n",
       "<td>391.0</td>\n",
       "<td>0.1264</td>\n",
       "<td> (139.0/1100.0)</td></tr></table></div>"
      ],
      "text/plain": [
       "       0    1    Error    Rate\n",
       "-----  ---  ---  -------  --------------\n",
       "0      662  92   0.122    (92.0/754.0)\n",
       "1      47   299  0.1358   (47.0/346.0)\n",
       "Total  709  391  0.1264   (139.0/1100.0)"
      ]
     },
     "metadata": {},
     "output_type": "display_data"
    },
    {
     "name": "stdout",
     "output_type": "stream",
     "text": [
      "Maximum Metrics: Maximum metrics at their respective thresholds\n",
      "\n"
     ]
    },
    {
     "data": {
      "text/html": [
       "<div style=\"overflow:auto\"><table style=\"width:50%\"><tr><td><b>metric</b></td>\n",
       "<td><b>threshold</b></td>\n",
       "<td><b>value</b></td>\n",
       "<td><b>idx</b></td></tr>\n",
       "<tr><td>max f1</td>\n",
       "<td>0.4429276</td>\n",
       "<td>0.8113976</td>\n",
       "<td>214.0</td></tr>\n",
       "<tr><td>max f2</td>\n",
       "<td>0.1726848</td>\n",
       "<td>0.8712513</td>\n",
       "<td>304.0</td></tr>\n",
       "<tr><td>max f0point5</td>\n",
       "<td>0.5566905</td>\n",
       "<td>0.8078335</td>\n",
       "<td>173.0</td></tr>\n",
       "<tr><td>max accuracy</td>\n",
       "<td>0.5330501</td>\n",
       "<td>0.8754545</td>\n",
       "<td>180.0</td></tr>\n",
       "<tr><td>max precision</td>\n",
       "<td>0.9952107</td>\n",
       "<td>1.0</td>\n",
       "<td>0.0</td></tr>\n",
       "<tr><td>max recall</td>\n",
       "<td>0.0127836</td>\n",
       "<td>1.0</td>\n",
       "<td>383.0</td></tr>\n",
       "<tr><td>max specificity</td>\n",
       "<td>0.9952107</td>\n",
       "<td>1.0</td>\n",
       "<td>0.0</td></tr>\n",
       "<tr><td>max absolute_mcc</td>\n",
       "<td>0.4429276</td>\n",
       "<td>0.7199487</td>\n",
       "<td>214.0</td></tr>\n",
       "<tr><td>max min_per_class_accuracy</td>\n",
       "<td>0.4255224</td>\n",
       "<td>0.8687003</td>\n",
       "<td>218.0</td></tr>\n",
       "<tr><td>max mean_per_class_accuracy</td>\n",
       "<td>0.4090623</td>\n",
       "<td>0.8738941</td>\n",
       "<td>223.0</td></tr></table></div>"
      ],
      "text/plain": [
       "metric                       threshold    value     idx\n",
       "---------------------------  -----------  --------  -----\n",
       "max f1                       0.442928     0.811398  214\n",
       "max f2                       0.172685     0.871251  304\n",
       "max f0point5                 0.55669      0.807834  173\n",
       "max accuracy                 0.53305      0.875455  180\n",
       "max precision                0.995211     1         0\n",
       "max recall                   0.0127836    1         383\n",
       "max specificity              0.995211     1         0\n",
       "max absolute_mcc             0.442928     0.719949  214\n",
       "max min_per_class_accuracy   0.425522     0.8687    218\n",
       "max mean_per_class_accuracy  0.409062     0.873894  223"
      ]
     },
     "metadata": {},
     "output_type": "display_data"
    },
    {
     "name": "stdout",
     "output_type": "stream",
     "text": [
      "Gains/Lift Table: Avg response rate: 31.45 %\n",
      "\n"
     ]
    },
    {
     "data": {
      "text/html": [
       "<div style=\"overflow:auto\"><table style=\"width:50%\"><tr><td><b></b></td>\n",
       "<td><b>group</b></td>\n",
       "<td><b>cumulative_data_fraction</b></td>\n",
       "<td><b>lower_threshold</b></td>\n",
       "<td><b>lift</b></td>\n",
       "<td><b>cumulative_lift</b></td>\n",
       "<td><b>response_rate</b></td>\n",
       "<td><b>cumulative_response_rate</b></td>\n",
       "<td><b>capture_rate</b></td>\n",
       "<td><b>cumulative_capture_rate</b></td>\n",
       "<td><b>gain</b></td>\n",
       "<td><b>cumulative_gain</b></td></tr>\n",
       "<tr><td></td>\n",
       "<td>1</td>\n",
       "<td>0.01</td>\n",
       "<td>0.9553765</td>\n",
       "<td>2.6011561</td>\n",
       "<td>2.6011561</td>\n",
       "<td>0.8181818</td>\n",
       "<td>0.8181818</td>\n",
       "<td>0.0260116</td>\n",
       "<td>0.0260116</td>\n",
       "<td>160.1156069</td>\n",
       "<td>160.1156069</td></tr>\n",
       "<tr><td></td>\n",
       "<td>2</td>\n",
       "<td>0.02</td>\n",
       "<td>0.9352967</td>\n",
       "<td>2.8901734</td>\n",
       "<td>2.7456647</td>\n",
       "<td>0.9090909</td>\n",
       "<td>0.8636364</td>\n",
       "<td>0.0289017</td>\n",
       "<td>0.0549133</td>\n",
       "<td>189.0173410</td>\n",
       "<td>174.5664740</td></tr>\n",
       "<tr><td></td>\n",
       "<td>3</td>\n",
       "<td>0.03</td>\n",
       "<td>0.9108972</td>\n",
       "<td>2.8901734</td>\n",
       "<td>2.7938343</td>\n",
       "<td>0.9090909</td>\n",
       "<td>0.8787879</td>\n",
       "<td>0.0289017</td>\n",
       "<td>0.0838150</td>\n",
       "<td>189.0173410</td>\n",
       "<td>179.3834297</td></tr>\n",
       "<tr><td></td>\n",
       "<td>4</td>\n",
       "<td>0.04</td>\n",
       "<td>0.9004826</td>\n",
       "<td>3.1791908</td>\n",
       "<td>2.8901734</td>\n",
       "<td>1.0</td>\n",
       "<td>0.9090909</td>\n",
       "<td>0.0317919</td>\n",
       "<td>0.1156069</td>\n",
       "<td>217.9190751</td>\n",
       "<td>189.0173410</td></tr>\n",
       "<tr><td></td>\n",
       "<td>5</td>\n",
       "<td>0.05</td>\n",
       "<td>0.8920335</td>\n",
       "<td>2.6011561</td>\n",
       "<td>2.8323699</td>\n",
       "<td>0.8181818</td>\n",
       "<td>0.8909091</td>\n",
       "<td>0.0260116</td>\n",
       "<td>0.1416185</td>\n",
       "<td>160.1156069</td>\n",
       "<td>183.2369942</td></tr>\n",
       "<tr><td></td>\n",
       "<td>6</td>\n",
       "<td>0.1</td>\n",
       "<td>0.8203426</td>\n",
       "<td>2.8323699</td>\n",
       "<td>2.8323699</td>\n",
       "<td>0.8909091</td>\n",
       "<td>0.8909091</td>\n",
       "<td>0.1416185</td>\n",
       "<td>0.2832370</td>\n",
       "<td>183.2369942</td>\n",
       "<td>183.2369942</td></tr>\n",
       "<tr><td></td>\n",
       "<td>7</td>\n",
       "<td>0.15</td>\n",
       "<td>0.7692012</td>\n",
       "<td>2.7745665</td>\n",
       "<td>2.8131021</td>\n",
       "<td>0.8727273</td>\n",
       "<td>0.8848485</td>\n",
       "<td>0.1387283</td>\n",
       "<td>0.4219653</td>\n",
       "<td>177.4566474</td>\n",
       "<td>181.3102119</td></tr>\n",
       "<tr><td></td>\n",
       "<td>8</td>\n",
       "<td>0.2</td>\n",
       "<td>0.7073039</td>\n",
       "<td>2.6589595</td>\n",
       "<td>2.7745665</td>\n",
       "<td>0.8363636</td>\n",
       "<td>0.8727273</td>\n",
       "<td>0.1329480</td>\n",
       "<td>0.5549133</td>\n",
       "<td>165.8959538</td>\n",
       "<td>177.4566474</td></tr>\n",
       "<tr><td></td>\n",
       "<td>9</td>\n",
       "<td>0.3</td>\n",
       "<td>0.5403936</td>\n",
       "<td>2.1676301</td>\n",
       "<td>2.5722543</td>\n",
       "<td>0.6818182</td>\n",
       "<td>0.8090909</td>\n",
       "<td>0.2167630</td>\n",
       "<td>0.7716763</td>\n",
       "<td>116.7630058</td>\n",
       "<td>157.2254335</td></tr>\n",
       "<tr><td></td>\n",
       "<td>10</td>\n",
       "<td>0.4</td>\n",
       "<td>0.3507011</td>\n",
       "<td>1.3294798</td>\n",
       "<td>2.2615607</td>\n",
       "<td>0.4181818</td>\n",
       "<td>0.7113636</td>\n",
       "<td>0.1329480</td>\n",
       "<td>0.9046243</td>\n",
       "<td>32.9479769</td>\n",
       "<td>126.1560694</td></tr>\n",
       "<tr><td></td>\n",
       "<td>11</td>\n",
       "<td>0.5</td>\n",
       "<td>0.1698076</td>\n",
       "<td>0.6936416</td>\n",
       "<td>1.9479769</td>\n",
       "<td>0.2181818</td>\n",
       "<td>0.6127273</td>\n",
       "<td>0.0693642</td>\n",
       "<td>0.9739884</td>\n",
       "<td>-30.6358382</td>\n",
       "<td>94.7976879</td></tr>\n",
       "<tr><td></td>\n",
       "<td>12</td>\n",
       "<td>0.6</td>\n",
       "<td>0.0553199</td>\n",
       "<td>0.2023121</td>\n",
       "<td>1.6570328</td>\n",
       "<td>0.0636364</td>\n",
       "<td>0.5212121</td>\n",
       "<td>0.0202312</td>\n",
       "<td>0.9942197</td>\n",
       "<td>-79.7687861</td>\n",
       "<td>65.7032755</td></tr>\n",
       "<tr><td></td>\n",
       "<td>13</td>\n",
       "<td>0.7</td>\n",
       "<td>0.0171037</td>\n",
       "<td>0.0289017</td>\n",
       "<td>1.4244426</td>\n",
       "<td>0.0090909</td>\n",
       "<td>0.4480519</td>\n",
       "<td>0.0028902</td>\n",
       "<td>0.9971098</td>\n",
       "<td>-97.1098266</td>\n",
       "<td>42.4442609</td></tr>\n",
       "<tr><td></td>\n",
       "<td>14</td>\n",
       "<td>0.8</td>\n",
       "<td>0.0016750</td>\n",
       "<td>0.0289017</td>\n",
       "<td>1.25</td>\n",
       "<td>0.0090909</td>\n",
       "<td>0.3931818</td>\n",
       "<td>0.0028902</td>\n",
       "<td>1.0</td>\n",
       "<td>-97.1098266</td>\n",
       "<td>25.0</td></tr>\n",
       "<tr><td></td>\n",
       "<td>15</td>\n",
       "<td>0.9</td>\n",
       "<td>0.0000070</td>\n",
       "<td>0.0</td>\n",
       "<td>1.1111111</td>\n",
       "<td>0.0</td>\n",
       "<td>0.3494949</td>\n",
       "<td>0.0</td>\n",
       "<td>1.0</td>\n",
       "<td>-100.0</td>\n",
       "<td>11.1111111</td></tr>\n",
       "<tr><td></td>\n",
       "<td>16</td>\n",
       "<td>1.0</td>\n",
       "<td>0.0000000</td>\n",
       "<td>0.0</td>\n",
       "<td>1.0</td>\n",
       "<td>0.0</td>\n",
       "<td>0.3145455</td>\n",
       "<td>0.0</td>\n",
       "<td>1.0</td>\n",
       "<td>-100.0</td>\n",
       "<td>0.0</td></tr></table></div>"
      ],
      "text/plain": [
       "    group    cumulative_data_fraction    lower_threshold    lift       cumulative_lift    response_rate    cumulative_response_rate    capture_rate    cumulative_capture_rate    gain      cumulative_gain\n",
       "--  -------  --------------------------  -----------------  ---------  -----------------  ---------------  --------------------------  --------------  -------------------------  --------  -----------------\n",
       "    1        0.01                        0.955377           2.60116    2.60116            0.818182         0.818182                    0.0260116       0.0260116                  160.116   160.116\n",
       "    2        0.02                        0.935297           2.89017    2.74566            0.909091         0.863636                    0.0289017       0.0549133                  189.017   174.566\n",
       "    3        0.03                        0.910897           2.89017    2.79383            0.909091         0.878788                    0.0289017       0.083815                   189.017   179.383\n",
       "    4        0.04                        0.900483           3.17919    2.89017            1                0.909091                    0.0317919       0.115607                   217.919   189.017\n",
       "    5        0.05                        0.892033           2.60116    2.83237            0.818182         0.890909                    0.0260116       0.141618                   160.116   183.237\n",
       "    6        0.1                         0.820343           2.83237    2.83237            0.890909         0.890909                    0.141618        0.283237                   183.237   183.237\n",
       "    7        0.15                        0.769201           2.77457    2.8131             0.872727         0.884848                    0.138728        0.421965                   177.457   181.31\n",
       "    8        0.2                         0.707304           2.65896    2.77457            0.836364         0.872727                    0.132948        0.554913                   165.896   177.457\n",
       "    9        0.3                         0.540394           2.16763    2.57225            0.681818         0.809091                    0.216763        0.771676                   116.763   157.225\n",
       "    10       0.4                         0.350701           1.32948    2.26156            0.418182         0.711364                    0.132948        0.904624                   32.948    126.156\n",
       "    11       0.5                         0.169808           0.693642   1.94798            0.218182         0.612727                    0.0693642       0.973988                   -30.6358  94.7977\n",
       "    12       0.6                         0.0553199          0.202312   1.65703            0.0636364        0.521212                    0.0202312       0.99422                    -79.7688  65.7033\n",
       "    13       0.7                         0.0171037          0.0289017  1.42444            0.00909091       0.448052                    0.00289017      0.99711                    -97.1098  42.4443\n",
       "    14       0.8                         0.00167499         0.0289017  1.25               0.00909091       0.393182                    0.00289017      1                          -97.1098  25\n",
       "    15       0.9                         7.00524e-06        0          1.11111            0                0.349495                    0               1                          -100      11.1111\n",
       "    16       1                           7.84271e-53        0          1                  0                0.314545                    0               1                          -100      0"
      ]
     },
     "metadata": {},
     "output_type": "display_data"
    },
    {
     "name": "stdout",
     "output_type": "stream",
     "text": [
      "\n",
      "\n",
      "\n",
      "ModelMetricsBinomialGLM: glm\n",
      "** Reported on test data. **\n",
      "\n",
      "MSE: 0.0924844340845\n",
      "RMSE: 0.304112535231\n",
      "LogLoss: 0.293350494209\n",
      "Null degrees of freedom: 1099\n",
      "Residual degrees of freedom: 1080\n",
      "Null deviance: 1369.91752662\n",
      "Residual deviance: 645.371087259\n",
      "AIC: 685.371087259\n",
      "AUC: 0.938302080618\n",
      "Gini: 0.876604161236\n",
      "Confusion Matrix (Act/Pred) for max f1 @ threshold = 0.459917896577: \n"
     ]
    },
    {
     "data": {
      "text/html": [
       "<div style=\"overflow:auto\"><table style=\"width:50%\"><tr><td><b></b></td>\n",
       "<td><b>0</b></td>\n",
       "<td><b>1</b></td>\n",
       "<td><b>Error</b></td>\n",
       "<td><b>Rate</b></td></tr>\n",
       "<tr><td>0</td>\n",
       "<td>672.0</td>\n",
       "<td>82.0</td>\n",
       "<td>0.1088</td>\n",
       "<td> (82.0/754.0)</td></tr>\n",
       "<tr><td>1</td>\n",
       "<td>50.0</td>\n",
       "<td>296.0</td>\n",
       "<td>0.1445</td>\n",
       "<td> (50.0/346.0)</td></tr>\n",
       "<tr><td>Total</td>\n",
       "<td>722.0</td>\n",
       "<td>378.0</td>\n",
       "<td>0.12</td>\n",
       "<td> (132.0/1100.0)</td></tr></table></div>"
      ],
      "text/plain": [
       "       0    1    Error    Rate\n",
       "-----  ---  ---  -------  --------------\n",
       "0      672  82   0.1088   (82.0/754.0)\n",
       "1      50   296  0.1445   (50.0/346.0)\n",
       "Total  722  378  0.12     (132.0/1100.0)"
      ]
     },
     "metadata": {},
     "output_type": "display_data"
    },
    {
     "name": "stdout",
     "output_type": "stream",
     "text": [
      "Maximum Metrics: Maximum metrics at their respective thresholds\n",
      "\n"
     ]
    },
    {
     "data": {
      "text/html": [
       "<div style=\"overflow:auto\"><table style=\"width:50%\"><tr><td><b>metric</b></td>\n",
       "<td><b>threshold</b></td>\n",
       "<td><b>value</b></td>\n",
       "<td><b>idx</b></td></tr>\n",
       "<tr><td>max f1</td>\n",
       "<td>0.4599179</td>\n",
       "<td>0.8176796</td>\n",
       "<td>205.0</td></tr>\n",
       "<tr><td>max f2</td>\n",
       "<td>0.1986326</td>\n",
       "<td>0.8721844</td>\n",
       "<td>292.0</td></tr>\n",
       "<tr><td>max f0point5</td>\n",
       "<td>0.5612604</td>\n",
       "<td>0.8130329</td>\n",
       "<td>175.0</td></tr>\n",
       "<tr><td>max accuracy</td>\n",
       "<td>0.4657436</td>\n",
       "<td>0.88</td>\n",
       "<td>203.0</td></tr>\n",
       "<tr><td>max precision</td>\n",
       "<td>0.9959224</td>\n",
       "<td>1.0</td>\n",
       "<td>0.0</td></tr>\n",
       "<tr><td>max recall</td>\n",
       "<td>0.0045545</td>\n",
       "<td>1.0</td>\n",
       "<td>390.0</td></tr>\n",
       "<tr><td>max specificity</td>\n",
       "<td>0.9959224</td>\n",
       "<td>1.0</td>\n",
       "<td>0.0</td></tr>\n",
       "<tr><td>max absolute_mcc</td>\n",
       "<td>0.4599179</td>\n",
       "<td>0.7300918</td>\n",
       "<td>205.0</td></tr>\n",
       "<tr><td>max min_per_class_accuracy</td>\n",
       "<td>0.4254614</td>\n",
       "<td>0.8728324</td>\n",
       "<td>215.0</td></tr>\n",
       "<tr><td>max mean_per_class_accuracy</td>\n",
       "<td>0.4254614</td>\n",
       "<td>0.8740820</td>\n",
       "<td>215.0</td></tr></table></div>"
      ],
      "text/plain": [
       "metric                       threshold    value     idx\n",
       "---------------------------  -----------  --------  -----\n",
       "max f1                       0.459918     0.81768   205\n",
       "max f2                       0.198633     0.872184  292\n",
       "max f0point5                 0.56126      0.813033  175\n",
       "max accuracy                 0.465744     0.88      203\n",
       "max precision                0.995922     1         0\n",
       "max recall                   0.0045545    1         390\n",
       "max specificity              0.995922     1         0\n",
       "max absolute_mcc             0.459918     0.730092  205\n",
       "max min_per_class_accuracy   0.425461     0.872832  215\n",
       "max mean_per_class_accuracy  0.425461     0.874082  215"
      ]
     },
     "metadata": {},
     "output_type": "display_data"
    },
    {
     "name": "stdout",
     "output_type": "stream",
     "text": [
      "Gains/Lift Table: Avg response rate: 31.45 %\n",
      "\n"
     ]
    },
    {
     "data": {
      "text/html": [
       "<div style=\"overflow:auto\"><table style=\"width:50%\"><tr><td><b></b></td>\n",
       "<td><b>group</b></td>\n",
       "<td><b>cumulative_data_fraction</b></td>\n",
       "<td><b>lower_threshold</b></td>\n",
       "<td><b>lift</b></td>\n",
       "<td><b>cumulative_lift</b></td>\n",
       "<td><b>response_rate</b></td>\n",
       "<td><b>cumulative_response_rate</b></td>\n",
       "<td><b>capture_rate</b></td>\n",
       "<td><b>cumulative_capture_rate</b></td>\n",
       "<td><b>gain</b></td>\n",
       "<td><b>cumulative_gain</b></td></tr>\n",
       "<tr><td></td>\n",
       "<td>1</td>\n",
       "<td>0.01</td>\n",
       "<td>0.9613985</td>\n",
       "<td>2.6011561</td>\n",
       "<td>2.6011561</td>\n",
       "<td>0.8181818</td>\n",
       "<td>0.8181818</td>\n",
       "<td>0.0260116</td>\n",
       "<td>0.0260116</td>\n",
       "<td>160.1156069</td>\n",
       "<td>160.1156069</td></tr>\n",
       "<tr><td></td>\n",
       "<td>2</td>\n",
       "<td>0.02</td>\n",
       "<td>0.9432196</td>\n",
       "<td>2.8901734</td>\n",
       "<td>2.7456647</td>\n",
       "<td>0.9090909</td>\n",
       "<td>0.8636364</td>\n",
       "<td>0.0289017</td>\n",
       "<td>0.0549133</td>\n",
       "<td>189.0173410</td>\n",
       "<td>174.5664740</td></tr>\n",
       "<tr><td></td>\n",
       "<td>3</td>\n",
       "<td>0.03</td>\n",
       "<td>0.9202747</td>\n",
       "<td>3.1791908</td>\n",
       "<td>2.8901734</td>\n",
       "<td>1.0</td>\n",
       "<td>0.9090909</td>\n",
       "<td>0.0317919</td>\n",
       "<td>0.0867052</td>\n",
       "<td>217.9190751</td>\n",
       "<td>189.0173410</td></tr>\n",
       "<tr><td></td>\n",
       "<td>4</td>\n",
       "<td>0.04</td>\n",
       "<td>0.9111951</td>\n",
       "<td>2.8901734</td>\n",
       "<td>2.8901734</td>\n",
       "<td>0.9090909</td>\n",
       "<td>0.9090909</td>\n",
       "<td>0.0289017</td>\n",
       "<td>0.1156069</td>\n",
       "<td>189.0173410</td>\n",
       "<td>189.0173410</td></tr>\n",
       "<tr><td></td>\n",
       "<td>5</td>\n",
       "<td>0.05</td>\n",
       "<td>0.9054832</td>\n",
       "<td>2.8901734</td>\n",
       "<td>2.8901734</td>\n",
       "<td>0.9090909</td>\n",
       "<td>0.9090909</td>\n",
       "<td>0.0289017</td>\n",
       "<td>0.1445087</td>\n",
       "<td>189.0173410</td>\n",
       "<td>189.0173410</td></tr>\n",
       "<tr><td></td>\n",
       "<td>6</td>\n",
       "<td>0.1</td>\n",
       "<td>0.8395551</td>\n",
       "<td>2.7167630</td>\n",
       "<td>2.8034682</td>\n",
       "<td>0.8545455</td>\n",
       "<td>0.8818182</td>\n",
       "<td>0.1358382</td>\n",
       "<td>0.2803468</td>\n",
       "<td>171.6763006</td>\n",
       "<td>180.3468208</td></tr>\n",
       "<tr><td></td>\n",
       "<td>7</td>\n",
       "<td>0.15</td>\n",
       "<td>0.7903935</td>\n",
       "<td>2.7745665</td>\n",
       "<td>2.7938343</td>\n",
       "<td>0.8727273</td>\n",
       "<td>0.8787879</td>\n",
       "<td>0.1387283</td>\n",
       "<td>0.4190751</td>\n",
       "<td>177.4566474</td>\n",
       "<td>179.3834297</td></tr>\n",
       "<tr><td></td>\n",
       "<td>8</td>\n",
       "<td>0.2</td>\n",
       "<td>0.7267433</td>\n",
       "<td>2.6589595</td>\n",
       "<td>2.7601156</td>\n",
       "<td>0.8363636</td>\n",
       "<td>0.8681818</td>\n",
       "<td>0.1329480</td>\n",
       "<td>0.5520231</td>\n",
       "<td>165.8959538</td>\n",
       "<td>176.0115607</td></tr>\n",
       "<tr><td></td>\n",
       "<td>9</td>\n",
       "<td>0.3</td>\n",
       "<td>0.5520553</td>\n",
       "<td>2.2543353</td>\n",
       "<td>2.5915222</td>\n",
       "<td>0.7090909</td>\n",
       "<td>0.8151515</td>\n",
       "<td>0.2254335</td>\n",
       "<td>0.7774566</td>\n",
       "<td>125.4335260</td>\n",
       "<td>159.1522158</td></tr>\n",
       "<tr><td></td>\n",
       "<td>10</td>\n",
       "<td>0.4</td>\n",
       "<td>0.3490327</td>\n",
       "<td>1.2427746</td>\n",
       "<td>2.2543353</td>\n",
       "<td>0.3909091</td>\n",
       "<td>0.7090909</td>\n",
       "<td>0.1242775</td>\n",
       "<td>0.9017341</td>\n",
       "<td>24.2774566</td>\n",
       "<td>125.4335260</td></tr>\n",
       "<tr><td></td>\n",
       "<td>11</td>\n",
       "<td>0.5</td>\n",
       "<td>0.1526978</td>\n",
       "<td>0.7225434</td>\n",
       "<td>1.9479769</td>\n",
       "<td>0.2272727</td>\n",
       "<td>0.6127273</td>\n",
       "<td>0.0722543</td>\n",
       "<td>0.9739884</td>\n",
       "<td>-27.7456647</td>\n",
       "<td>94.7976879</td></tr>\n",
       "<tr><td></td>\n",
       "<td>12</td>\n",
       "<td>0.6</td>\n",
       "<td>0.0417202</td>\n",
       "<td>0.2023121</td>\n",
       "<td>1.6570328</td>\n",
       "<td>0.0636364</td>\n",
       "<td>0.5212121</td>\n",
       "<td>0.0202312</td>\n",
       "<td>0.9942197</td>\n",
       "<td>-79.7687861</td>\n",
       "<td>65.7032755</td></tr>\n",
       "<tr><td></td>\n",
       "<td>13</td>\n",
       "<td>0.7</td>\n",
       "<td>0.0074768</td>\n",
       "<td>0.0289017</td>\n",
       "<td>1.4244426</td>\n",
       "<td>0.0090909</td>\n",
       "<td>0.4480519</td>\n",
       "<td>0.0028902</td>\n",
       "<td>0.9971098</td>\n",
       "<td>-97.1098266</td>\n",
       "<td>42.4442609</td></tr>\n",
       "<tr><td></td>\n",
       "<td>14</td>\n",
       "<td>0.8</td>\n",
       "<td>0.0003162</td>\n",
       "<td>0.0289017</td>\n",
       "<td>1.25</td>\n",
       "<td>0.0090909</td>\n",
       "<td>0.3931818</td>\n",
       "<td>0.0028902</td>\n",
       "<td>1.0</td>\n",
       "<td>-97.1098266</td>\n",
       "<td>25.0</td></tr>\n",
       "<tr><td></td>\n",
       "<td>15</td>\n",
       "<td>0.9</td>\n",
       "<td>0.0000001</td>\n",
       "<td>0.0</td>\n",
       "<td>1.1111111</td>\n",
       "<td>0.0</td>\n",
       "<td>0.3494949</td>\n",
       "<td>0.0</td>\n",
       "<td>1.0</td>\n",
       "<td>-100.0</td>\n",
       "<td>11.1111111</td></tr>\n",
       "<tr><td></td>\n",
       "<td>16</td>\n",
       "<td>1.0</td>\n",
       "<td>0.0000000</td>\n",
       "<td>0.0</td>\n",
       "<td>1.0</td>\n",
       "<td>0.0</td>\n",
       "<td>0.3145455</td>\n",
       "<td>0.0</td>\n",
       "<td>1.0</td>\n",
       "<td>-100.0</td>\n",
       "<td>0.0</td></tr></table></div>"
      ],
      "text/plain": [
       "    group    cumulative_data_fraction    lower_threshold    lift       cumulative_lift    response_rate    cumulative_response_rate    capture_rate    cumulative_capture_rate    gain      cumulative_gain\n",
       "--  -------  --------------------------  -----------------  ---------  -----------------  ---------------  --------------------------  --------------  -------------------------  --------  -----------------\n",
       "    1        0.01                        0.961399           2.60116    2.60116            0.818182         0.818182                    0.0260116       0.0260116                  160.116   160.116\n",
       "    2        0.02                        0.94322            2.89017    2.74566            0.909091         0.863636                    0.0289017       0.0549133                  189.017   174.566\n",
       "    3        0.03                        0.920275           3.17919    2.89017            1                0.909091                    0.0317919       0.0867052                  217.919   189.017\n",
       "    4        0.04                        0.911195           2.89017    2.89017            0.909091         0.909091                    0.0289017       0.115607                   189.017   189.017\n",
       "    5        0.05                        0.905483           2.89017    2.89017            0.909091         0.909091                    0.0289017       0.144509                   189.017   189.017\n",
       "    6        0.1                         0.839555           2.71676    2.80347            0.854545         0.881818                    0.135838        0.280347                   171.676   180.347\n",
       "    7        0.15                        0.790394           2.77457    2.79383            0.872727         0.878788                    0.138728        0.419075                   177.457   179.383\n",
       "    8        0.2                         0.726743           2.65896    2.76012            0.836364         0.868182                    0.132948        0.552023                   165.896   176.012\n",
       "    9        0.3                         0.552055           2.25434    2.59152            0.709091         0.815152                    0.225434        0.777457                   125.434   159.152\n",
       "    10       0.4                         0.349033           1.24277    2.25434            0.390909         0.709091                    0.124277        0.901734                   24.2775   125.434\n",
       "    11       0.5                         0.152698           0.722543   1.94798            0.227273         0.612727                    0.0722543       0.973988                   -27.7457  94.7977\n",
       "    12       0.6                         0.0417202          0.202312   1.65703            0.0636364        0.521212                    0.0202312       0.99422                    -79.7688  65.7033\n",
       "    13       0.7                         0.00747677         0.0289017  1.42444            0.00909091       0.448052                    0.00289017      0.99711                    -97.1098  42.4443\n",
       "    14       0.8                         0.000316177        0.0289017  1.25               0.00909091       0.393182                    0.00289017      1                          -97.1098  25\n",
       "    15       0.9                         1.24048e-07        0          1.11111            0                0.349495                    0               1                          -100      11.1111\n",
       "    16       1                           2.24978e-66        0          1                  0                0.314545                    0               1                          -100      0"
      ]
     },
     "metadata": {},
     "output_type": "display_data"
    },
    {
     "name": "stdout",
     "output_type": "stream",
     "text": [
      "\n",
      "\n"
     ]
    }
   ],
   "source": [
    "print glm_perf1\n",
    "print glm_perf2"
   ]
  },
  {
   "cell_type": "code",
   "execution_count": 15,
   "metadata": {
    "scrolled": false
   },
   "outputs": [
    {
     "name": "stdout",
     "output_type": "stream",
     "text": [
      "0.937075481823\n",
      "0.938302080618\n"
     ]
    }
   ],
   "source": [
    "# Retreive test set AUC\n",
    "print glm_perf1.auc()\n",
    "print glm_perf2.auc()"
   ]
  },
  {
   "cell_type": "code",
   "execution_count": 16,
   "metadata": {
    "scrolled": false
   },
   "outputs": [
    {
     "name": "stdout",
     "output_type": "stream",
     "text": [
      "0.933090149336\n",
      "0.940118343195\n"
     ]
    }
   ],
   "source": [
    "print glm_fit2.auc(train=True)\n",
    "print glm_fit2.auc(valid=True)"
   ]
  },
  {
   "cell_type": "code",
   "execution_count": 64,
   "metadata": {
    "scrolled": false
   },
   "outputs": [
    {
     "name": "stdout",
     "output_type": "stream",
     "text": [
      "Parse progress: |█████████████████████████████████████████████████████████| 100%\n"
     ]
    }
   ],
   "source": [
    "candidate_csv = \"data/candidates.csv\"\n",
    "candidateData = h2o.import_file(candidate_csv)"
   ]
  },
  {
   "cell_type": "code",
   "execution_count": 65,
   "metadata": {
    "scrolled": false
   },
   "outputs": [
    {
     "name": "stdout",
     "output_type": "stream",
     "text": [
      "glm prediction progress: |████████████████████████████████████████████████| 100%\n"
     ]
    }
   ],
   "source": [
    "glmpredict = glm_fit2.predict(candidateData)"
   ]
  },
  {
   "cell_type": "code",
   "execution_count": 58,
   "metadata": {
    "scrolled": false
   },
   "outputs": [
    {
     "name": "stdout",
     "output_type": "stream",
     "text": [
      "Rows:2248\n",
      "Cols:3\n",
      "\n",
      "\n"
     ]
    },
    {
     "data": {
      "text/html": [
       "<table>\n",
       "<thead>\n",
       "<tr><th>       </th><th>predict  </th><th>p0              </th><th>p1             </th></tr>\n",
       "</thead>\n",
       "<tbody>\n",
       "<tr><td>type   </td><td>enum     </td><td>real            </td><td>real           </td></tr>\n",
       "<tr><td>mins   </td><td>         </td><td>0.00200461660718</td><td>0.0            </td></tr>\n",
       "<tr><td>mean   </td><td>         </td><td>0.540992150735  </td><td>0.459007849265 </td></tr>\n",
       "<tr><td>maxs   </td><td>         </td><td>1.0             </td><td>0.997995383393 </td></tr>\n",
       "<tr><td>sigma  </td><td>         </td><td>0.326781910368  </td><td>0.326781910368 </td></tr>\n",
       "<tr><td>zeros  </td><td>         </td><td>0               </td><td>1              </td></tr>\n",
       "<tr><td>missing</td><td>0        </td><td>0               </td><td>0              </td></tr>\n",
       "<tr><td>0      </td><td>1        </td><td>0.598028562065  </td><td>0.401971437935 </td></tr>\n",
       "<tr><td>1      </td><td>1        </td><td>0.465241847369  </td><td>0.534758152631 </td></tr>\n",
       "<tr><td>2      </td><td>1        </td><td>0.326275602618  </td><td>0.673724397382 </td></tr>\n",
       "<tr><td>3      </td><td>1        </td><td>0.18355352388   </td><td>0.81644647612  </td></tr>\n",
       "<tr><td>4      </td><td>0        </td><td>0.952788918331  </td><td>0.0472110816688</td></tr>\n",
       "<tr><td>5      </td><td>0        </td><td>0.728594744735  </td><td>0.271405255265 </td></tr>\n",
       "<tr><td>6      </td><td>0        </td><td>0.845788651522  </td><td>0.154211348478 </td></tr>\n",
       "<tr><td>7      </td><td>1        </td><td>0.192214165727  </td><td>0.807785834273 </td></tr>\n",
       "<tr><td>8      </td><td>1        </td><td>0.190305927131  </td><td>0.809694072869 </td></tr>\n",
       "<tr><td>9      </td><td>1        </td><td>0.423881085474  </td><td>0.576118914526 </td></tr>\n",
       "</tbody>\n",
       "</table>"
      ]
     },
     "metadata": {},
     "output_type": "display_data"
    }
   ],
   "source": [
    "glmpredict.describe()"
   ]
  },
  {
   "cell_type": "code",
   "execution_count": 72,
   "metadata": {
    "scrolled": false
   },
   "outputs": [],
   "source": [
    "#header = [\"Kepler ID\", \"IsExoplanet\", \"Exoplanet Probability\"]\n",
    "#table  = []\n",
    "#for i in range(50):\n",
    "    #table.append([int(candidateData[i,\"kepid\"]), glmpredict[i,\"predict\"], glmpredict[i,\"p1\"]])\n",
    "#h2o.display.H2ODisplay(table, header)"
   ]
  },
  {
   "cell_type": "code",
   "execution_count": 73,
   "metadata": {},
   "outputs": [
    {
     "name": "stdout",
     "output_type": "stream",
     "text": [
      "Rows:2248\n",
      "Cols:23\n",
      "\n",
      "\n"
     ]
    },
    {
     "data": {
      "text/html": [
       "<table>\n",
       "<thead>\n",
       "<tr><th>       </th><th>rowid        </th><th>kepid        </th><th>koi_disposition  </th><th>koi_period   </th><th>koi_time0bk  </th><th>koi_impact    </th><th>koi_duration  </th><th>koi_depth    </th><th>koi_prad    </th><th>koi_teq      </th><th>koi_insol    </th><th>koi_model_snr  </th><th>koi_tce_plnt_num  </th><th>koi_tce_delivname  </th><th>koi_steff    </th><th>koi_slogg     </th><th>koi_srad     </th><th>ra           </th><th>dec          </th><th>koi_kepmag   </th><th>predict  </th><th>p0              </th><th>p1             </th></tr>\n",
       "</thead>\n",
       "<tbody>\n",
       "<tr><td>type   </td><td>int          </td><td>int          </td><td>enum             </td><td>real         </td><td>real         </td><td>real          </td><td>real          </td><td>real         </td><td>real        </td><td>int          </td><td>real         </td><td>real           </td><td>int               </td><td>enum               </td><td>int          </td><td>real          </td><td>real         </td><td>real         </td><td>real         </td><td>real         </td><td>enum     </td><td>real            </td><td>real           </td></tr>\n",
       "<tr><td>mins   </td><td>38.0         </td><td>1026957.0    </td><td>                 </td><td>0.259819659  </td><td>129.7295     </td><td>0.0           </td><td>0.052         </td><td>0.0          </td><td>0.22        </td><td>25.0         </td><td>0.0          </td><td>0.0            </td><td>1.0               </td><td>                   </td><td>2661.0       </td><td>0.114         </td><td>0.109        </td><td>280.31488    </td><td>36.74361     </td><td>7.748        </td><td>         </td><td>0.00200461660718</td><td>0.0            </td></tr>\n",
       "<tr><td>mean   </td><td>4953.38300712</td><td>7793188.69929</td><td>                 </td><td>130.530637572</td><td>170.09527256 </td><td>0.537167871854</td><td>4.82746141459 </td><td>1864.28773455</td><td>15.931610984</td><td>882.267734554</td><td>5356.90518298</td><td>45.5952402746  </td><td>1.29481889042     </td><td>                   </td><td>5639.76659039</td><td>4.33148100686 </td><td>1.56631121281</td><td>291.789594786</td><td>43.9494900085</td><td>14.3381481317</td><td>         </td><td>0.540992150735  </td><td>0.459007849265 </td></tr>\n",
       "<tr><td>maxs   </td><td>9562.0       </td><td>12885212.0   </td><td>                 </td><td>129995.7784  </td><td>657.26877    </td><td>64.5159       </td><td>44.35         </td><td>363130.0     </td><td>13333.5     </td><td>13184.0      </td><td>7165673.12   </td><td>6788.8         </td><td>7.0               </td><td>                   </td><td>10894.0      </td><td>5.364         </td><td>152.969      </td><td>301.6618     </td><td>52.220341    </td><td>17.305       </td><td>         </td><td>1.0             </td><td>0.997995383393 </td></tr>\n",
       "<tr><td>sigma  </td><td>2609.69043662</td><td>2645966.94509</td><td>                 </td><td>2744.15611153</td><td>73.0627218262</td><td>1.99001464449 </td><td>4.41385284965 </td><td>12502.0940207</td><td>316.93728348</td><td>665.610849735</td><td>155887.724415</td><td>231.866563431  </td><td>0.706922342861    </td><td>                   </td><td>693.971279584</td><td>0.390856809511</td><td>5.8751460049 </td><td>4.82784636236</td><td>3.6034967054 </td><td>1.31090857203</td><td>         </td><td>0.326781910368  </td><td>0.326781910368 </td></tr>\n",
       "<tr><td>zeros  </td><td>0            </td><td>0            </td><td>                 </td><td>0            </td><td>0            </td><td>3             </td><td>0             </td><td>1            </td><td>0           </td><td>0            </td><td>1            </td><td>1              </td><td>0                 </td><td>                   </td><td>0            </td><td>0             </td><td>0            </td><td>0            </td><td>0            </td><td>0            </td><td>         </td><td>0               </td><td>1              </td></tr>\n",
       "<tr><td>missing</td><td>0            </td><td>0            </td><td>0                </td><td>0            </td><td>0            </td><td>63            </td><td>0             </td><td>63           </td><td>63          </td><td>63           </td><td>62           </td><td>63             </td><td>67                </td><td>67                 </td><td>63           </td><td>63            </td><td>63           </td><td>0            </td><td>0            </td><td>0            </td><td>0        </td><td>0               </td><td>0              </td></tr>\n",
       "<tr><td>0      </td><td>38.0         </td><td>11138155.0   </td><td>CANDIDATE        </td><td>4.959319244  </td><td>172.2585292  </td><td>0.831         </td><td>2.22739       </td><td>9802.0       </td><td>12.21       </td><td>1103.0       </td><td>349.4        </td><td>696.5          </td><td>1.0               </td><td>q1_q17_dr25_tce    </td><td>5712.0       </td><td>4.359         </td><td>1.082        </td><td>292.16705    </td><td>48.727589    </td><td>15.263       </td><td>1        </td><td>0.598028562065  </td><td>0.401971437935 </td></tr>\n",
       "<tr><td>1      </td><td>59.0         </td><td>11818800.0   </td><td>CANDIDATE        </td><td>40.4195037   </td><td>173.56469    </td><td>0.911         </td><td>3.362         </td><td>6256.0       </td><td>7.51        </td><td>467.0        </td><td>11.29        </td><td>36.9           </td><td>1.0               </td><td>q1_q17_dr25_tce    </td><td>5446.0       </td><td>4.507         </td><td>0.781        </td><td>294.31686    </td><td>50.080231    </td><td>15.487       </td><td>1        </td><td>0.465241847369  </td><td>0.534758152631 </td></tr>\n",
       "<tr><td>2      </td><td>63.0         </td><td>11918099.0   </td><td>CANDIDATE        </td><td>7.2406612    </td><td>137.75545    </td><td>1.198         </td><td>0.558         </td><td>556.4        </td><td>19.45       </td><td>734.0        </td><td>68.63        </td><td>13.7           </td><td>2.0               </td><td>q1_q17_dr25_tce    </td><td>5005.0       </td><td>4.595         </td><td>0.765        </td><td>293.83331    </td><td>50.23035     </td><td>15.334       </td><td>1        </td><td>0.326275602618  </td><td>0.673724397382 </td></tr>\n",
       "<tr><td>3      </td><td>64.0         </td><td>9579641.0    </td><td>CANDIDATE        </td><td>3.43591631   </td><td>132.6624     </td><td>0.624         </td><td>3.133         </td><td>23.2         </td><td>0.55        </td><td>1272.0       </td><td>617.61       </td><td>8.7            </td><td>3.0               </td><td>q1_q17_dr25_tce    </td><td>5779.0       </td><td>4.339         </td><td>1.087        </td><td>287.88733    </td><td>46.276241    </td><td>12.791       </td><td>1        </td><td>0.18355352388   </td><td>0.81644647612  </td></tr>\n",
       "<tr><td>4      </td><td>73.0         </td><td>3246984.0    </td><td>CANDIDATE        </td><td>1.626630225  </td><td>169.820171   </td><td>1.26          </td><td>2.1145        </td><td>1620.6       </td><td>32.43       </td><td>1547.0       </td><td>1355.88      </td><td>103.6          </td><td>1.0               </td><td>q1_q17_dr25_tce    </td><td>5735.0       </td><td>4.41          </td><td>0.973        </td><td>294.36819    </td><td>38.31028     </td><td>15.279       </td><td>0        </td><td>0.952788918331  </td><td>0.0472110816688</td></tr>\n",
       "<tr><td>5      </td><td>85.0         </td><td>3115833.0    </td><td>CANDIDATE        </td><td>10.181584004 </td><td>177.141891   </td><td>0.92          </td><td>3.5089        </td><td>5741.1       </td><td>7.73        </td><td>812.0        </td><td>102.91       </td><td>183.6          </td><td>1.0               </td><td>q1_q17_dr25_tce    </td><td>5988.0       </td><td>4.541         </td><td>0.836        </td><td>291.28195    </td><td>38.241669    </td><td>15.657       </td><td>0        </td><td>0.728594744735  </td><td>0.271405255265 </td></tr>\n",
       "<tr><td>6      </td><td>93.0         </td><td>3453214.0    </td><td>CANDIDATE        </td><td>19.620346923 </td><td>181.881819   </td><td>0.458         </td><td>2.0038        </td><td>21725.0      </td><td>13.6        </td><td>643.0        </td><td>40.39        </td><td>340.5          </td><td>1.0               </td><td>q1_q17_dr25_tce    </td><td>5710.0       </td><td>4.492         </td><td>0.905        </td><td>293.81619    </td><td>38.563568    </td><td>15.562       </td><td>0        </td><td>0.845788651522  </td><td>0.154211348478 </td></tr>\n",
       "<tr><td>7      </td><td>95.0         </td><td>3641726.0    </td><td>CANDIDATE        </td><td>9.02930689   </td><td>177.20422    </td><td>0.024         </td><td>3.1449        </td><td>1019.8       </td><td>2.57        </td><td>757.0        </td><td>77.75        </td><td>53.9           </td><td>1.0               </td><td>q1_q17_dr25_tce    </td><td>5349.0       </td><td>4.526         </td><td>0.82         </td><td>290.33362    </td><td>38.72823     </td><td>15.387       </td><td>1        </td><td>0.192214165727  </td><td>0.807785834273 </td></tr>\n",
       "<tr><td>8      </td><td>104.0        </td><td>3940418.0    </td><td>CANDIDATE        </td><td>4.783002698  </td><td>170.508434   </td><td>0.003         </td><td>2.335         </td><td>1008.7       </td><td>2.5         </td><td>886.0        </td><td>145.48       </td><td>70.6           </td><td>1.0               </td><td>q1_q17_dr25_tce    </td><td>5170.0       </td><td>4.574         </td><td>0.807        </td><td>287.09399    </td><td>39.060719    </td><td>15.119       </td><td>1        </td><td>0.190305927131  </td><td>0.809694072869 </td></tr>\n",
       "<tr><td>9      </td><td>113.0        </td><td>4544670.0    </td><td>CANDIDATE        </td><td>34.84398644  </td><td>172.633252   </td><td>0.934         </td><td>2.9315        </td><td>4523.6       </td><td>7.61        </td><td>511.0        </td><td>16.1         </td><td>76.8           </td><td>1.0               </td><td>q1_q17_dr25_tce    </td><td>5509.0       </td><td>4.482         </td><td>0.871        </td><td>285.92001    </td><td>39.624828    </td><td>15.684       </td><td>1        </td><td>0.423881085474  </td><td>0.576118914526 </td></tr>\n",
       "</tbody>\n",
       "</table>"
      ]
     },
     "metadata": {},
     "output_type": "display_data"
    },
    {
     "name": "stdout",
     "output_type": "stream",
     "text": [
      "Export File progress: |███████████████████████████████████████████████████| 100%\n"
     ]
    }
   ],
   "source": [
    "candidateCombine = candidateData.cbind(glmpredict)\n",
    "candidateCombine.describe()\n",
    "h2o.export_file(candidateCombine, \"data/candidate_predict.csv\")"
   ]
  },
  {
   "cell_type": "code",
   "execution_count": 74,
   "metadata": {
    "scrolled": false
   },
   "outputs": [
    {
     "name": "stdout",
     "output_type": "stream",
     "text": [
      "H2O session _sid_a4c9 closed.\n"
     ]
    }
   ],
   "source": [
    "h2o.cluster().shutdown(prompt=False)"
   ]
  },
  {
   "cell_type": "code",
   "execution_count": null,
   "metadata": {
    "collapsed": true,
    "scrolled": false
   },
   "outputs": [],
   "source": []
  }
 ],
 "metadata": {
  "kernelspec": {
   "display_name": "Python 2",
   "language": "python",
   "name": "python2"
  },
  "language_info": {
   "codemirror_mode": {
    "name": "ipython",
    "version": 2
   },
   "file_extension": ".py",
   "mimetype": "text/x-python",
   "name": "python",
   "nbconvert_exporter": "python",
   "pygments_lexer": "ipython2",
   "version": "2.7.12"
  }
 },
 "nbformat": 4,
 "nbformat_minor": 2
}
